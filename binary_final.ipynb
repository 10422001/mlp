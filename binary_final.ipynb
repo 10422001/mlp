{
 "cells": [
  {
   "cell_type": "code",
   "execution_count": 4,
   "metadata": {
    "collapsed": true
   },
   "outputs": [
    {
     "name": "stdout",
     "output_type": "stream",
     "text": [
      "MyDataSets.MyDataSets_Subset.__init__\n",
      "[   0    1    2 ... 9997 9998 9999]\n",
      "self.train_loader_subset_size = 11791\n",
      "self.train_loader_subset_size = 11791\n",
      "self.train_loader_subset = <torch.utils.data.dataloader.DataLoader object at 0x15747ded0>\n",
      "self.test_loader_subset_size = 1991\n"
     ]
    }
   ],
   "source": [
    "import model\n",
    "import helper\n",
    "import MyDataSet\n",
    "\n",
    "MyDataSets_Subset = MyDataSet.MyDataSets_Subset()"
   ]
  },
  {
   "cell_type": "code",
   "execution_count": 4,
   "outputs": [
    {
     "name": "stdout",
     "output_type": "stream",
     "text": [
      "model_name = 'VaeFinal_only_one_hidden'\n",
      "VaeFinal_only_one_hidden_weights imported\n",
      "tensor([[-1.2031, -0.5948]])\n"
     ]
    },
    {
     "data": {
      "text/plain": "<Figure size 432x288 with 1 Axes>",
      "image/png": "[encoded data removed]"
     },
     "metadata": {
      "needs_background": "light"
     },
     "output_type": "display_data"
    }
   ],
   "source": [
    "import helper# model_loaded = model.VaeMe_500_hidden()\n",
    "import model\n",
    "import torch\n",
    "pick_model = model.VaeFinal_only_one_hidden(LATTENT_SPACE=2,\n",
    "                     HIDDEN_1_LAYER=200)\n",
    "pick_model = helper.import_model_name(model_x=pick_model, activate_eval=True)\n",
    "max = -1.25\n",
    "min = -.5\n",
    "rand_tensor = (max-min)*torch.rand((1, 2)) + min\n",
    "print(rand_tensor)\n",
    "\n",
    "helper.latent_rand_to_img(pick_model,rand_tensor)"
   ],
   "metadata": {
    "collapsed": false
   }
  },
  {
   "cell_type": "code",
   "execution_count": 5,
   "outputs": [
    {
     "ename": "NameError",
     "evalue": "name 'MyDataSets_Subset' is not defined",
     "output_type": "error",
     "traceback": [
      "\u001B[0;31m---------------------------------------------------------------------------\u001B[0m",
      "\u001B[0;31mNameError\u001B[0m                                 Traceback (most recent call last)",
      "Input \u001B[0;32mIn [5]\u001B[0m, in \u001B[0;36m<cell line: 1>\u001B[0;34m()\u001B[0m\n\u001B[0;32m----> 1\u001B[0m helper\u001B[38;5;241m.\u001B[39mshow_scatter_with_batch_from_iter(model\u001B[38;5;241m=\u001B[39mpick_model, batch_from_dataloader_iter\u001B[38;5;241m=\u001B[39m\u001B[43mMyDataSets_Subset\u001B[49m\u001B[38;5;241m.\u001B[39mdataloader_test_subset_one_batch(),current_epoch\u001B[38;5;241m=\u001B[39m\u001B[38;5;124m'\u001B[39m\u001B[38;5;124m'\u001B[39m)\n",
      "\u001B[0;31mNameError\u001B[0m: name 'MyDataSets_Subset' is not defined"
     ]
    }
   ],
   "source": [
    "helper.show_scatter_with_batch_from_iter(model=pick_model, batch_from_dataloader_iter=MyDataSets_Subset.dataloader_test_subset_one_batch(),current_epoch='')"
   ],
   "metadata": {
    "collapsed": false
   }
  },
  {
   "cell_type": "code",
   "execution_count": null,
   "outputs": [],
   "source": [],
   "metadata": {
    "collapsed": false
   }
  }
 ],
 "metadata": {
  "kernelspec": {
   "display_name": "Python 3",
   "language": "python",
   "name": "python3"
  },
  "language_info": {
   "codemirror_mode": {
    "name": "ipython",
    "version": 2
   },
   "file_extension": ".py",
   "mimetype": "text/x-python",
   "name": "python",
   "nbconvert_exporter": "python",
   "pygments_lexer": "ipython2",
   "version": "2.7.6"
  }
 },
 "nbformat": 4,
 "nbformat_minor": 0
}
