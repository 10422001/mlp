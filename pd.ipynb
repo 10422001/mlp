{
 "cells": [
  {
   "cell_type": "markdown",
   "source": [],
   "metadata": {
    "collapsed": false
   }
  },
  {
   "cell_type": "markdown",
   "source": [],
   "metadata": {
    "collapsed": false
   }
  },
  {
   "cell_type": "code",
   "execution_count": 11,
   "metadata": {
    "collapsed": true
   },
   "outputs": [],
   "source": [
    "import matplotlib.pyplot as plt\n",
    "import pandas as pd\n",
    "import torch\n",
    "\n",
    "import model\n",
    "import helper"
   ]
  },
  {
   "cell_type": "code",
   "execution_count": 12,
   "outputs": [],
   "source": [
    "model_copy_vae = model.VaeFinal_only_one_hidden_copy()\n",
    "model_copy_vae = helper.import_model_name_weights_copy(model_x=model_copy_vae, activate_eval=True)\n",
    "\n",
    "# model_copy\n",
    "model_copy = model.VaeFinal_only_one_hidden_copy()\n",
    "model_copy = helper.import_model_name_weights_copy(model_x=model_copy, activate_eval=True)"
   ],
   "metadata": {
    "collapsed": false
   }
  },
  {
   "cell_type": "code",
   "execution_count": 13,
   "outputs": [
    {
     "name": "stdout",
     "output_type": "stream",
     "text": [
      "MyDataSets.MyDataSets_Subset_4_9.__init__\n",
      "mu49.shape = torch.Size([11791, 2])\n",
      "z.shape = torch.Size([11791, 2])\n",
      "label_49_batch.shape = torch.Size([11791])\n"
     ]
    }
   ],
   "source": [
    "import MyDataSet\n",
    "import pandas as pd\n",
    "import torch\n",
    "# dataset_test_4 = MyDataSet.MyDataSets_Subset_4(batch_size_train=-1)\n",
    "with torch.no_grad():\n",
    "    dataset_49 = MyDataSet.MyDataSets_Subset_4_9(batch_size_train=-1)\n",
    "    # dataset_test_9 = MyDataSet.MyDataSets_Subset_9(batch_size_train=-1)\n",
    "    img_49_batch, label_49_batch = next(iter(dataset_49.train_loader_subset_changed_labels))\n",
    "    rec49,mu49,sigma49 = model_copy(img_49_batch.clone())\n",
    "    z = mu49\n",
    "    print(f'{mu49.shape = }')\n",
    "    print(f'{z.shape = }')\n",
    "    print(f'{label_49_batch.shape = }')\n",
    "    # df = pd.read_csv(lattent)"
   ],
   "metadata": {
    "collapsed": false
   }
  },
  {
   "cell_type": "code",
   "execution_count": 14,
   "outputs": [],
   "source": [
    "df = pd.DataFrame({'z0': rec49[:,0], 'z1': rec49[:,1], 'labels': label_49_batch})\n"
   ],
   "metadata": {
    "collapsed": false
   }
  },
  {
   "cell_type": "code",
   "execution_count": 15,
   "outputs": [],
   "source": [
    "# df['labels'].iloc[1\n",
    "# ]\n",
    "# df['z']"
   ],
   "metadata": {
    "collapsed": false
   }
  },
  {
   "cell_type": "code",
   "execution_count": 16,
   "outputs": [
    {
     "data": {
      "text/plain": "11791"
     },
     "execution_count": 16,
     "metadata": {},
     "output_type": "execute_result"
    }
   ],
   "source": [
    "import MyDataSet\n",
    "mcd = MyDataSet.MyCustomDataset(df)\n",
    "mcd.__len__()"
   ],
   "metadata": {
    "collapsed": false
   }
  },
  {
   "cell_type": "code",
   "execution_count": 26,
   "outputs": [],
   "source": [
    "import torch\n",
    "import torch.utils.data\n",
    "dataloader = torch.utils.data.DataLoader(mcd,batch_size=1000)"
   ],
   "metadata": {
    "collapsed": false
   }
  },
  {
   "cell_type": "code",
   "execution_count": 27,
   "outputs": [],
   "source": [
    "dataIter = iter(dataloader)"
   ],
   "metadata": {
    "collapsed": false
   }
  },
  {
   "cell_type": "code",
   "execution_count": 28,
   "outputs": [
    {
     "data": {
      "text/plain": "[tensor([[ 0.0077,  0.0051],\n         [ 0.0029,  0.0017],\n         [ 0.0036,  0.0117],\n         ...,\n         [-0.0007,  0.0042],\n         [ 0.0034,  0.0066],\n         [ 0.0120, -0.0049]]),\n tensor([1, 0, 1, 0, 0, 0, 0, 1, 0, 0, 1, 0, 0, 0, 1, 0, 0, 1, 1, 0, 1, 0, 0, 1,\n         1, 0, 1, 1, 0, 0, 0, 0, 0, 1, 0, 1, 0, 1, 0, 1, 1, 0, 0, 1, 1, 0, 0, 0,\n         0, 0, 1, 0, 0, 0, 1, 0, 1, 0, 1, 1, 1, 1, 1, 0, 1, 1, 1, 0, 0, 1, 1, 1,\n         0, 0, 1, 1, 1, 1, 0, 1, 0, 1, 1, 0, 0, 1, 1, 0, 1, 0, 1, 0, 1, 1, 1, 0,\n         1, 0, 0, 1, 0, 0, 1, 0, 0, 0, 1, 1, 0, 0, 0, 0, 0, 0, 0, 1, 0, 0, 1, 0,\n         0, 0, 0, 0, 0, 1, 1, 0, 0, 0, 1, 0, 1, 0, 1, 1, 0, 0, 0, 0, 1, 1, 0, 1,\n         0, 0, 0, 0, 1, 0, 1, 0, 0, 0, 0, 0, 0, 0, 1, 1, 1, 0, 0, 1, 0, 1, 1, 0,\n         0, 0, 1, 1, 0, 0, 1, 1, 1, 1, 1, 1, 1, 1, 1, 1, 1, 0, 1, 0, 0, 0, 1, 0,\n         1, 0, 0, 1, 1, 0, 0, 0, 0, 0, 0, 1, 1, 0, 1, 0, 0, 0, 1, 1, 0, 1, 0, 1,\n         1, 0, 1, 1, 0, 1, 1, 0, 1, 1, 1, 1, 0, 0, 1, 0, 0, 1, 1, 1, 1, 1, 0, 1,\n         1, 0, 0, 1, 1, 0, 0, 0, 0, 0, 0, 1, 0, 1, 0, 0, 1, 1, 1, 0, 0, 1, 0, 1,\n         0, 0, 1, 1, 0, 1, 1, 1, 0, 1, 0, 1, 0, 1, 0, 1, 1, 0, 0, 1, 0, 0, 0, 1,\n         0, 0, 1, 0, 1, 1, 1, 1, 1, 0, 0, 0, 1, 1, 0, 0, 1, 0, 1, 1, 1, 0, 0, 0,\n         1, 1, 0, 1, 1, 0, 1, 1, 1, 0, 0, 1, 1, 0, 0, 1, 1, 0, 1, 0, 0, 1, 1, 1,\n         0, 1, 0, 1, 1, 0, 1, 1, 1, 0, 0, 1, 0, 1, 1, 1, 0, 1, 0, 0, 0, 1, 0, 0,\n         0, 0, 1, 0, 1, 0, 0, 1, 0, 0, 0, 1, 1, 0, 0, 1, 1, 0, 0, 1, 0, 1, 0, 1,\n         0, 0, 0, 1, 0, 1, 0, 0, 0, 1, 0, 1, 0, 1, 0, 1, 0, 0, 1, 0, 0, 0, 0, 0,\n         1, 1, 1, 1, 1, 0, 0, 0, 1, 1, 1, 1, 1, 1, 1, 0, 0, 1, 1, 0, 1, 1, 1, 1,\n         1, 0, 1, 1, 1, 0, 1, 1, 0, 0, 0, 0, 1, 1, 1, 1, 0, 1, 0, 1, 0, 1, 0, 1,\n         0, 0, 0, 0, 1, 1, 1, 0, 1, 1, 1, 0, 0, 1, 1, 1, 0, 1, 0, 0, 1, 0, 1, 0,\n         0, 1, 1, 1, 0, 1, 1, 0, 0, 0, 1, 0, 1, 1, 1, 1, 1, 1, 1, 0, 0, 0, 1, 0,\n         1, 0, 0, 0, 1, 1, 0, 1, 1, 1, 0, 1, 0, 1, 0, 1, 0, 0, 0, 0, 1, 0, 0, 0,\n         1, 0, 0, 1, 1, 0, 1, 1, 0, 0, 0, 1, 0, 0, 1, 0, 1, 0, 0, 1, 1, 0, 1, 0,\n         0, 1, 0, 1, 1, 1, 1, 0, 0, 0, 0, 1, 0, 0, 1, 1, 0, 0, 0, 1, 1, 1, 1, 0,\n         0, 0, 0, 1, 1, 1, 0, 0, 1, 1, 0, 0, 1, 1, 1, 1, 0, 0, 1, 0, 0, 1, 0, 1,\n         1, 0, 1, 1, 1, 1, 1, 0, 1, 0, 0, 0, 0, 1, 0, 1, 1, 0, 1, 1, 1, 0, 0, 0,\n         1, 1, 0, 1, 0, 0, 0, 0, 1, 0, 0, 0, 0, 1, 1, 1, 0, 0, 1, 0, 0, 0, 0, 0,\n         0, 0, 0, 0, 1, 0, 0, 0, 1, 0, 0, 0, 1, 0, 0, 1, 1, 1, 0, 0, 0, 0, 0, 1,\n         0, 1, 1, 1, 1, 1, 0, 1, 0, 0, 0, 1, 0, 1, 0, 1, 0, 1, 1, 1, 1, 1, 1, 1,\n         0, 1, 1, 0, 0, 0, 0, 1, 0, 0, 1, 0, 1, 1, 1, 0, 0, 0, 0, 0, 0, 1, 1, 1,\n         1, 0, 1, 0, 0, 0, 1, 1, 1, 0, 1, 1, 0, 1, 0, 0, 1, 0, 1, 1, 0, 1, 0, 1,\n         0, 1, 0, 0, 0, 0, 1, 0, 1, 1, 1, 1, 0, 0, 1, 1, 1, 1, 1, 0, 1, 0, 0, 1,\n         0, 1, 1, 0, 1, 0, 0, 1, 0, 0, 0, 1, 0, 1, 0, 1, 1, 1, 1, 0, 1, 0, 1, 1,\n         1, 1, 1, 1, 0, 1, 1, 0, 0, 0, 1, 0, 1, 0, 0, 1, 1, 1, 1, 0, 1, 0, 1, 0,\n         0, 1, 0, 0, 1, 0, 0, 1, 0, 1, 1, 0, 0, 0, 1, 1, 1, 0, 0, 1, 1, 1, 0, 1,\n         0, 0, 0, 0, 0, 1, 0, 1, 0, 1, 1, 1, 0, 1, 0, 1, 0, 0, 1, 1, 0, 0, 0, 1,\n         1, 1, 1, 1, 0, 0, 1, 0, 1, 1, 1, 1, 0, 0, 0, 0, 0, 1, 1, 1, 0, 0, 1, 1,\n         0, 0, 1, 0, 0, 0, 0, 0, 0, 0, 1, 0, 0, 1, 0, 1, 0, 1, 1, 0, 1, 0, 0, 1,\n         0, 0, 1, 0, 1, 0, 0, 0, 1, 0, 1, 1, 0, 1, 1, 1, 1, 0, 1, 1, 0, 1, 1, 1,\n         0, 1, 1, 1, 0, 0, 1, 0, 1, 0, 1, 1, 1, 1, 0, 0, 1, 1, 1, 1, 0, 1, 1, 0,\n         1, 0, 1, 1, 0, 1, 1, 0, 0, 1, 0, 1, 0, 1, 0, 1, 0, 0, 0, 0, 1, 0, 1, 1,\n         1, 0, 1, 1, 0, 0, 1, 1, 1, 0, 0, 1, 1, 1, 0, 1])]"
     },
     "execution_count": 28,
     "metadata": {},
     "output_type": "execute_result"
    }
   ],
   "source": [
    "next(dataIter)"
   ],
   "metadata": {
    "collapsed": false
   }
  },
  {
   "cell_type": "code",
   "execution_count": 29,
   "outputs": [
    {
     "name": "stdout",
     "output_type": "stream",
     "text": [
      "MyDataSets.MyDataSets_Subset_4_9.__init__\n"
     ]
    }
   ],
   "source": [
    "import MyDataSet\n",
    "import pandas as pd\n",
    "import torch\n",
    "# dataset_test_4 = MyDataSet.MyDataSets_Subset_4(batch_size_train=-1)\n",
    "with torch.no_grad():\n",
    "    dataset_49 = MyDataSet.MyDataSets_Subset_4_9(batch_size_train=-1)\n",
    "    # dataset_test_9 = MyDataSet.MyDataSets_Subset_9(batch_size_train=-1)\n",
    "    img_49_batch, label_49_batch = next(iter(dataset_49.train_loader_subset_changed_labels))\n",
    "    rec49,mu49,sigma49 = model_copy(img_49_batch.clone())\n",
    "    z = mu49\n",
    "df = pd.DataFrame({'z0': rec49[:,0], 'z1': rec49[:,1], 'labels': label_49_batch})\n",
    "mcd = MyDataSet.MyCustomDataset(df)\n",
    "dataloader = torch.utils.data.DataLoader(mcd)\n"
   ],
   "metadata": {
    "collapsed": false
   }
  },
  {
   "cell_type": "code",
   "execution_count": 30,
   "outputs": [],
   "source": [
    "import model_probit\n",
    "pick_model = model_probit.latent_space()\n",
    "pick_model = helper.import_model_name(model_x=pick_model, activate_eval=True)"
   ],
   "metadata": {
    "collapsed": false
   }
  },
  {
   "cell_type": "code",
   "execution_count": 31,
   "outputs": [
    {
     "data": {
      "text/plain": "tensor([1, 0, 0, 1, 0, 1, 1, 1, 0, 0, 1, 1, 1, 0, 1, 1, 0, 0, 0, 0])"
     },
     "execution_count": 31,
     "metadata": {},
     "output_type": "execute_result"
    }
   ],
   "source": [
    "pick_model(z[:20])\n",
    "label_49_batch[\n",
    "    :20\n",
    "]"
   ],
   "metadata": {
    "collapsed": false
   }
  },
  {
   "cell_type": "code",
   "execution_count": 32,
   "outputs": [
    {
     "data": {
      "text/plain": "tensor([[0.5519],\n        [0.5000],\n        [0.5000],\n        [0.5584],\n        [0.5000],\n        [0.6102],\n        [0.5859],\n        [0.5825],\n        [0.5000],\n        [0.5000],\n        [0.5659],\n        [0.5805],\n        [0.5630],\n        [0.5000],\n        [0.5664],\n        [0.5590],\n        [0.5000],\n        [0.5000],\n        [0.5000],\n        [0.5000]], grad_fn=<SigmoidBackward0>)"
     },
     "execution_count": 32,
     "metadata": {},
     "output_type": "execute_result"
    }
   ],
   "source": [
    "pick_model(z[:20])\n"
   ],
   "metadata": {
    "collapsed": false
   }
  },
  {
   "cell_type": "code",
   "execution_count": 33,
   "outputs": [
    {
     "name": "stdout",
     "output_type": "stream",
     "text": [
      "Parameter containing:\n",
      "tensor([[-0.4416, -0.2597]], requires_grad=True)\n",
      "Parameter containing:\n",
      "tensor([0.0283], requires_grad=True)\n"
     ]
    }
   ],
   "source": [
    "for x in pick_model.parameters():\n",
    "    print(x)\n",
    "    # print(x.data)"
   ],
   "metadata": {
    "collapsed": false
   }
  },
  {
   "cell_type": "code",
   "execution_count": 34,
   "outputs": [
    {
     "name": "stdout",
     "output_type": "stream",
     "text": [
      "tensor([0, 0, 0,  ..., 0, 0, 0])\n"
     ]
    }
   ],
   "source": [
    "labels =label_49_batch\n",
    "pred =  pick_model(z)\n",
    "pred_class = pred.argmax(dim=1)\n",
    "print(pred_class[10000:])"
   ],
   "metadata": {
    "collapsed": false
   }
  },
  {
   "cell_type": "code",
   "execution_count": 35,
   "outputs": [
    {
     "name": "stdout",
     "output_type": "stream",
     "text": [
      "torch.Size([11791])\n",
      "correct = tensor(5842)\n",
      "tensor(2.0183)\n"
     ]
    }
   ],
   "source": [
    "accuracy = pred_class==labels\n",
    "correct = accuracy.sum()\n",
    "print(pred_class.shape)\n",
    "print(f'{correct = }')\n",
    "print(pred_class.shape[0]/correct)"
   ],
   "metadata": {
    "collapsed": false
   }
  },
  {
   "cell_type": "code",
   "execution_count": 36,
   "outputs": [],
   "source": [
    "# print(accuracy.where(True))"
   ],
   "metadata": {
    "collapsed": false
   }
  },
  {
   "cell_type": "code",
   "execution_count": 37,
   "outputs": [
    {
     "name": "stdout",
     "output_type": "stream",
     "text": [
      "Parameter containing:\n",
      "tensor([[-0.4416, -0.2597]], requires_grad=True)\n",
      "Parameter containing:\n",
      "tensor([0.0283], requires_grad=True)\n"
     ]
    }
   ],
   "source": [
    "i = 0\n",
    "for x in pick_model.parameters():\n",
    "    print(x)\n",
    "    i+=1\n",
    "    # print(x.data)"
   ],
   "metadata": {
    "collapsed": false
   }
  },
  {
   "cell_type": "code",
   "execution_count": 38,
   "outputs": [
    {
     "name": "stdout",
     "output_type": "stream",
     "text": [
      "tensor([[-0.4416, -0.2597]]) tensor([0.0283])\n"
     ]
    }
   ],
   "source": [
    "iterweights = iter(pick_model.parameters())\n",
    "w = next(iterweights).data\n",
    "w0 = next(iterweights).data\n",
    "print(w,w0)"
   ],
   "metadata": {
    "collapsed": false
   }
  },
  {
   "cell_type": "code",
   "execution_count": 39,
   "outputs": [
    {
     "name": "stdout",
     "output_type": "stream",
     "text": [
      "tensor([0.6992, 0.3904])\n"
     ]
    }
   ],
   "source": [
    "rand_tensor = torch.rand(2)\n",
    "print(rand_tensor)"
   ],
   "metadata": {
    "collapsed": false
   }
  },
  {
   "cell_type": "code",
   "execution_count": 40,
   "outputs": [
    {
     "name": "stdout",
     "output_type": "stream",
     "text": [
      "tensor([ 8.8279e-04,  2.7544e-03,  7.3047e-04,  1.0529e-03, -5.9206e-04,\n",
      "        -2.4369e-03,  1.7088e-03,  7.2546e-05, -1.9705e-03,  7.7554e-04,\n",
      "         2.3573e-03, -2.9571e-04,  5.7125e-04, -1.3296e-03,  8.8573e-04,\n",
      "         4.0049e-04, -1.1388e-03, -3.6330e-03, -2.2654e-03, -3.0593e-03,\n",
      "        -1.6609e-03,  1.5505e-03, -1.7910e-04,  1.3721e-03, -2.8431e-03,\n",
      "        -5.1096e-03,  5.8487e-04,  1.5998e-03,  2.8805e-03, -1.1025e-03,\n",
      "        -6.4990e-04, -2.8486e-04,  3.9972e-03,  1.2933e-03,  2.9668e-03,\n",
      "         4.9190e-04, -7.3026e-04,  5.2267e-04, -3.9726e-04,  1.3171e-03,\n",
      "         4.5250e-03, -6.1297e-04,  1.0163e-03,  1.0602e-03,  3.1244e-04,\n",
      "        -2.4779e-03, -9.6026e-04,  5.0139e-04, -1.6625e-03, -3.4718e-04,\n",
      "         1.2115e-03,  8.0821e-04, -2.3231e-03,  7.6475e-04,  1.1806e-03,\n",
      "        -1.3752e-03, -1.6095e-03, -1.8372e-03,  1.2636e-03, -1.5366e-03,\n",
      "        -1.1247e-03,  2.0651e-03, -1.1874e-03, -1.0801e-03, -6.1945e-04,\n",
      "         6.2122e-04,  2.2789e-03, -1.0400e-04,  7.6804e-04,  2.2987e-04,\n",
      "         1.1874e-03, -2.5337e-03,  2.5435e-03, -2.0764e-04,  1.0195e-03,\n",
      "        -8.7728e-04, -1.5403e-03, -6.3018e-04, -2.4644e-03, -3.2052e-04,\n",
      "        -2.2212e-03,  1.0479e-03,  1.4027e-04,  2.5267e-03,  8.3628e-06,\n",
      "        -5.3904e-04,  1.9957e-03, -8.3958e-04, -1.3184e-03, -1.9664e-03,\n",
      "        -2.1319e-03,  9.2316e-04, -3.8732e-04, -1.8191e-03,  1.0773e-03,\n",
      "        -1.1451e-03, -3.5380e-04, -3.7818e-03, -3.5970e-03,  7.7908e-04,\n",
      "         1.1380e-03, -1.0764e-03, -1.0680e-04,  1.6314e-03, -1.0867e-03,\n",
      "         1.7127e-03,  9.0607e-04, -3.1218e-04, -2.6503e-03, -2.1991e-03,\n",
      "        -5.1802e-04, -9.3130e-04,  9.2084e-04, -1.9706e-03,  3.2318e-04,\n",
      "        -4.0217e-05, -9.5632e-04, -5.6364e-04,  1.2715e-03,  9.8063e-04,\n",
      "        -5.1771e-04,  1.6470e-03, -6.4128e-04, -1.7941e-04, -9.2300e-04,\n",
      "         6.0546e-04,  1.0955e-03,  1.3098e-03, -3.3815e-03,  1.8654e-04,\n",
      "         2.8175e-03,  3.1217e-03,  4.2569e-03, -9.6988e-04,  3.3118e-03,\n",
      "        -2.5568e-03,  1.9444e-05,  1.7407e-03,  2.0275e-03, -4.9323e-06,\n",
      "         4.8320e-04,  6.0003e-04, -3.5911e-04, -8.1927e-04, -3.6856e-03,\n",
      "         9.7401e-04, -2.5083e-03, -6.0735e-04, -2.7913e-05, -3.9065e-04,\n",
      "        -4.9203e-04, -1.2098e-03,  2.7332e-04, -1.2351e-03,  3.7522e-03,\n",
      "         2.0825e-03, -1.9981e-04,  3.3892e-03,  1.0176e-03,  1.7123e-03,\n",
      "        -1.1442e-03,  3.0059e-04,  3.5908e-03,  1.2673e-03,  1.6376e-04,\n",
      "         1.3186e-03, -2.4801e-03,  2.7634e-03, -4.3162e-05,  2.6116e-04,\n",
      "         1.8595e-03,  3.5400e-03, -1.2362e-03,  1.4030e-03,  1.3866e-03,\n",
      "        -1.8287e-03,  1.6926e-03,  1.5173e-03,  6.1161e-03,  7.3492e-03,\n",
      "         1.7935e-02,  8.2901e-03,  1.6470e-02,  2.3723e-02,  6.2230e-03,\n",
      "         8.7326e-03,  7.7031e-03,  3.1544e-02,  3.1335e-02,  3.3022e-02,\n",
      "         1.2166e-02,  4.6645e-03,  6.4302e-04,  1.7146e-03,  9.9046e-04,\n",
      "         7.8683e-04, -1.1925e-03,  9.2246e-04,  2.4820e-03, -1.3409e-03,\n",
      "         8.6189e-05, -3.6602e-03,  1.0197e-03,  1.7591e-03,  9.9150e-04,\n",
      "         8.5907e-03,  2.7066e-02,  1.4851e-01,  2.6851e-01,  2.5533e-01,\n",
      "         1.8626e-01,  8.3752e-02,  9.7248e-02,  1.4990e-01,  2.8799e-01,\n",
      "         4.5572e-01,  4.6181e-01,  2.7906e-01,  1.0400e-01,  1.1085e-03,\n",
      "         3.3975e-03,  2.5401e-03, -1.1342e-03,  1.4480e-03, -3.5192e-04,\n",
      "        -1.4546e-03,  3.1858e-04,  1.6845e-03,  1.4598e-03, -5.7228e-05,\n",
      "        -1.5622e-04, -4.2367e-04, -6.2975e-03,  4.7365e-02,  3.2603e-01,\n",
      "         7.6348e-01,  8.2865e-01,  5.6798e-01,  1.5441e-01,  1.0191e-01,\n",
      "         8.2548e-02,  1.3463e-01,  3.9734e-01,  8.2293e-01,  8.0447e-01,\n",
      "         4.8546e-01,  1.1640e-01,  1.5686e-03,  9.9049e-04, -4.4367e-04,\n",
      "         2.5670e-03,  1.4377e-03,  8.0293e-04,  2.1756e-04, -1.5108e-03,\n",
      "        -8.3911e-04,  4.9387e-04, -2.2089e-03,  1.4819e-03, -5.6530e-03,\n",
      "         1.9746e-02,  3.6648e-01,  9.0529e-01,  1.0090e+00,  7.2838e-01,\n",
      "         1.4932e-01,  1.7874e-02,  3.2754e-02,  5.3671e-02,  3.7838e-02,\n",
      "         3.5805e-01,  9.2810e-01,  8.6617e-01,  5.0530e-01,  6.8269e-02,\n",
      "         1.3955e-03,  2.3378e-03, -2.5595e-03,  3.2757e-04,  7.1030e-04,\n",
      "        -7.9355e-04,  3.4250e-04,  7.7538e-05,  2.5752e-03, -3.5316e-03,\n",
      "        -6.7200e-04, -2.8485e-04,  2.6029e-03,  2.8530e-01,  8.2360e-01,\n",
      "         9.9795e-01,  8.5015e-01,  2.4065e-01, -5.2190e-03,  1.2615e-02,\n",
      "         5.0295e-03,  1.6634e-02,  2.5189e-02,  4.7911e-01,  9.7717e-01,\n",
      "         8.5604e-01,  3.9785e-01,  2.7821e-02, -5.4319e-03,  3.7223e-04,\n",
      "         1.4034e-03, -2.1793e-04, -2.7070e-03,  1.4953e-03, -1.0072e-03,\n",
      "        -4.2552e-03,  7.3347e-04, -6.9696e-04,  1.6917e-03,  1.3773e-03,\n",
      "         1.3807e-01,  6.9309e-01,  9.8345e-01,  8.7655e-01,  3.0781e-01,\n",
      "        -5.1371e-03, -8.1740e-05, -2.6175e-04,  5.4250e-03, -3.2349e-03,\n",
      "         2.0083e-01,  7.2148e-01,  9.9468e-01,  7.5377e-01,  2.0622e-01,\n",
      "         2.2342e-03,  1.4385e-03,  2.0550e-03, -1.8156e-03,  2.5321e-03,\n",
      "        -9.3102e-04,  2.3285e-04, -4.9587e-04,  2.9866e-03, -7.1003e-04,\n",
      "         2.7069e-03, -2.8438e-03,  1.5746e-02,  4.2754e-01,  9.7581e-01,\n",
      "         9.4090e-01,  4.7257e-01, -2.5816e-02, -4.8418e-03, -3.5541e-03,\n",
      "        -9.3227e-04,  1.5269e-02,  6.6473e-02,  4.6522e-01,  9.2401e-01,\n",
      "         9.9979e-01,  5.8544e-01,  6.3865e-02,  3.2744e-04, -1.5604e-03,\n",
      "         1.2447e-03, -1.5639e-03, -1.6541e-03,  4.6962e-04, -9.2886e-05,\n",
      "         1.9215e-03, -1.1141e-03, -2.9150e-03, -7.7194e-05, -1.6962e-03,\n",
      "         1.4458e-01,  7.5114e-01,  9.9408e-01,  8.4638e-01,  2.2621e-01,\n",
      "        -4.0190e-02, -3.2286e-02, -3.7540e-03,  1.8905e-03,  3.5549e-02,\n",
      "         3.7928e-01,  8.2608e-01,  1.0042e+00,  9.3000e-01,  3.8086e-01,\n",
      "         1.1045e-02, -4.7270e-04,  2.0081e-03, -1.3717e-04,  4.9589e-04,\n",
      "        -5.0100e-05,  1.3560e-03,  3.1197e-03, -8.8590e-05,  1.6692e-03,\n",
      "         3.1717e-03, -4.4882e-03,  3.9865e-03,  3.4897e-01,  8.4868e-01,\n",
      "         9.8901e-01,  7.9988e-01,  3.9214e-01,  1.0629e-01,  6.5077e-02,\n",
      "         1.0857e-01,  2.8250e-01,  4.8962e-01,  8.0228e-01,  9.7897e-01,\n",
      "         1.0082e+00,  8.1208e-01,  1.9580e-01,  2.5804e-03, -1.0567e-03,\n",
      "        -1.5321e-03, -3.1680e-03,  1.8453e-03,  3.1097e-03, -5.0781e-03,\n",
      "        -8.5688e-05, -6.2567e-04, -6.9572e-04, -1.3745e-04, -3.2099e-03,\n",
      "         2.2554e-02,  3.5570e-01,  8.1870e-01,  1.0087e+00,  9.3823e-01,\n",
      "         8.3474e-01,  7.8611e-01,  7.9984e-01,  8.3335e-01,  8.5440e-01,\n",
      "         9.1846e-01,  9.8991e-01,  9.9786e-01,  9.4554e-01,  5.5649e-01,\n",
      "         6.3729e-02,  8.1179e-04,  3.6389e-03, -1.8120e-04, -1.1590e-03,\n",
      "        -1.5964e-03,  1.3966e-03, -2.4544e-03, -5.5484e-04, -1.4866e-03,\n",
      "         7.3519e-04, -4.7110e-05, -8.6196e-04,  7.4831e-03,  2.0730e-01,\n",
      "         6.2123e-01,  9.0920e-01,  9.8179e-01,  9.9091e-01,  9.8039e-01,\n",
      "         9.6412e-01,  9.4846e-01,  9.0914e-01,  9.7246e-01,  9.9178e-01,\n",
      "         1.0150e+00,  8.0598e-01,  2.5754e-01,  1.5016e-02,  5.2689e-03,\n",
      "         2.6238e-04, -7.0471e-04, -1.3763e-03, -5.1278e-04, -1.4215e-03,\n",
      "         1.5678e-03, -2.8799e-04,  5.9722e-04, -1.1248e-03, -7.7196e-04,\n",
      "         1.2615e-03,  5.6570e-03,  2.6969e-02,  1.6478e-01,  3.6958e-01,\n",
      "         4.8948e-01,  5.9845e-01,  5.8260e-01,  5.1154e-01,  4.6783e-01,\n",
      "         6.3859e-01,  9.2925e-01,  1.0160e+00,  8.9311e-01,  4.0975e-01,\n",
      "         3.5741e-02,  2.8586e-03, -2.2105e-03,  8.0524e-04, -2.4011e-03,\n",
      "         3.3294e-03,  3.3750e-04, -3.6885e-03,  2.7440e-04, -2.2976e-03,\n",
      "         9.7209e-04,  2.5097e-03, -1.2473e-03,  8.3358e-04,  6.5910e-04,\n",
      "        -2.4152e-03,  8.4608e-03,  7.9638e-03,  1.4445e-02,  5.0326e-03,\n",
      "         2.3214e-03,  3.8077e-03,  8.5659e-02,  6.5374e-01,  9.3408e-01,\n",
      "         1.0167e+00,  4.7614e-01,  7.9421e-02,  1.2058e-03,  3.3967e-03,\n",
      "        -3.1745e-04, -1.2061e-03,  2.5465e-03, -1.2784e-03,  8.0893e-04,\n",
      "         3.1948e-03, -1.4870e-03, -3.5668e-03, -3.0779e-04, -4.1413e-04,\n",
      "        -3.6282e-03,  7.9765e-04, -2.6777e-03, -2.6079e-03, -1.5483e-03,\n",
      "         1.0565e-03, -2.2239e-03,  1.5794e-03, -5.2989e-03,  2.3050e-04,\n",
      "         2.3705e-01,  8.0153e-01,  1.0042e+00,  6.8830e-01,  1.5842e-01,\n",
      "         5.3003e-04, -3.4323e-03,  1.6959e-03,  5.7836e-04,  2.3384e-03,\n",
      "        -5.4776e-04,  6.9048e-05, -6.9449e-04,  1.6637e-03, -1.0619e-03,\n",
      "        -1.2457e-03, -6.2236e-04,  3.8993e-05,  1.5426e-03,  2.7180e-03,\n",
      "        -1.4267e-04, -3.5225e-03,  1.6412e-03, -1.2851e-03,  3.7469e-04,\n",
      "        -5.0053e-03,  2.6621e-04,  5.5306e-02,  5.3369e-01,  9.6062e-01,\n",
      "         9.0768e-01,  3.2660e-01,  4.4225e-02,  9.5600e-04,  4.6586e-03,\n",
      "         2.3109e-03, -1.8004e-03, -1.1605e-03, -5.5122e-04, -2.0998e-03,\n",
      "         2.2124e-04,  1.3855e-03,  1.4082e-03, -1.9511e-04,  1.6165e-03,\n",
      "        -1.9912e-03,  6.5999e-04, -4.2937e-04, -1.6463e-03,  1.4515e-03,\n",
      "        -2.2947e-03,  1.2504e-03, -4.5646e-04,  1.7947e-03,  4.8499e-03,\n",
      "         1.8842e-01,  7.7794e-01,  1.0192e+00,  6.4304e-01,  8.0417e-02,\n",
      "        -6.9737e-04, -1.6665e-03,  5.3203e-04,  1.6447e-03, -6.0958e-03,\n",
      "        -1.1117e-03,  2.2629e-03,  6.0090e-04,  9.4045e-04, -2.3926e-03,\n",
      "        -2.5605e-03,  4.2709e-04, -1.5560e-03, -2.7255e-03,  1.4013e-03,\n",
      "         1.0020e-03,  1.2898e-03, -3.8642e-04,  2.4468e-03,  1.8931e-03,\n",
      "        -1.5754e-03, -5.8569e-03,  4.8822e-02,  4.5455e-01,  8.8778e-01,\n",
      "         9.3732e-01,  3.6767e-01,  1.4896e-02, -4.1355e-03, -1.0008e-03,\n",
      "         5.0214e-03,  1.0280e-03,  4.3675e-03, -8.2713e-04, -1.2320e-03,\n",
      "         3.2804e-03,  1.7773e-03, -3.2083e-04, -1.6402e-03,  3.5693e-03,\n",
      "        -7.2981e-04,  1.7182e-03,  5.3149e-04, -2.7272e-03, -3.6282e-03,\n",
      "         1.7249e-03,  1.4351e-03,  1.6702e-03,  3.0119e-05, -2.4640e-03,\n",
      "         1.0803e-01,  5.3735e-01,  8.9489e-01,  6.5083e-01,  1.7411e-01,\n",
      "         4.0329e-03, -7.5988e-04,  3.9157e-03,  8.1312e-03,  2.6070e-03,\n",
      "         1.6844e-03, -4.3818e-04,  7.4584e-04, -1.7539e-03, -3.9942e-04,\n",
      "         4.1670e-04,  1.1938e-03,  3.3573e-04, -2.3885e-03, -1.8401e-03,\n",
      "        -1.6338e-03, -6.8990e-04, -1.0690e-03,  2.0110e-03,  2.3284e-03,\n",
      "         9.6452e-04,  2.7139e-04, -1.0322e-02,  6.0747e-02,  3.4621e-01,\n",
      "         4.3432e-01,  2.4229e-01,  3.4124e-02,  3.2384e-03,  4.6065e-03,\n",
      "         3.6478e-05,  5.4634e-03, -2.9395e-03, -4.8160e-04, -3.3217e-04,\n",
      "        -2.3304e-03,  1.2027e-03,  3.4795e-04,  3.8109e-04, -7.6279e-04,\n",
      "        -3.6141e-04,  3.5123e-03, -8.5416e-04,  1.0589e-03, -1.4462e-03,\n",
      "        -4.8008e-04,  3.7737e-04,  1.8085e-03,  7.7434e-04,  3.5468e-05,\n",
      "        -1.3057e-03,  3.4216e-04,  1.4836e-02,  2.3253e-02,  9.7850e-03,\n",
      "         6.8509e-03,  7.8580e-03,  5.5733e-03,  1.5961e-03,  4.8345e-03,\n",
      "        -1.4413e-04, -1.0965e-03, -4.2383e-04, -1.3817e-04, -5.4643e-04,\n",
      "        -2.4596e-03, -1.4689e-03, -6.5333e-04, -3.1877e-03, -2.9610e-03,\n",
      "         2.4580e-03,  1.0794e-03, -2.5634e-04, -1.5464e-03,  5.7007e-04,\n",
      "        -2.0192e-03,  2.2235e-03,  9.0262e-04,  4.9730e-03,  2.7601e-03,\n",
      "        -1.6037e-03,  5.9299e-03,  9.7575e-04,  1.8553e-03,  1.9890e-03,\n",
      "         1.1233e-03,  6.2335e-04, -1.9554e-03,  1.9943e-03, -1.5082e-04,\n",
      "        -8.3436e-04,  1.7861e-03, -5.6353e-04, -2.2848e-03, -2.9611e-04,\n",
      "        -1.1730e-03,  1.3990e-03,  1.3350e-03, -6.2160e-05, -5.6840e-04,\n",
      "         4.3154e-04, -1.3991e-04,  1.0733e-03,  2.9048e-04, -6.5398e-04,\n",
      "         2.2553e-03, -2.0652e-03,  4.6303e-04, -2.1249e-05,  7.0100e-04,\n",
      "         1.8171e-04, -2.5949e-03, -1.2033e-03,  6.7105e-04,  1.7965e-03,\n",
      "         1.5394e-03, -9.5136e-04,  6.7511e-04, -8.6976e-04, -3.9369e-04,\n",
      "         3.2861e-05, -9.5901e-04,  2.3652e-03,  2.2702e-04])\n"
     ]
    },
    {
     "data": {
      "text/plain": "<matplotlib.image.AxesImage at 0x1687bec50>"
     },
     "execution_count": 40,
     "metadata": {},
     "output_type": "execute_result"
    },
    {
     "data": {
      "text/plain": "<Figure size 432x288 with 1 Axes>",
      "image/png": "[encoded data removed]"
     },
     "metadata": {
      "needs_background": "light"
     },
     "output_type": "display_data"
    }
   ],
   "source": [
    "import matplotlib.pyplot as plt\n",
    "with torch.no_grad():\n",
    "    decoded = model_copy_vae.decode(rand_tensor)\n",
    "print(decoded)\n",
    "plt.imshow(decoded.view(28,28))"
   ],
   "metadata": {
    "collapsed": false
   }
  },
  {
   "cell_type": "code",
   "execution_count": 41,
   "outputs": [
    {
     "name": "stdout",
     "output_type": "stream",
     "text": [
      "tensor([[-0.2804, -0.0731]])\n"
     ]
    }
   ],
   "source": [
    "new = rand_tensor * w + w0\n",
    "print(new)"
   ],
   "metadata": {
    "collapsed": false
   }
  },
  {
   "cell_type": "code",
   "execution_count": 42,
   "outputs": [
    {
     "data": {
      "text/plain": "<matplotlib.image.AxesImage at 0x1699167a0>"
     },
     "execution_count": 42,
     "metadata": {},
     "output_type": "execute_result"
    },
    {
     "data": {
      "text/plain": "<Figure size 432x288 with 1 Axes>",
      "image/png": "[encoded data removed]"
     },
     "metadata": {
      "needs_background": "light"
     },
     "output_type": "display_data"
    }
   ],
   "source": [
    "with torch.no_grad():\n",
    "    counter_img = model_copy_vae.decode(new)\n",
    "# plt.imshow(pick_model(new).view(28,28))\n",
    "plt.imshow(counter_img.view(28,28))"
   ],
   "metadata": {
    "collapsed": false
   }
  },
  {
   "cell_type": "code",
   "execution_count": 43,
   "outputs": [
    {
     "name": "stdout",
     "output_type": "stream",
     "text": [
      "alpha_i = tensor([[-0.2023, -0.0202],\n",
      "        [-0.3439, -0.0343]])\n",
      "tensor([0.8092, 0.2056])\n"
     ]
    },
    {
     "data": {
      "text/plain": "<Figure size 432x288 with 1 Axes>",
      "image/png": "[encoded data removed]"
     },
     "metadata": {
      "needs_background": "light"
     },
     "output_type": "display_data"
    }
   ],
   "source": [
    "alpha_i = - (torch.t(z[0]) * w + w0) / torch.t(w) * w\n",
    "print(f'{alpha_i = }')\n",
    "print(z[1])\n",
    "with torch.no_grad():\n",
    "    org_recons_img = model_copy_vae.decode(z[0])\n",
    "    plt.imshow(org_recons_img.view(28,28))"
   ],
   "metadata": {
    "collapsed": false
   }
  },
  {
   "cell_type": "code",
   "execution_count": 44,
   "outputs": [
    {
     "name": "stdout",
     "output_type": "stream",
     "text": [
      "MyDataSets.MyDataSets_Subset_4_9.__init__\n"
     ]
    }
   ],
   "source": [
    "model_copy = model.VaeFinal_only_one_hidden_copy()\n",
    "model_copy = helper.import_model_name_weights_copy(model_x=model_copy, activate_eval=True)\n",
    "# dataset_test_4 = MyDataSet.MyDataSets_Subset_4(batch_size_train=-1)\n",
    "with torch.no_grad():\n",
    "    dataset_49 = MyDataSet.MyDataSets_Subset_4_9(batch_size_train=-1)\n",
    "    img_49_batch, label_49_batch = next(iter(dataset_49.train_loader_subset_changed_labels))\n",
    "    rec49, mu49, sigma49 = model_copy(img_49_batch.clone())\n",
    "    z = mu49"
   ],
   "metadata": {
    "collapsed": false
   }
  },
  {
   "cell_type": "code",
   "execution_count": 45,
   "outputs": [
    {
     "name": "stdout",
     "output_type": "stream",
     "text": [
      "tensor([[-0.4416, -0.2597]]) tensor([0.0283])\n"
     ]
    }
   ],
   "source": [
    "iterweights = iter(pick_model.parameters())\n",
    "w = next(iterweights).data\n",
    "w0 = next(iterweights).data\n",
    "print(w,w0)"
   ],
   "metadata": {
    "collapsed": false
   }
  },
  {
   "cell_type": "code",
   "execution_count": 46,
   "outputs": [
    {
     "name": "stdout",
     "output_type": "stream",
     "text": [
      "tensor([[-0.4416, -0.2597]]) tensor([0.0283])\n",
      "tensor(0.0283)\n",
      "alpha_i = tensor([-0.1536,  0.0288])\n",
      "tensor([-0.2837,  0.2199])\n"
     ]
    },
    {
     "data": {
      "text/plain": "<Figure size 432x288 with 1 Axes>",
      "image/png": "[encoded data removed]"
     },
     "metadata": {
      "needs_background": "light"
     },
     "output_type": "display_data"
    }
   ],
   "source": [
    "STEPS = 100\n",
    "iterweights = iter(pick_model.parameters())\n",
    "w = next(iterweights).data\n",
    "w0 = next(iterweights).data\n",
    "print(w,w0)\n",
    "w = w[0]\n",
    "w0 = w0[0]\n",
    "print(w0)\n",
    "alpha_i = - (torch.t(z[0]) * w + w0) / torch.t(w) * w\n",
    "print(f'{alpha_i = }')\n",
    "print(f'{z[0]}')\n",
    "with torch.no_grad():\n",
    "    org_recons_img = model_copy_vae.decode(z[0])\n",
    "    plt.imshow(org_recons_img.view(28,28))\n",
    "z_counter = z[0] + STEPS * alpha_i*w\n",
    "# print(f'{z_counter = }')\n",
    "# print(f'{torch.t(z[0]) = }')\n",
    "# print(f'{torch.t(w) = }')\n",
    "# print(f'{w.squeeze(dim = 0)[:] = }')\n",
    "# with torch.no_grad():\n",
    "#     z_counter_recons_img = model_copy_vae.decode(z_counter)\n",
    "#     plt.imshow(z_counter_recons_img.view(28,28))\n",
    "#     print(f'{z_counter = }')\n",
    "# print(f'{z[0] = }')\n"
   ],
   "metadata": {
    "collapsed": false
   }
  },
  {
   "cell_type": "code",
   "execution_count": 47,
   "outputs": [
    {
     "name": "stdout",
     "output_type": "stream",
     "text": [
      "z_counter = tensor([ 6.4996, -0.5273])\n",
      "z[0] = tensor([-0.2837,  0.2199])\n"
     ]
    },
    {
     "data": {
      "text/plain": "<Figure size 432x288 with 1 Axes>",
      "image/png": "[encoded data removed]"
     },
     "metadata": {
      "needs_background": "light"
     },
     "output_type": "display_data"
    }
   ],
   "source": [
    "import torch\n",
    "import model\n",
    "import helper\n",
    "model_copy_vae = model.VaeFinal_only_one_hidden_copy()\n",
    "model_copy_vae = helper.import_model_name_weights_copy(model_x=model_copy_vae, activate_eval=True)\n",
    "with torch.no_grad():\n",
    "    z_counter_recons_img = model_copy_vae.decode(z_counter)\n",
    "    plt.imshow(z_counter_recons_img.view(28,28))\n",
    "    print(f'{z_counter = }')\n",
    "print(f'{z[0] = }')"
   ],
   "metadata": {
    "collapsed": false
   }
  },
  {
   "cell_type": "code",
   "execution_count": 48,
   "outputs": [
    {
     "data": {
      "text/plain": "<Figure size 432x288 with 1 Axes>",
      "image/png": "[encoded data removed]"
     },
     "metadata": {
      "needs_background": "light"
     },
     "output_type": "display_data"
    }
   ],
   "source": [
    "with torch.no_grad():\n",
    "    org_recons_img = model_copy_vae.decode(z[0])\n",
    "    plt.imshow(org_recons_img.view(28,28))"
   ],
   "metadata": {
    "collapsed": false
   }
  },
  {
   "cell_type": "code",
   "execution_count": 49,
   "outputs": [
    {
     "name": "stdout",
     "output_type": "stream",
     "text": [
      "alpha_i = tensor([-0.1536,  0.0288])\n",
      "tensor([-0.2837,  0.2199])\n",
      "z = tensor([-0.2837,  0.2199])\n",
      "z_counter = tensor([0.3946, 0.1452])\n",
      "z_counter = tensor([0.3946, 0.1452])\n"
     ]
    },
    {
     "data": {
      "text/plain": "<Figure size 432x288 with 1 Axes>",
      "image/png": "[encoded data removed]"
     },
     "metadata": {
      "needs_background": "light"
     },
     "output_type": "display_data"
    }
   ],
   "source": [
    "def plt_show_counter_with_steps(z,steps):\n",
    "    STEPS = steps\n",
    "    iterweights = iter(pick_model.parameters())\n",
    "    w = next(iterweights).data[0]\n",
    "    w0 = next(iterweights).data[0]\n",
    "    alpha_i = - (torch.t(z) * w + w0) / torch.t(w) * w\n",
    "    print(f'{alpha_i = }')\n",
    "    print(f'{z}')\n",
    "    z_counter = z + STEPS * alpha_i*w\n",
    "    print(f'{z = }')\n",
    "    print(f'{z_counter = }')\n",
    "\n",
    "    with torch.no_grad():\n",
    "        z_counter_recons_img = model_copy_vae.decode(z_counter)\n",
    "        plt.imshow(z_counter_recons_img.view(28,28))\n",
    "        print(f'{z_counter = }')\n",
    "\n",
    "plt_show_counter_with_steps(z[0], 10)"
   ],
   "metadata": {
    "collapsed": false
   }
  },
  {
   "cell_type": "code",
   "execution_count": 57,
   "outputs": [
    {
     "data": {
      "text/plain": "<matplotlib.image.AxesImage at 0x169e726e0>"
     },
     "execution_count": 57,
     "metadata": {},
     "output_type": "execute_result"
    },
    {
     "data": {
      "text/plain": "<Figure size 432x288 with 1 Axes>",
      "image/png": "[encoded data removed]"
     },
     "metadata": {
      "needs_background": "light"
     },
     "output_type": "display_data"
    }
   ],
   "source": [
    "import matplotlib.pyplot as plt\n",
    "\n",
    "def return_counter_with_steps(z,steps=20):\n",
    "    STEPS = steps\n",
    "    iterweights = iter(pick_model.parameters())\n",
    "    w = next(iterweights).data[0]\n",
    "    w0 = next(iterweights).data[0]\n",
    "    alpha_i = - (torch.t(z) * w + w0) / torch.t(w) * w\n",
    "    z_counter = z + STEPS * alpha_i*w\n",
    "\n",
    "    with torch.no_grad():\n",
    "        z_counter_recons_img = model_copy_vae.decode(z_counter)\n",
    "        # plt.imshow(z_counter_recons_img.view(28,28))\n",
    "        # print(f'{z_counter = }')\n",
    "\n",
    "    return z_counter_recons_img.view(28,28)\n",
    "plt.imshow(return_counter_with_steps(z=z[0],steps=0))\n",
    "# plt.imshow(return_counter_with_steps(z=z[0],steps=100))"
   ],
   "metadata": {
    "collapsed": false
   }
  },
  {
   "cell_type": "code",
   "execution_count": 51,
   "outputs": [
    {
     "name": "stdout",
     "output_type": "stream",
     "text": [
      "torch.Size([11791, 1, 28, 28])\n",
      "torch.Size([11791, 1, 28, 28])\n"
     ]
    }
   ],
   "source": [
    "def return_counter_with_steps(z,steps=20):\n",
    "    STEPS = steps\n",
    "    iterweights = iter(pick_model.parameters())\n",
    "    w = next(iterweights).data[0]\n",
    "    w0 = next(iterweights).data[0]\n",
    "    alpha_i = - (z * w + w0) / torch.t(w) * w\n",
    "    # alpha_i = - (torch.t(z) * w + w0) / torch.t(w) * w\n",
    "    z_counter = z + STEPS * alpha_i*w\n",
    "\n",
    "    with torch.no_grad():\n",
    "        z_counter_recons_img = model_copy_vae.decode(z_counter)\n",
    "        # plt.imshow(z_counter_recons_img.view(28,28))\n",
    "        # print(f'{z_counter = }')\n",
    "    print(z_counter_recons_img.view(-1,1,28,28).shape)\n",
    "    return z_counter_recons_img.view(-1,1,28,28)\n",
    "counter_factuals = return_counter_with_steps(z=z,steps=20)\n",
    "print(counter_factuals.shape)\n",
    "# plt.imshow(return_counter_with_steps(z=z[0],steps=100))"
   ],
   "metadata": {
    "collapsed": false
   }
  },
  {
   "cell_type": "code",
   "execution_count": 52,
   "outputs": [
    {
     "name": "stdout",
     "output_type": "stream",
     "text": [
      "torch.Size([11791, 1, 28, 28])\n"
     ]
    },
    {
     "data": {
      "text/plain": "<Figure size 432x288 with 1 Axes>",
      "image/png": "[encoded data removed]"
     },
     "metadata": {
      "needs_background": "light"
     },
     "output_type": "display_data"
    }
   ],
   "source": [
    "from torchvision.utils import make_grid\n",
    "import numpy as np\n",
    "with torch.no_grad():\n",
    "    counter_factuals = return_counter_with_steps(z=z,steps=20)\n",
    "    counter_factuals = counter_factuals.clip(0,1)\n",
    "    counter_factuals = counter_factuals[:20]\n",
    "    counter_factuals = make_grid(counter_factuals, 10, 5)\n",
    "    # counter_factuals = make_grid(tensor=list(counter_factuals))\n",
    "    # counter_factuals = test_images.numpy()\n",
    "    counter_factuals = np.transpose(counter_factuals, (1, 2, 0))\n",
    "    plt.imshow(counter_factuals)\n",
    "    plt.show()"
   ],
   "metadata": {
    "collapsed": false
   }
  },
  {
   "cell_type": "code",
   "execution_count": 53,
   "outputs": [
    {
     "name": "stdout",
     "output_type": "stream",
     "text": [
      "STEPS = tensor([[-0.0000,  0.0000],\n",
      "        [-0.2837,  0.2199],\n",
      "        [-0.5674,  0.4399],\n",
      "        [-0.8511,  0.6598],\n",
      "        [-1.1348,  0.8797],\n",
      "        [-1.4185,  1.0997],\n",
      "        [-1.7022,  1.3196],\n",
      "        [-1.9859,  1.5395],\n",
      "        [-2.2696,  1.7595],\n",
      "        [-2.5533,  1.9794],\n",
      "        [-2.8370,  2.1993],\n",
      "        [-3.1207,  2.4193],\n",
      "        [-3.4044,  2.6392],\n",
      "        [-3.6881,  2.8591],\n",
      "        [-3.9718,  3.0791],\n",
      "        [-4.2555,  3.2990],\n",
      "        [-4.5392,  3.5189],\n",
      "        [-4.8229,  3.7389],\n",
      "        [-5.1067,  3.9588],\n",
      "        [-5.3904,  4.1787],\n",
      "        [-5.6741,  4.3987]])\n",
      "z_one_image = tensor([-0.2837,  0.2199])\n",
      "z_ones = tensor([1., 1., 1., 1., 1., 1., 1., 1., 1., 1., 1., 1., 1., 1., 1., 1., 1., 1.,\n",
      "        1., 1., 1.])\n",
      "STEPS = tensor([[-0.0000,  0.0000],\n",
      "        [-0.2837,  0.2199],\n",
      "        [-0.5674,  0.4399],\n",
      "        [-0.8511,  0.6598],\n",
      "        [-1.1348,  0.8797],\n",
      "        [-1.4185,  1.0997],\n",
      "        [-1.7022,  1.3196],\n",
      "        [-1.9859,  1.5395],\n",
      "        [-2.2696,  1.7595],\n",
      "        [-2.5533,  1.9794],\n",
      "        [-2.8370,  2.1993],\n",
      "        [-3.1207,  2.4193],\n",
      "        [-3.4044,  2.6392],\n",
      "        [-3.6881,  2.8591],\n",
      "        [-3.9718,  3.0791],\n",
      "        [-4.2555,  3.2990],\n",
      "        [-4.5392,  3.5189],\n",
      "        [-4.8229,  3.7389],\n",
      "        [-5.1067,  3.9588],\n",
      "        [-5.3904,  4.1787],\n",
      "        [-5.6741,  4.3987]])\n"
     ]
    },
    {
     "ename": "RuntimeError",
     "evalue": "The size of tensor a (21) must match the size of tensor b (2) at non-singleton dimension 0",
     "output_type": "error",
     "traceback": [
      "\u001B[0;31m---------------------------------------------------------------------------\u001B[0m",
      "\u001B[0;31mRuntimeError\u001B[0m                              Traceback (most recent call last)",
      "Input \u001B[0;32mIn [53]\u001B[0m, in \u001B[0;36m<cell line: 35>\u001B[0;34m()\u001B[0m\n\u001B[1;32m     31\u001B[0m     \u001B[38;5;28mprint\u001B[39m(z_counter_recons_img\u001B[38;5;241m.\u001B[39mview(\u001B[38;5;241m-\u001B[39m\u001B[38;5;241m1\u001B[39m, \u001B[38;5;241m1\u001B[39m, \u001B[38;5;241m28\u001B[39m, \u001B[38;5;241m28\u001B[39m)\u001B[38;5;241m.\u001B[39mshape)\n\u001B[1;32m     32\u001B[0m     \u001B[38;5;28;01mreturn\u001B[39;00m z_counter_recons_img\u001B[38;5;241m.\u001B[39mview(\u001B[38;5;241m-\u001B[39m\u001B[38;5;241m1\u001B[39m, \u001B[38;5;241m1\u001B[39m, \u001B[38;5;241m28\u001B[39m, \u001B[38;5;241m28\u001B[39m)\n\u001B[0;32m---> 35\u001B[0m counter_factuals \u001B[38;5;241m=\u001B[39m \u001B[43mreturn_counter_with_x_steps\u001B[49m\u001B[43m(\u001B[49m\u001B[43mz_one_image\u001B[49m\u001B[38;5;241;43m=\u001B[39;49m\u001B[43mz\u001B[49m\u001B[43m[\u001B[49m\u001B[38;5;241;43m0\u001B[39;49m\u001B[43m]\u001B[49m\u001B[43m,\u001B[49m\u001B[43m \u001B[49m\u001B[43msteps_x_alpha_i\u001B[49m\u001B[38;5;241;43m=\u001B[39;49m\u001B[38;5;241;43m20\u001B[39;49m\u001B[43m)\u001B[49m\n\u001B[1;32m     36\u001B[0m \u001B[38;5;28mprint\u001B[39m(counter_factuals\u001B[38;5;241m.\u001B[39mshape)\n",
      "Input \u001B[0;32mIn [53]\u001B[0m, in \u001B[0;36mreturn_counter_with_x_steps\u001B[0;34m(z_one_image, steps_x_alpha_i)\u001B[0m\n\u001B[1;32m     12\u001B[0m \u001B[38;5;28mprint\u001B[39m(\u001B[38;5;124mf\u001B[39m\u001B[38;5;124m'\u001B[39m\u001B[38;5;132;01m{\u001B[39;00mz_ones \u001B[38;5;132;01m= }\u001B[39;00m\u001B[38;5;124m'\u001B[39m)\n\u001B[1;32m     13\u001B[0m \u001B[38;5;28mprint\u001B[39m(\u001B[38;5;124mf\u001B[39m\u001B[38;5;124m'\u001B[39m\u001B[38;5;132;01m{\u001B[39;00mSTEPS \u001B[38;5;132;01m= }\u001B[39;00m\u001B[38;5;124m'\u001B[39m)\n\u001B[0;32m---> 14\u001B[0m z_one_image \u001B[38;5;241m=\u001B[39m \u001B[43mz_ones\u001B[49m\u001B[43m \u001B[49m\u001B[38;5;241;43m*\u001B[39;49m\u001B[43m \u001B[49m\u001B[43mtorch\u001B[49m\u001B[38;5;241;43m.\u001B[39;49m\u001B[43mt\u001B[49m\u001B[43m(\u001B[49m\u001B[43mz_one_image\u001B[49m\u001B[43m)\u001B[49m\n\u001B[1;32m     15\u001B[0m \u001B[38;5;66;03m# z_one_image = z_one_image.repeat(2,steps_x_alpha_i)\u001B[39;00m\n\u001B[1;32m     16\u001B[0m \u001B[38;5;28mprint\u001B[39m(\u001B[38;5;124m'\u001B[39m\u001B[38;5;124m------\u001B[39m\u001B[38;5;124m'\u001B[39m)\n",
      "\u001B[0;31mRuntimeError\u001B[0m: The size of tensor a (21) must match the size of tensor b (2) at non-singleton dimension 0"
     ]
    }
   ],
   "source": [
    "def return_counter_with_x_steps(z_one_image:torch.Tensor, steps_x_alpha_i:int=20):\n",
    "    # STEPS = steps\n",
    "    # STEPS = torch.linspace(1, steps_x_alpha_i, steps=steps_x_alpha_i)\n",
    "    z_ones = torch.ones(steps_x_alpha_i+1)\n",
    "    # torch.fill(z_ones,z_one_image.item())\n",
    "    STEPS = torch.linspace(0, steps_x_alpha_i, steps=steps_x_alpha_i+1)\n",
    "\n",
    "    STEPS = STEPS.unsqueeze(dim = 1)\n",
    "    STEPS = STEPS * z_one_image\n",
    "    print(f'{STEPS = }')\n",
    "    print(f'{z_one_image = }')\n",
    "    print(f'{z_ones = }')\n",
    "    print(f'{STEPS = }')\n",
    "    z_one_image = z_ones * torch.t(z_one_image)\n",
    "    # z_one_image = z_one_image.repeat(2,steps_x_alpha_i)\n",
    "    print('------')\n",
    "    print(f'{z_one_image = }')\n",
    "    # print(STEPS.unsqueeze(dim = 1))\n",
    "    iterweights = iter(pick_model.parameters())\n",
    "    w = next(iterweights).data[0]\n",
    "    w0 = next(iterweights).data[0]\n",
    "    alpha_i = - (z_one_image * w + w0) / torch.t(w) * w\n",
    "    # z_counter = z + torch.t(STEPS) * alpha_i * w\n",
    "    # z_counter = z + STEPS * torch.t(alpha_i) * w\n",
    "    z_counter = z + STEPS * alpha_i * w\n",
    "\n",
    "    with torch.no_grad():\n",
    "        z_counter_recons_img = model_copy_vae.decode(z_counter)\n",
    "        # plt.imshow(z_counter_recons_img.view(28,28))\n",
    "        # print(f'{z_counter = }')\n",
    "    print(z_counter_recons_img.view(-1, 1, 28, 28).shape)\n",
    "    return z_counter_recons_img.view(-1, 1, 28, 28)\n",
    "\n",
    "\n",
    "counter_factuals = return_counter_with_x_steps(z_one_image=z[0], steps_x_alpha_i=20)\n",
    "print(counter_factuals.shape)"
   ],
   "metadata": {
    "collapsed": false
   }
  },
  {
   "cell_type": "code",
   "execution_count": 54,
   "outputs": [
    {
     "ename": "SyntaxError",
     "evalue": "invalid syntax (159852365.py, line 11)",
     "output_type": "error",
     "traceback": [
      "\u001B[0;36m  Input \u001B[0;32mIn [54]\u001B[0;36m\u001B[0m\n\u001B[0;31m    def kernel_dist\u001B[0m\n\u001B[0m                   ^\u001B[0m\n\u001B[0;31mSyntaxError\u001B[0m\u001B[0;31m:\u001B[0m invalid syntax\n"
     ]
    }
   ],
   "source": [
    "import math\n",
    "import numpy as np\n",
    "def gaussian_kernel(x, sigma):\n",
    "    return (1/(math.sqrt(2*math.pi*sigma**2))) * math.exp(-x**2 / (2*sigma**2))\n",
    "\n",
    "def l1_distance(x,x_others) :\n",
    "    dif = (x-x_others)\n",
    "    dif = dif @ dif\n",
    "    return dif\n",
    "\n",
    "def kernel_dist\n",
    "# Example usage:\n",
    "a=np.asarray((1,2,3))\n",
    "b=np.asarray((4,5,6))\n",
    "print(l1_distance(a,b))\n",
    "# print(gaussian_kernel(0, 1))\n",
    "# print(gaussian_kernel(1, 1))\n",
    "# print(gaussian_kernel(2, 1))\n"
   ],
   "metadata": {
    "collapsed": false
   }
  },
  {
   "cell_type": "code",
   "execution_count": 55,
   "outputs": [
    {
     "name": "stdout",
     "output_type": "stream",
     "text": [
      "STEPS = tensor([[-0.0000,  0.0000],\n",
      "        [-0.2837,  0.2199],\n",
      "        [-0.5674,  0.4399],\n",
      "        [-0.8511,  0.6598],\n",
      "        [-1.1348,  0.8797],\n",
      "        [-1.4185,  1.0997],\n",
      "        [-1.7022,  1.3196],\n",
      "        [-1.9859,  1.5395],\n",
      "        [-2.2696,  1.7595],\n",
      "        [-2.5533,  1.9794],\n",
      "        [-2.8370,  2.1993],\n",
      "        [-3.1207,  2.4193],\n",
      "        [-3.4044,  2.6392],\n",
      "        [-3.6881,  2.8591],\n",
      "        [-3.9718,  3.0791],\n",
      "        [-4.2555,  3.2990],\n",
      "        [-4.5392,  3.5189],\n",
      "        [-4.8229,  3.7389],\n",
      "        [-5.1067,  3.9588],\n",
      "        [-5.3904,  4.1787],\n",
      "        [-5.6741,  4.3987]])\n",
      "z_one_image = tensor([-0.2837,  0.2199])\n",
      "z_ones = tensor([1., 1., 1., 1., 1., 1., 1., 1., 1., 1., 1., 1., 1., 1., 1., 1., 1., 1.,\n",
      "        1., 1., 1.])\n",
      "STEPS = tensor([[-0.0000,  0.0000],\n",
      "        [-0.2837,  0.2199],\n",
      "        [-0.5674,  0.4399],\n",
      "        [-0.8511,  0.6598],\n",
      "        [-1.1348,  0.8797],\n",
      "        [-1.4185,  1.0997],\n",
      "        [-1.7022,  1.3196],\n",
      "        [-1.9859,  1.5395],\n",
      "        [-2.2696,  1.7595],\n",
      "        [-2.5533,  1.9794],\n",
      "        [-2.8370,  2.1993],\n",
      "        [-3.1207,  2.4193],\n",
      "        [-3.4044,  2.6392],\n",
      "        [-3.6881,  2.8591],\n",
      "        [-3.9718,  3.0791],\n",
      "        [-4.2555,  3.2990],\n",
      "        [-4.5392,  3.5189],\n",
      "        [-4.8229,  3.7389],\n",
      "        [-5.1067,  3.9588],\n",
      "        [-5.3904,  4.1787],\n",
      "        [-5.6741,  4.3987]])\n"
     ]
    },
    {
     "ename": "RuntimeError",
     "evalue": "The size of tensor a (21) must match the size of tensor b (2) at non-singleton dimension 0",
     "output_type": "error",
     "traceback": [
      "\u001B[0;31m---------------------------------------------------------------------------\u001B[0m",
      "\u001B[0;31mRuntimeError\u001B[0m                              Traceback (most recent call last)",
      "Input \u001B[0;32mIn [55]\u001B[0m, in \u001B[0;36m<cell line: 37>\u001B[0;34m()\u001B[0m\n\u001B[1;32m     33\u001B[0m     \u001B[38;5;28mprint\u001B[39m(z_counter_recons_img\u001B[38;5;241m.\u001B[39mview(\u001B[38;5;241m-\u001B[39m\u001B[38;5;241m1\u001B[39m, \u001B[38;5;241m1\u001B[39m, \u001B[38;5;241m28\u001B[39m, \u001B[38;5;241m28\u001B[39m)\u001B[38;5;241m.\u001B[39mshape)\n\u001B[1;32m     34\u001B[0m     \u001B[38;5;28;01mreturn\u001B[39;00m z_counter_recons_img\u001B[38;5;241m.\u001B[39mview(\u001B[38;5;241m-\u001B[39m\u001B[38;5;241m1\u001B[39m, \u001B[38;5;241m1\u001B[39m, \u001B[38;5;241m28\u001B[39m, \u001B[38;5;241m28\u001B[39m)\n\u001B[0;32m---> 37\u001B[0m counter_factuals \u001B[38;5;241m=\u001B[39m \u001B[43mreturn_counter_with_x_steps\u001B[49m\u001B[43m(\u001B[49m\u001B[43mz_one_image\u001B[49m\u001B[38;5;241;43m=\u001B[39;49m\u001B[43mz\u001B[49m\u001B[43m[\u001B[49m\u001B[38;5;241;43m0\u001B[39;49m\u001B[43m]\u001B[49m\u001B[43m,\u001B[49m\u001B[43m \u001B[49m\u001B[43msteps_x_alpha_i\u001B[49m\u001B[38;5;241;43m=\u001B[39;49m\u001B[38;5;241;43m20\u001B[39;49m\u001B[43m)\u001B[49m\n\u001B[1;32m     38\u001B[0m \u001B[38;5;28mprint\u001B[39m(counter_factuals\u001B[38;5;241m.\u001B[39mshape)\n",
      "Input \u001B[0;32mIn [55]\u001B[0m, in \u001B[0;36mreturn_counter_with_x_steps\u001B[0;34m(z_one_image, steps_x_alpha_i)\u001B[0m\n\u001B[1;32m     14\u001B[0m \u001B[38;5;28mprint\u001B[39m(\u001B[38;5;124mf\u001B[39m\u001B[38;5;124m'\u001B[39m\u001B[38;5;132;01m{\u001B[39;00mz_ones \u001B[38;5;132;01m= }\u001B[39;00m\u001B[38;5;124m'\u001B[39m)\n\u001B[1;32m     15\u001B[0m \u001B[38;5;28mprint\u001B[39m(\u001B[38;5;124mf\u001B[39m\u001B[38;5;124m'\u001B[39m\u001B[38;5;132;01m{\u001B[39;00mSTEPS \u001B[38;5;132;01m= }\u001B[39;00m\u001B[38;5;124m'\u001B[39m)\n\u001B[0;32m---> 16\u001B[0m z_one_image \u001B[38;5;241m=\u001B[39m \u001B[43mz_ones\u001B[49m\u001B[43m \u001B[49m\u001B[38;5;241;43m*\u001B[39;49m\u001B[43m \u001B[49m\u001B[43mtorch\u001B[49m\u001B[38;5;241;43m.\u001B[39;49m\u001B[43mt\u001B[49m\u001B[43m(\u001B[49m\u001B[43mz_one_image\u001B[49m\u001B[43m)\u001B[49m\n\u001B[1;32m     17\u001B[0m \u001B[38;5;66;03m# z_one_image = z_one_image.repeat(2,steps_x_alpha_i)\u001B[39;00m\n\u001B[1;32m     18\u001B[0m \u001B[38;5;28mprint\u001B[39m(\u001B[38;5;124m'\u001B[39m\u001B[38;5;124m------\u001B[39m\u001B[38;5;124m'\u001B[39m)\n",
      "\u001B[0;31mRuntimeError\u001B[0m: The size of tensor a (21) must match the size of tensor b (2) at non-singleton dimension 0"
     ]
    }
   ],
   "source": [
    "import torch\n",
    "# import z\n",
    "def return_counter_with_x_steps(z_one_image:torch.Tensor, steps_x_alpha_i:int=20):\n",
    "    # STEPS = steps\n",
    "    # STEPS = torch.linspace(1, steps_x_alpha_i, steps=steps_x_alpha_i)\n",
    "    z_ones = torch.ones(steps_x_alpha_i+1)\n",
    "    # torch.fill(z_ones,z_one_image.item())\n",
    "    STEPS = torch.linspace(0, steps_x_alpha_i, steps=steps_x_alpha_i+1)\n",
    "\n",
    "    STEPS = STEPS.unsqueeze(dim = 1)\n",
    "    STEPS = STEPS * z_one_image\n",
    "    print(f'{STEPS = }')\n",
    "    print(f'{z_one_image = }')\n",
    "    print(f'{z_ones = }')\n",
    "    print(f'{STEPS = }')\n",
    "    z_one_image = z_ones * torch.t(z_one_image)\n",
    "    # z_one_image = z_one_image.repeat(2,steps_x_alpha_i)\n",
    "    print('------')\n",
    "    print(f'{z_one_image = }')\n",
    "    # print(STEPS.unsqueeze(dim = 1))\n",
    "    iterweights = iter(pick_model.parameters())\n",
    "    w = next(iterweights).data[0]\n",
    "    w0 = next(iterweights).data[0]\n",
    "    alpha_i = - (z_one_image * w + w0) / torch.t(w) * w\n",
    "    # z_counter = z + torch.t(STEPS) * alpha_i * w\n",
    "    # z_counter = z + STEPS * torch.t(alpha_i) * w\n",
    "    z_counter = z + STEPS * alpha_i * w\n",
    "\n",
    "    with torch.no_grad():\n",
    "        z_counter_recons_img = model_copy_vae.decode(z_counter)\n",
    "        # plt.imshow(z_counter_recons_img.view(28,28))\n",
    "        # print(f'{z_counter = }')\n",
    "    print(z_counter_recons_img.view(-1, 1, 28, 28).shape)\n",
    "    return z_counter_recons_img.view(-1, 1, 28, 28)\n",
    "\n",
    "\n",
    "counter_factuals = return_counter_with_x_steps(z_one_image=z[0], steps_x_alpha_i=20)\n",
    "print(counter_factuals.shape)\n"
   ],
   "metadata": {
    "collapsed": false
   }
  },
  {
   "cell_type": "code",
   "execution_count": null,
   "outputs": [],
   "source": [],
   "metadata": {
    "collapsed": false
   }
  }
 ],
 "metadata": {
  "kernelspec": {
   "display_name": "Python 3",
   "language": "python",
   "name": "python3"
  },
  "language_info": {
   "codemirror_mode": {
    "name": "ipython",
    "version": 2
   },
   "file_extension": ".py",
   "mimetype": "text/x-python",
   "name": "python",
   "nbconvert_exporter": "python",
   "pygments_lexer": "ipython2",
   "version": "2.7.6"
  }
 },
 "nbformat": 4,
 "nbformat_minor": 0
}
