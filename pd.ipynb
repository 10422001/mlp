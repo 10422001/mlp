{
 "cells": [
  {
   "cell_type": "markdown",
   "source": [],
   "metadata": {
    "collapsed": false
   }
  },
  {
   "cell_type": "code",
   "execution_count": 1,
   "metadata": {
    "collapsed": true
   },
   "outputs": [],
   "source": [
    "import matplotlib.pyplot as plt\n",
    "import pandas as pd\n",
    "import torch\n",
    "\n",
    "import model\n",
    "import helper"
   ]
  },
  {
   "cell_type": "code",
   "execution_count": 46,
   "outputs": [],
   "source": [
    "model_copy_vae = model.VaeFinal_only_one_hidden_copy()\n",
    "model_copy_vae = helper.import_model_name_weights_copy(model_x=model_copy_vae, activate_eval=True)"
   ],
   "metadata": {
    "collapsed": false
   }
  },
  {
   "cell_type": "code",
   "execution_count": 10,
   "outputs": [
    {
     "name": "stdout",
     "output_type": "stream",
     "text": [
      "MyDataSets.MyDataSets_Subset_4_9.__init__\n",
      "mu49.shape = torch.Size([11791, 2])\n",
      "z.shape = torch.Size([11791, 2])\n",
      "label_49_batch.shape = torch.Size([11791])\n"
     ]
    }
   ],
   "source": [
    "import MyDataSet\n",
    "import pandas as pd\n",
    "import torch\n",
    "# dataset_test_4 = MyDataSet.MyDataSets_Subset_4(batch_size_train=-1)\n",
    "with torch.no_grad():\n",
    "    dataset_49 = MyDataSet.MyDataSets_Subset_4_9(batch_size_train=-1)\n",
    "    # dataset_test_9 = MyDataSet.MyDataSets_Subset_9(batch_size_train=-1)\n",
    "    img_49_batch, label_49_batch = next(iter(dataset_49.train_loader_subset_changed_labels))\n",
    "    rec49,mu49,sigma49 = model_copy(img_49_batch.clone())\n",
    "    z = mu49\n",
    "    print(f'{mu49.shape = }')\n",
    "    print(f'{z.shape = }')\n",
    "    print(f'{label_49_batch.shape = }')\n",
    "    # df = pd.read_csv(lattent)"
   ],
   "metadata": {
    "collapsed": false
   }
  },
  {
   "cell_type": "code",
   "execution_count": 11,
   "outputs": [],
   "source": [
    "df = pd.DataFrame({'z0': rec49[:,0], 'z1': rec49[:,1], 'labels': label_49_batch})\n"
   ],
   "metadata": {
    "collapsed": false
   }
  },
  {
   "cell_type": "code",
   "execution_count": 12,
   "outputs": [],
   "source": [
    "# df['labels'].iloc[1\n",
    "# ]\n",
    "# df['z']"
   ],
   "metadata": {
    "collapsed": false
   }
  },
  {
   "cell_type": "code",
   "execution_count": 13,
   "outputs": [
    {
     "data": {
      "text/plain": "11791"
     },
     "execution_count": 13,
     "metadata": {},
     "output_type": "execute_result"
    }
   ],
   "source": [
    "import MyDataSet\n",
    "mcd = MyDataSet.MyCustomDataset(df)\n",
    "mcd.__len__()"
   ],
   "metadata": {
    "collapsed": false
   }
  },
  {
   "cell_type": "code",
   "execution_count": 14,
   "outputs": [
    {
     "ename": "NameError",
     "evalue": "name 'batch' is not defined",
     "output_type": "error",
     "traceback": [
      "\u001B[0;31m---------------------------------------------------------------------------\u001B[0m",
      "\u001B[0;31mNameError\u001B[0m                                 Traceback (most recent call last)",
      "Input \u001B[0;32mIn [14]\u001B[0m, in \u001B[0;36m<cell line: 2>\u001B[0;34m()\u001B[0m\n\u001B[1;32m      1\u001B[0m \u001B[38;5;28;01mimport\u001B[39;00m \u001B[38;5;21;01mtorch\u001B[39;00m\n\u001B[0;32m----> 2\u001B[0m dataloader \u001B[38;5;241m=\u001B[39m torch\u001B[38;5;241m.\u001B[39mutils\u001B[38;5;241m.\u001B[39mdata\u001B[38;5;241m.\u001B[39mDataLoader(mcd,\u001B[43mbatch\u001B[49m)\n",
      "\u001B[0;31mNameError\u001B[0m: name 'batch' is not defined"
     ]
    }
   ],
   "source": [
    "import torch\n",
    "dataloader = torch.utils.data.DataLoader(mcd,batch)"
   ],
   "metadata": {
    "collapsed": false
   }
  },
  {
   "cell_type": "code",
   "execution_count": 15,
   "outputs": [
    {
     "ename": "NameError",
     "evalue": "name 'dataloader' is not defined",
     "output_type": "error",
     "traceback": [
      "\u001B[0;31m---------------------------------------------------------------------------\u001B[0m",
      "\u001B[0;31mNameError\u001B[0m                                 Traceback (most recent call last)",
      "Input \u001B[0;32mIn [15]\u001B[0m, in \u001B[0;36m<cell line: 1>\u001B[0;34m()\u001B[0m\n\u001B[0;32m----> 1\u001B[0m dataIter \u001B[38;5;241m=\u001B[39m \u001B[38;5;28miter\u001B[39m(\u001B[43mdataloader\u001B[49m)\n",
      "\u001B[0;31mNameError\u001B[0m: name 'dataloader' is not defined"
     ]
    }
   ],
   "source": [
    "dataIter = iter(dataloader)"
   ],
   "metadata": {
    "collapsed": false
   }
  },
  {
   "cell_type": "code",
   "execution_count": 16,
   "outputs": [
    {
     "ename": "NameError",
     "evalue": "name 'dataIter' is not defined",
     "output_type": "error",
     "traceback": [
      "\u001B[0;31m---------------------------------------------------------------------------\u001B[0m",
      "\u001B[0;31mNameError\u001B[0m                                 Traceback (most recent call last)",
      "Input \u001B[0;32mIn [16]\u001B[0m, in \u001B[0;36m<cell line: 1>\u001B[0;34m()\u001B[0m\n\u001B[0;32m----> 1\u001B[0m \u001B[38;5;28mnext\u001B[39m(\u001B[43mdataIter\u001B[49m)\n",
      "\u001B[0;31mNameError\u001B[0m: name 'dataIter' is not defined"
     ]
    }
   ],
   "source": [
    "next(dataIter)"
   ],
   "metadata": {
    "collapsed": false
   }
  },
  {
   "cell_type": "code",
   "execution_count": 17,
   "outputs": [
    {
     "name": "stdout",
     "output_type": "stream",
     "text": [
      "MyDataSets.MyDataSets_Subset_4_9.__init__\n"
     ]
    }
   ],
   "source": [
    "import MyDataSet\n",
    "import pandas as pd\n",
    "import torch\n",
    "# dataset_test_4 = MyDataSet.MyDataSets_Subset_4(batch_size_train=-1)\n",
    "with torch.no_grad():\n",
    "    dataset_49 = MyDataSet.MyDataSets_Subset_4_9(batch_size_train=-1)\n",
    "    # dataset_test_9 = MyDataSet.MyDataSets_Subset_9(batch_size_train=-1)\n",
    "    img_49_batch, label_49_batch = next(iter(dataset_49.train_loader_subset_changed_labels))\n",
    "    rec49,mu49,sigma49 = model_copy(img_49_batch.clone())\n",
    "    z = mu49\n",
    "df = pd.DataFrame({'z0': rec49[:,0], 'z1': rec49[:,1], 'labels': label_49_batch})\n",
    "mcd = MyDataSet.MyCustomDataset(df)\n",
    "dataloader = torch.utils.data.DataLoader(mcd)\n"
   ],
   "metadata": {
    "collapsed": false
   }
  },
  {
   "cell_type": "code",
   "execution_count": 18,
   "outputs": [],
   "source": [
    "import model_probit\n",
    "pick_model = model_probit.latent_space()\n",
    "pick_model = helper.import_model_name(model_x=pick_model, activate_eval=True)"
   ],
   "metadata": {
    "collapsed": false
   }
  },
  {
   "cell_type": "code",
   "execution_count": 19,
   "outputs": [
    {
     "data": {
      "text/plain": "tensor([1, 1, 1, 1, 1, 0, 1, 1, 0, 0, 0, 1, 0, 0, 0, 0, 1, 0, 0, 0])"
     },
     "execution_count": 19,
     "metadata": {},
     "output_type": "execute_result"
    }
   ],
   "source": [
    "pick_model(z[:20])\n",
    "label_49_batch[\n",
    "    :20\n",
    "]"
   ],
   "metadata": {
    "collapsed": false
   }
  },
  {
   "cell_type": "code",
   "execution_count": 20,
   "outputs": [
    {
     "data": {
      "text/plain": "tensor([[0.5274],\n        [0.4694],\n        [0.4813],\n        [0.4334],\n        [0.4951],\n        [0.4983],\n        [0.5679],\n        [0.4329],\n        [0.4841],\n        [0.4949],\n        [0.4558],\n        [0.5380],\n        [0.4939],\n        [0.5634],\n        [0.5004],\n        [0.4669],\n        [0.5086],\n        [0.5115],\n        [0.5273],\n        [0.5130]], grad_fn=<SigmoidBackward0>)"
     },
     "execution_count": 20,
     "metadata": {},
     "output_type": "execute_result"
    }
   ],
   "source": [
    "pick_model(z[:20])\n"
   ],
   "metadata": {
    "collapsed": false
   }
  },
  {
   "cell_type": "code",
   "execution_count": 21,
   "outputs": [
    {
     "name": "stdout",
     "output_type": "stream",
     "text": [
      "Parameter containing:\n",
      "tensor([[ 0.1230, -0.3847]], requires_grad=True)\n",
      "Parameter containing:\n",
      "tensor([0.0013], requires_grad=True)\n"
     ]
    }
   ],
   "source": [
    "for x in pick_model.parameters():\n",
    "    print(x)\n",
    "    # print(x.data)"
   ],
   "metadata": {
    "collapsed": false
   }
  },
  {
   "cell_type": "code",
   "execution_count": 24,
   "outputs": [
    {
     "name": "stdout",
     "output_type": "stream",
     "text": [
      "tensor([0, 0, 0,  ..., 0, 0, 0])\n"
     ]
    }
   ],
   "source": [
    "labels =label_49_batch\n",
    "pred =  pick_model(z)\n",
    "pred_class = pred.argmax(dim=1)\n",
    "print(pred_class[10000:])"
   ],
   "metadata": {
    "collapsed": false
   }
  },
  {
   "cell_type": "code",
   "execution_count": 23,
   "outputs": [
    {
     "name": "stdout",
     "output_type": "stream",
     "text": [
      "torch.Size([11791])\n",
      "correct = tensor(5842)\n",
      "tensor(2.0183)\n"
     ]
    }
   ],
   "source": [
    "accuracy = pred_class==labels\n",
    "correct = accuracy.sum()\n",
    "print(pred_class.shape)\n",
    "print(f'{correct = }')\n",
    "print(pred_class.shape[0]/correct)"
   ],
   "metadata": {
    "collapsed": false
   }
  },
  {
   "cell_type": "code",
   "execution_count": null,
   "outputs": [],
   "source": [
    "# print(accuracy.where(True))"
   ],
   "metadata": {
    "collapsed": false
   }
  },
  {
   "cell_type": "code",
   "execution_count": 25,
   "outputs": [
    {
     "name": "stdout",
     "output_type": "stream",
     "text": [
      "Parameter containing:\n",
      "tensor([[ 0.1230, -0.3847]], requires_grad=True)\n",
      "Parameter containing:\n",
      "tensor([0.0013], requires_grad=True)\n"
     ]
    }
   ],
   "source": [
    "i = 0\n",
    "for x in pick_model.parameters():\n",
    "    print(x)\n",
    "    i+=1\n",
    "    # print(x.data)"
   ],
   "metadata": {
    "collapsed": false
   }
  },
  {
   "cell_type": "code",
   "execution_count": 28,
   "outputs": [
    {
     "name": "stdout",
     "output_type": "stream",
     "text": [
      "tensor([[ 0.1230, -0.3847]]) tensor([0.0013])\n"
     ]
    }
   ],
   "source": [
    "iterweights = iter(pick_model.parameters())\n",
    "w = next(iterweights).data\n",
    "w0 = next(iterweights).data\n",
    "print(w,w0)"
   ],
   "metadata": {
    "collapsed": false
   }
  },
  {
   "cell_type": "code",
   "execution_count": 32,
   "outputs": [
    {
     "name": "stdout",
     "output_type": "stream",
     "text": [
      "tensor([0.5506, 0.0284])\n"
     ]
    }
   ],
   "source": [
    "rand_tensor = torch.rand(2)\n",
    "print(rand_tensor)"
   ],
   "metadata": {
    "collapsed": false
   }
  },
  {
   "cell_type": "code",
   "execution_count": 47,
   "outputs": [
    {
     "name": "stdout",
     "output_type": "stream",
     "text": [
      "tensor([-3.5331e-04,  8.5566e-04,  1.1505e-03,  4.6542e-04, -4.0841e-04,\n",
      "         2.0493e-03, -1.4270e-03,  3.0001e-04,  7.3332e-04,  1.4707e-03,\n",
      "         1.0781e-03,  1.0915e-03, -1.4824e-03, -1.3175e-03, -1.2336e-04,\n",
      "         8.7532e-04, -1.2909e-03, -2.6412e-05, -2.4759e-03, -1.1528e-03,\n",
      "         1.3005e-04,  3.6414e-04, -1.7821e-03, -8.8561e-04,  1.0771e-03,\n",
      "         1.8296e-04,  2.2869e-03,  1.3089e-05, -8.0577e-04, -4.4084e-04,\n",
      "         1.4430e-03,  2.1007e-03,  9.7671e-04,  1.9924e-03, -5.2819e-04,\n",
      "        -1.0860e-03, -6.1981e-04, -2.0721e-03, -1.4996e-04,  6.1361e-04,\n",
      "         9.2124e-04, -1.1428e-04,  8.2584e-04,  6.8929e-04, -2.6949e-04,\n",
      "        -1.0743e-03,  1.6878e-03, -1.0317e-03,  1.5551e-03,  1.2258e-04,\n",
      "         1.4240e-03, -2.6023e-03, -1.5295e-03,  1.0991e-03, -1.4245e-03,\n",
      "        -5.4905e-05, -1.1285e-03,  3.4468e-04,  2.5382e-03,  9.0950e-04,\n",
      "        -8.6494e-04, -1.2787e-03,  3.5782e-03, -4.5043e-04,  7.3215e-04,\n",
      "        -1.3921e-04, -1.0296e-03, -5.2815e-05, -7.3456e-04, -6.7442e-04,\n",
      "        -4.3138e-04,  1.4694e-03, -1.9074e-03, -1.2847e-03, -7.1666e-04,\n",
      "        -2.4358e-03, -1.6929e-03, -7.2985e-04, -2.1765e-03, -1.8938e-03,\n",
      "        -3.3853e-04, -5.3270e-04, -1.8763e-03,  3.1296e-04, -7.5315e-04,\n",
      "        -8.3737e-04,  6.3181e-05, -7.7933e-04,  4.7835e-04, -1.1224e-03,\n",
      "         3.6224e-04,  1.9250e-03, -4.9055e-04, -9.6670e-04,  5.8315e-04,\n",
      "        -7.1269e-04, -6.2559e-04,  3.7045e-04,  1.9083e-03, -4.0095e-04,\n",
      "        -2.8924e-03,  1.0101e-03, -1.3928e-03, -5.9154e-05,  1.9532e-03,\n",
      "         3.4891e-04, -8.8123e-04, -3.5460e-04,  2.0570e-03,  1.0695e-03,\n",
      "        -6.0120e-04, -1.1852e-03,  3.2097e-04, -2.7052e-04,  4.5741e-04,\n",
      "         4.0437e-04,  5.4958e-04, -3.4108e-04, -1.1873e-03,  2.1036e-03,\n",
      "         1.8129e-03,  3.0696e-06,  1.7520e-03,  1.6675e-04,  2.3325e-03,\n",
      "         9.5203e-04,  8.0846e-05,  2.1561e-04,  2.2988e-03,  1.6474e-03,\n",
      "        -1.0670e-03, -2.6282e-03, -1.9908e-03, -8.9185e-04,  1.2189e-03,\n",
      "        -2.9448e-03, -1.2718e-03, -9.9682e-04,  2.2470e-04, -2.7979e-03,\n",
      "        -1.7560e-05, -1.5391e-03,  1.2286e-03, -1.3890e-03, -7.1797e-04,\n",
      "        -6.7619e-04, -2.8450e-03, -1.6136e-03,  1.9658e-03,  3.2132e-05,\n",
      "        -1.6891e-04,  1.0852e-03,  2.9037e-03,  4.0183e-03, -2.8051e-04,\n",
      "         1.1637e-03,  2.7440e-03, -2.7389e-04,  4.2767e-04,  1.7332e-03,\n",
      "         1.0224e-03,  1.0992e-03,  3.5958e-03, -3.5982e-03,  1.3380e-03,\n",
      "         3.8965e-04,  2.3879e-03, -7.1340e-04, -4.7051e-04, -1.9339e-03,\n",
      "         1.2192e-03,  3.6109e-04, -5.2714e-05,  2.9395e-04,  5.9831e-05,\n",
      "        -3.7734e-04,  3.9394e-04,  4.0780e-03,  6.5909e-03,  5.0660e-03,\n",
      "         1.8839e-02,  1.4307e-02,  2.0683e-02,  2.7286e-02,  1.5247e-02,\n",
      "         9.5968e-03,  2.9979e-02,  6.3753e-02,  5.9264e-02,  3.6268e-02,\n",
      "         1.3093e-02, -3.8192e-03, -1.5402e-03, -2.2225e-03, -1.9104e-03,\n",
      "        -2.0583e-03,  9.9234e-05, -9.2810e-04,  1.7815e-04, -1.8439e-03,\n",
      "         3.9889e-04, -1.5239e-03,  3.0937e-04, -1.3275e-03,  4.4200e-03,\n",
      "         1.0908e-02,  2.1452e-02,  7.1139e-02,  1.7528e-01,  2.2049e-01,\n",
      "         1.9314e-01,  1.0625e-01,  1.6018e-01,  3.0456e-01,  5.4328e-01,\n",
      "         6.2168e-01,  3.6658e-01,  1.7647e-01,  4.6624e-02, -1.9569e-03,\n",
      "         1.6369e-04,  4.7418e-04,  1.2473e-03,  1.6807e-04, -8.5358e-05,\n",
      "        -3.0737e-04,  6.9562e-04, -1.8922e-03, -2.7881e-04, -9.6360e-04,\n",
      "         1.7406e-03,  2.2181e-03,  7.3939e-03,  2.1084e-02,  1.2889e-01,\n",
      "         5.0775e-01,  8.0093e-01,  6.5291e-01,  2.1796e-01,  5.5330e-02,\n",
      "         8.2456e-02,  2.7319e-01,  7.1334e-01,  8.9876e-01,  6.1322e-01,\n",
      "         2.5508e-01,  4.8764e-02, -5.6273e-03, -1.7333e-03, -1.0479e-03,\n",
      "         2.2713e-05,  3.3204e-05,  8.0704e-04,  3.2439e-04,  1.7893e-03,\n",
      "        -1.1542e-03, -6.6915e-04, -3.3190e-04,  2.6006e-03,  1.7068e-03,\n",
      "         1.3068e-02,  1.0946e-01,  5.4894e-01,  9.2020e-01,  8.8471e-01,\n",
      "         3.2813e-01,  8.6211e-03,  3.3167e-02,  3.6402e-02,  1.5686e-01,\n",
      "         6.8433e-01,  9.1647e-01,  5.8613e-01,  2.2633e-01,  1.9147e-02,\n",
      "        -4.0771e-04, -1.2258e-03, -2.6376e-04, -6.1828e-04, -3.4835e-04,\n",
      "         3.4275e-04,  2.9923e-06, -1.7779e-03,  4.8655e-04, -5.7194e-04,\n",
      "         1.6340e-03,  1.3646e-03,  3.7204e-03,  4.9446e-02,  4.7478e-01,\n",
      "         9.0174e-01,  9.3447e-01,  4.5183e-01,  1.0345e-02,  1.3336e-02,\n",
      "         4.5617e-03, -2.9060e-03,  1.9125e-01,  8.1118e-01,  9.0961e-01,\n",
      "         5.1406e-01,  1.6356e-01,  4.0781e-03, -1.4282e-03, -1.5402e-03,\n",
      "        -2.1784e-03,  1.5566e-04, -9.4292e-04,  1.3028e-03,  3.5636e-04,\n",
      "         2.6464e-03, -1.1421e-03,  1.1423e-03,  1.5337e-03,  2.7082e-04,\n",
      "         1.0339e-02,  2.8182e-01,  8.2974e-01,  9.6021e-01,  5.5873e-01,\n",
      "         3.1196e-02,  1.3938e-03, -3.5018e-03,  3.4360e-04,  2.3478e-02,\n",
      "         5.4251e-01,  9.7494e-01,  8.5615e-01,  3.7191e-01,  5.6748e-02,\n",
      "         8.9183e-05, -8.5288e-04, -1.7548e-03, -2.3353e-03,  8.7941e-04,\n",
      "         7.7566e-04, -4.0420e-04, -9.7726e-04, -9.7002e-04, -1.8676e-03,\n",
      "         3.1817e-03, -1.6306e-04, -1.3367e-03,  9.0165e-02,  6.8555e-01,\n",
      "         9.5789e-01,  7.6049e-01,  7.2232e-02, -6.0596e-03, -8.9211e-03,\n",
      "        -4.4674e-03, -7.0499e-03,  2.6891e-01,  8.1138e-01,  1.0208e+00,\n",
      "         7.5596e-01,  2.1957e-01,  9.2429e-03, -7.8673e-04,  7.9997e-04,\n",
      "        -1.0215e-03,  5.3772e-04,  5.5291e-04,  1.1096e-03,  5.6121e-05,\n",
      "        -1.5009e-03, -1.7761e-03,  2.5924e-04,  1.6344e-03,  1.3847e-03,\n",
      "         2.2951e-02,  3.2152e-01,  8.9033e-01,  1.0043e+00,  5.6331e-01,\n",
      "        -2.0202e-02, -3.8903e-02, -8.9245e-03, -9.7277e-03,  1.6548e-01,\n",
      "         7.3856e-01,  9.9289e-01,  9.8865e-01,  5.6054e-01,  9.8138e-02,\n",
      "        -5.4854e-04,  6.4411e-04, -4.8622e-05, -6.8922e-04,  3.8780e-04,\n",
      "        -1.2077e-03, -2.6853e-03,  5.1873e-04, -7.0824e-04,  2.7205e-03,\n",
      "        -3.3600e-04, -7.5912e-04, -1.5113e-03,  6.9883e-02,  4.6438e-01,\n",
      "         9.7201e-01,  1.0120e+00,  7.2153e-01,  3.1208e-01,  1.4761e-01,\n",
      "         2.3048e-01,  5.2706e-01,  8.1230e-01,  9.7645e-01,  9.9230e-01,\n",
      "         9.3004e-01,  4.1524e-01,  2.4247e-02, -5.6628e-05, -2.8591e-03,\n",
      "        -1.6001e-03, -2.4684e-03, -6.9709e-04,  9.6637e-04, -2.3614e-03,\n",
      "        -1.9724e-03, -2.3373e-03, -1.1243e-03, -5.0700e-04, -5.7874e-04,\n",
      "        -1.7009e-03,  8.9269e-02,  4.4258e-01,  9.2006e-01,  1.0387e+00,\n",
      "         1.0081e+00,  1.0042e+00,  9.7997e-01,  9.8655e-01,  9.7891e-01,\n",
      "         9.8042e-01,  9.8227e-01,  1.0121e+00,  7.5144e-01,  1.9649e-01,\n",
      "         8.4301e-03,  1.7592e-03,  3.2924e-03, -5.2723e-04, -2.0189e-04,\n",
      "        -5.9345e-04, -9.0803e-04,  1.2348e-03,  4.1500e-05, -5.5493e-04,\n",
      "        -1.2988e-03, -9.3802e-04, -7.4849e-04, -1.5507e-03,  3.6847e-02,\n",
      "         2.5084e-01,  6.4467e-01,  8.4566e-01,  9.2391e-01,  9.4037e-01,\n",
      "         8.9724e-01,  8.7887e-01,  9.0674e-01,  9.6422e-01,  9.8552e-01,\n",
      "         9.6217e-01,  4.3384e-01,  3.9320e-02,  4.0201e-03,  4.3621e-03,\n",
      "         2.9811e-04, -1.6891e-03,  8.7666e-04, -1.2853e-03, -7.7829e-04,\n",
      "        -1.3872e-04, -6.9536e-04, -1.3755e-03, -2.8036e-04, -6.0889e-04,\n",
      "         6.3201e-04, -1.0419e-03, -2.4247e-03,  2.4669e-02,  1.0861e-01,\n",
      "         1.8510e-01,  2.5363e-01,  2.5928e-01,  2.4274e-01,  2.7757e-01,\n",
      "         7.2159e-01,  9.5746e-01,  9.9119e-01,  6.1397e-01,  6.0569e-02,\n",
      "        -3.2623e-03,  2.3925e-03,  9.9224e-04, -1.7280e-03,  3.0205e-04,\n",
      "        -1.8569e-03, -2.2705e-03,  2.5867e-05,  6.2086e-04,  1.2682e-03,\n",
      "        -8.3113e-04,  6.5777e-04, -8.1794e-04, -8.9406e-04,  1.0355e-03,\n",
      "        -3.1548e-03,  1.1887e-03, -3.8602e-04,  3.2065e-04,  2.5715e-03,\n",
      "        -1.7552e-03, -5.8767e-03,  2.2297e-01,  8.3419e-01,  9.7790e-01,\n",
      "         7.6497e-01,  1.7804e-01, -1.3325e-02, -5.5645e-04,  1.8662e-03,\n",
      "        -1.6920e-04, -1.8244e-04, -4.9596e-04, -1.5250e-04, -3.7171e-04,\n",
      "         1.1103e-03, -2.7869e-04, -5.6667e-04, -1.5961e-03,  2.3689e-04,\n",
      "        -6.6066e-04,  2.4509e-03,  1.2937e-03, -2.7797e-03, -9.8095e-04,\n",
      "         4.8646e-04,  2.8614e-04,  1.8956e-03,  1.8406e-03,  1.6093e-02,\n",
      "         4.8542e-01,  9.5391e-01,  8.9840e-01,  3.8697e-01,  1.2666e-02,\n",
      "        -4.1592e-03,  1.6085e-03,  6.7514e-04,  1.5888e-03,  1.7380e-03,\n",
      "        -2.2543e-04, -1.3463e-03,  1.8853e-03, -1.8809e-05,  3.5260e-04,\n",
      "        -1.3204e-03, -1.0305e-03,  1.5397e-03,  4.7603e-04, -1.7783e-03,\n",
      "        -7.3925e-04,  1.0955e-03, -2.4618e-03, -2.7275e-03,  5.8026e-04,\n",
      "         1.2894e-03, -4.9459e-03,  1.9416e-01,  7.8596e-01,  9.8059e-01,\n",
      "         6.5316e-01,  1.1556e-01, -6.1467e-03,  4.0479e-03,  5.0418e-04,\n",
      "        -3.8547e-05, -1.4992e-04, -2.0568e-04,  9.3391e-04,  2.4528e-03,\n",
      "        -1.6992e-03, -6.7497e-05,  1.5090e-03,  5.9976e-04, -9.8981e-06,\n",
      "         1.0926e-03, -9.6885e-04, -4.0522e-04, -1.8958e-03,  3.3569e-04,\n",
      "        -5.7247e-05,  2.7737e-03, -1.4478e-03, -3.5331e-03,  1.3198e-02,\n",
      "         4.4912e-01,  9.6651e-01,  9.4232e-01,  3.8170e-01,  9.5361e-03,\n",
      "        -3.0661e-03,  2.7677e-04, -2.1731e-04,  2.6158e-04,  2.2815e-03,\n",
      "         1.2493e-03,  2.6649e-03,  3.3005e-04, -4.5194e-04, -3.2681e-04,\n",
      "        -1.1728e-03,  2.3402e-03, -2.7422e-03, -5.2730e-04,  2.2723e-03,\n",
      "        -2.7026e-04,  3.9199e-04,  1.7291e-03,  1.7819e-03,  1.1817e-03,\n",
      "         7.6241e-04, -1.0017e-02,  2.0034e-01,  7.1582e-01,  1.0142e+00,\n",
      "         7.2239e-01,  1.8013e-01, -2.7852e-03, -9.7675e-04, -6.8817e-05,\n",
      "        -3.5113e-04, -2.4887e-03,  1.7215e-04,  6.6210e-04,  1.2693e-03,\n",
      "         2.8554e-03, -5.3467e-04,  3.4056e-05, -3.2980e-04,  1.1642e-03,\n",
      "        -4.6298e-04, -1.5059e-03,  2.1045e-03, -2.5032e-04,  8.3156e-04,\n",
      "         1.5458e-03,  2.4097e-03, -1.3069e-03,  6.1935e-04,  2.2048e-03,\n",
      "         3.3637e-01,  8.2872e-01,  9.5228e-01,  4.6918e-01,  7.8177e-02,\n",
      "         3.9038e-03,  2.1230e-04,  3.7458e-03, -1.0085e-03, -2.0068e-03,\n",
      "         1.6459e-03,  2.2916e-03,  1.8538e-03,  1.1390e-03,  1.9963e-04,\n",
      "         3.5148e-04, -3.4849e-04, -4.3952e-04, -2.4860e-04,  9.1012e-04,\n",
      "         2.0602e-03, -1.5272e-03,  1.0366e-03,  2.3031e-03,  3.5452e-03,\n",
      "        -2.7703e-04, -2.8969e-03, -7.1600e-05,  2.7086e-01,  5.3872e-01,\n",
      "         4.4692e-01,  1.5201e-01,  1.1851e-02,  8.8274e-03,  9.3366e-03,\n",
      "         3.4175e-03,  2.6380e-03,  3.3080e-04,  3.2688e-03,  1.3565e-03,\n",
      "        -1.8689e-03,  1.2847e-04, -1.2408e-04,  2.0410e-03, -6.8862e-04,\n",
      "        -2.7538e-03,  1.8293e-03,  1.2586e-03,  1.0258e-03, -5.0409e-05,\n",
      "         8.7021e-04,  3.0605e-04,  6.6018e-04,  1.1054e-03,  1.5637e-03,\n",
      "        -6.0616e-03,  7.0940e-03,  1.7834e-02,  1.7924e-02,  8.0759e-03,\n",
      "         7.0721e-03,  1.1377e-02,  1.0019e-02,  6.6810e-03,  5.1935e-03,\n",
      "         2.7294e-04, -1.0547e-03,  3.4748e-03, -9.6698e-05, -7.0542e-04,\n",
      "         1.4436e-03, -1.7628e-03, -2.8228e-05, -1.1971e-03,  5.0049e-05,\n",
      "        -1.3252e-03,  9.4848e-04,  4.7795e-04, -1.3374e-03, -4.6690e-05,\n",
      "         2.7135e-03,  2.4733e-03,  1.9729e-03,  4.1319e-03,  5.5790e-03,\n",
      "         2.9469e-03,  3.2236e-04,  3.1331e-03,  3.0040e-03,  3.1651e-03,\n",
      "         6.2213e-03,  3.3564e-03,  8.8892e-04,  1.7169e-03, -1.8184e-03,\n",
      "        -1.0243e-03, -3.8363e-05, -2.1246e-04, -6.1112e-04,  3.8424e-04,\n",
      "        -3.4796e-04, -1.3118e-03, -2.2728e-04,  2.5621e-04, -6.4791e-04,\n",
      "        -3.1145e-04, -3.2461e-04,  5.0837e-04,  1.6036e-04,  1.5283e-04,\n",
      "         1.7588e-03,  1.2195e-03,  6.5206e-05,  2.4572e-03,  2.7181e-03,\n",
      "        -1.9327e-04,  2.9310e-03,  1.2563e-03,  2.6363e-03, -1.1287e-04,\n",
      "         3.7931e-05,  1.6286e-04,  1.3107e-03, -5.7217e-05,  2.7239e-03,\n",
      "        -7.4197e-04,  2.4676e-04,  6.7146e-05,  1.5059e-03])\n"
     ]
    },
    {
     "data": {
      "text/plain": "<matplotlib.image.AxesImage at 0x15c994670>"
     },
     "execution_count": 47,
     "metadata": {},
     "output_type": "execute_result"
    },
    {
     "data": {
      "text/plain": "<Figure size 432x288 with 1 Axes>",
      "image/png": "[encoded data removed]"
     },
     "metadata": {
      "needs_background": "light"
     },
     "output_type": "display_data"
    }
   ],
   "source": [
    "import matplotlib.pyplot as plt\n",
    "with torch.no_grad():\n",
    "    decoded = model_copy_vae.decode(rand_tensor)\n",
    "print(decoded)\n",
    "plt.imshow(decoded.view(28,28))"
   ],
   "metadata": {
    "collapsed": false
   }
  },
  {
   "cell_type": "code",
   "execution_count": 41,
   "outputs": [
    {
     "name": "stdout",
     "output_type": "stream",
     "text": [
      "tensor([[ 0.0691, -0.0096]])\n"
     ]
    }
   ],
   "source": [
    "new = rand_tensor * w + w0\n",
    "print(new)"
   ],
   "metadata": {
    "collapsed": false
   }
  },
  {
   "cell_type": "code",
   "execution_count": 49,
   "outputs": [
    {
     "data": {
      "text/plain": "<matplotlib.image.AxesImage at 0x15bd3b400>"
     },
     "execution_count": 49,
     "metadata": {},
     "output_type": "execute_result"
    },
    {
     "data": {
      "text/plain": "<Figure size 432x288 with 1 Axes>",
      "image/png": "[encoded data removed]"
     },
     "metadata": {
      "needs_background": "light"
     },
     "output_type": "display_data"
    }
   ],
   "source": [
    "with torch.no_grad():\n",
    "    counter_img = model_copy_vae.decode(new)\n",
    "# plt.imshow(pick_model(new).view(28,28))\n",
    "plt.imshow(counter_img.view(28,28))"
   ],
   "metadata": {
    "collapsed": false
   }
  },
  {
   "cell_type": "code",
   "execution_count": 54,
   "outputs": [
    {
     "name": "stdout",
     "output_type": "stream",
     "text": [
      "alpha_i = tensor([[ 0.1208,  0.7245],\n",
      "        [-0.0386, -0.2317]])\n",
      "tensor([-0.5324,  0.1514])\n"
     ]
    },
    {
     "data": {
      "text/plain": "<Figure size 432x288 with 1 Axes>",
      "image/png": "[encoded data removed]"
     },
     "metadata": {
      "needs_background": "light"
     },
     "output_type": "display_data"
    }
   ],
   "source": [
    "alpha_i = - (torch.t(z[0]) * w + w0) / torch.t(w) * w\n",
    "print(f'{alpha_i = }')\n",
    "print(z[1])\n",
    "with torch.no_grad():\n",
    "    org_recons_img = model_copy_vae.decode(z[0])\n",
    "    plt.imshow(org_recons_img.view(28,28))"
   ],
   "metadata": {
    "collapsed": false
   }
  },
  {
   "cell_type": "code",
   "execution_count": 55,
   "outputs": [
    {
     "name": "stdout",
     "output_type": "stream",
     "text": [
      "MyDataSets.MyDataSets_Subset_4_9.__init__\n"
     ]
    }
   ],
   "source": [
    "model_copy = model.VaeFinal_only_one_hidden_copy()\n",
    "model_copy = helper.import_model_name_weights_copy(model_x=model_copy, activate_eval=True)\n",
    "# dataset_test_4 = MyDataSet.MyDataSets_Subset_4(batch_size_train=-1)\n",
    "with torch.no_grad():\n",
    "    dataset_49 = MyDataSet.MyDataSets_Subset_4_9(batch_size_train=-1)\n",
    "    img_49_batch, label_49_batch = next(iter(dataset_49.train_loader_subset_changed_labels))\n",
    "    rec49, mu49, sigma49 = model_copy(img_49_batch.clone())\n",
    "    z = mu49"
   ],
   "metadata": {
    "collapsed": false
   }
  },
  {
   "cell_type": "code",
   "execution_count": 77,
   "outputs": [
    {
     "name": "stdout",
     "output_type": "stream",
     "text": [
      "tensor([[ 0.1230, -0.3847]]) tensor([0.0013])\n"
     ]
    }
   ],
   "source": [
    "iterweights = iter(pick_model.parameters())\n",
    "w = next(iterweights).data\n",
    "w0 = next(iterweights).data\n",
    "print(w,w0)"
   ],
   "metadata": {
    "collapsed": false
   }
  },
  {
   "cell_type": "code",
   "execution_count": 99,
   "outputs": [
    {
     "name": "stdout",
     "output_type": "stream",
     "text": [
      "tensor([[ 0.1230, -0.3847]]) tensor([0.0013])\n",
      "tensor(0.0013)\n",
      "alpha_i = tensor([-0.1277,  0.0404])\n",
      "tensor([1.0270, 0.1085])\n"
     ]
    },
    {
     "data": {
      "text/plain": "<Figure size 432x288 with 1 Axes>",
      "image/png": "[encoded data removed]"
     },
     "metadata": {
      "needs_background": "light"
     },
     "output_type": "display_data"
    }
   ],
   "source": [
    "STEPS = 100\n",
    "iterweights = iter(pick_model.parameters())\n",
    "w = next(iterweights).data\n",
    "w0 = next(iterweights).data\n",
    "print(w,w0)\n",
    "w = w[0]\n",
    "w0 = w0[0]\n",
    "print(w0)\n",
    "alpha_i = - (torch.t(z[0]) * w + w0) / torch.t(w) * w\n",
    "print(f'{alpha_i = }')\n",
    "print(f'{z[0]}')\n",
    "with torch.no_grad():\n",
    "    org_recons_img = model_copy_vae.decode(z[0])\n",
    "    plt.imshow(org_recons_img.view(28,28))\n",
    "z_counter = z[0] + STEPS * alpha_i*w\n",
    "# print(f'{z_counter = }')\n",
    "# print(f'{torch.t(z[0]) = }')\n",
    "# print(f'{torch.t(w) = }')\n",
    "# print(f'{w.squeeze(dim = 0)[:] = }')\n",
    "# with torch.no_grad():\n",
    "#     z_counter_recons_img = model_copy_vae.decode(z_counter)\n",
    "#     plt.imshow(z_counter_recons_img.view(28,28))\n",
    "#     print(f'{z_counter = }')\n",
    "# print(f'{z[0] = }')\n"
   ],
   "metadata": {
    "collapsed": false
   }
  },
  {
   "cell_type": "code",
   "execution_count": 100,
   "outputs": [
    {
     "name": "stdout",
     "output_type": "stream",
     "text": [
      "z_counter = tensor([-0.5444, -1.4454])\n",
      "z[0] = tensor([1.0270, 0.1085])\n"
     ]
    },
    {
     "data": {
      "text/plain": "<Figure size 432x288 with 1 Axes>",
      "image/png": "[encoded data removed]"
     },
     "metadata": {
      "needs_background": "light"
     },
     "output_type": "display_data"
    }
   ],
   "source": [
    "with torch.no_grad():\n",
    "    z_counter_recons_img = model_copy_vae.decode(z_counter)\n",
    "    plt.imshow(z_counter_recons_img.view(28,28))\n",
    "    print(f'{z_counter = }')\n",
    "print(f'{z[0] = }')"
   ],
   "metadata": {
    "collapsed": false
   }
  },
  {
   "cell_type": "code",
   "execution_count": 104,
   "outputs": [
    {
     "data": {
      "text/plain": "<Figure size 432x288 with 1 Axes>",
      "image/png": "[encoded data removed]"
     },
     "metadata": {
      "needs_background": "light"
     },
     "output_type": "display_data"
    }
   ],
   "source": [
    "with torch.no_grad():\n",
    "    org_recons_img = model_copy_vae.decode(z[0])\n",
    "    plt.imshow(org_recons_img.view(28,28))"
   ],
   "metadata": {
    "collapsed": false
   }
  },
  {
   "cell_type": "code",
   "execution_count": 111,
   "outputs": [
    {
     "name": "stdout",
     "output_type": "stream",
     "text": [
      "alpha_i = tensor([-0.1277,  0.0404])\n",
      "tensor([1.0270, 0.1085])\n",
      "z = tensor([1.0270, 0.1085])\n",
      "z_counter = tensor([ 0.8699, -0.0469])\n",
      "z_counter = tensor([ 0.8699, -0.0469])\n"
     ]
    },
    {
     "data": {
      "text/plain": "<Figure size 432x288 with 1 Axes>",
      "image/png": "[encoded data removed]"
     },
     "metadata": {
      "needs_background": "light"
     },
     "output_type": "display_data"
    }
   ],
   "source": [
    "def plt_show_counter_with_steps(z,steps):\n",
    "    STEPS = steps\n",
    "    iterweights = iter(pick_model.parameters())\n",
    "    w = next(iterweights).data[0]\n",
    "    w0 = next(iterweights).data[0]\n",
    "    alpha_i = - (torch.t(z) * w + w0) / torch.t(w) * w\n",
    "    print(f'{alpha_i = }')\n",
    "    print(f'{z}')\n",
    "    z_counter = z + STEPS * alpha_i*w\n",
    "    print(f'{z = }')\n",
    "    print(f'{z_counter = }')\n",
    "\n",
    "    with torch.no_grad():\n",
    "        z_counter_recons_img = model_copy_vae.decode(z_counter)\n",
    "        plt.imshow(z_counter_recons_img.view(28,28))\n",
    "        print(f'{z_counter = }')\n",
    "\n",
    "plt_show_counter_with_steps(z[0], 10)"
   ],
   "metadata": {
    "collapsed": false
   }
  },
  {
   "cell_type": "code",
   "execution_count": 122,
   "outputs": [
    {
     "data": {
      "text/plain": "<matplotlib.image.AxesImage at 0x15d5defb0>"
     },
     "execution_count": 122,
     "metadata": {},
     "output_type": "execute_result"
    },
    {
     "data": {
      "text/plain": "<Figure size 432x288 with 1 Axes>",
      "image/png": "[encoded data removed]"
     },
     "metadata": {
      "needs_background": "light"
     },
     "output_type": "display_data"
    }
   ],
   "source": [
    "def return_counter_with_steps(z,steps=20):\n",
    "    STEPS = steps\n",
    "    iterweights = iter(pick_model.parameters())\n",
    "    w = next(iterweights).data[0]\n",
    "    w0 = next(iterweights).data[0]\n",
    "    alpha_i = - (torch.t(z) * w + w0) / torch.t(w) * w\n",
    "    z_counter = z + STEPS * alpha_i*w\n",
    "\n",
    "    with torch.no_grad():\n",
    "        z_counter_recons_img = model_copy_vae.decode(z_counter)\n",
    "        # plt.imshow(z_counter_recons_img.view(28,28))\n",
    "        # print(f'{z_counter = }')\n",
    "\n",
    "    return z_counter_recons_img.view(28,28)\n",
    "plt.imshow(return_counter_with_steps(z=z[0],steps=20))\n",
    "# plt.imshow(return_counter_with_steps(z=z[0],steps=100))"
   ],
   "metadata": {
    "collapsed": false
   }
  },
  {
   "cell_type": "code",
   "execution_count": 157,
   "outputs": [
    {
     "name": "stdout",
     "output_type": "stream",
     "text": [
      "torch.Size([11791, 1, 28, 28])\n",
      "torch.Size([11791, 1, 28, 28])\n"
     ]
    }
   ],
   "source": [
    "def return_counter_with_steps(z,steps=20):\n",
    "    STEPS = steps\n",
    "    iterweights = iter(pick_model.parameters())\n",
    "    w = next(iterweights).data[0]\n",
    "    w0 = next(iterweights).data[0]\n",
    "    alpha_i = - (z * w + w0) / torch.t(w) * w\n",
    "    # alpha_i = - (torch.t(z) * w + w0) / torch.t(w) * w\n",
    "    z_counter = z + STEPS * alpha_i*w\n",
    "\n",
    "    with torch.no_grad():\n",
    "        z_counter_recons_img = model_copy_vae.decode(z_counter)\n",
    "        # plt.imshow(z_counter_recons_img.view(28,28))\n",
    "        # print(f'{z_counter = }')\n",
    "    print(z_counter_recons_img.view(-1,1,28,28).shape)\n",
    "    return z_counter_recons_img.view(-1,1,28,28)\n",
    "counter_factuals = return_counter_with_steps(z=z,steps=20)\n",
    "print(counter_factuals.shape)\n",
    "# plt.imshow(return_counter_with_steps(z=z[0],steps=100))"
   ],
   "metadata": {
    "collapsed": false
   }
  },
  {
   "cell_type": "code",
   "execution_count": 166,
   "outputs": [
    {
     "name": "stdout",
     "output_type": "stream",
     "text": [
      "torch.Size([11791, 1, 28, 28])\n"
     ]
    },
    {
     "data": {
      "text/plain": "<Figure size 432x288 with 1 Axes>",
      "image/png": "[encoded data removed]"
     },
     "metadata": {
      "needs_background": "light"
     },
     "output_type": "display_data"
    }
   ],
   "source": [
    "from torchvision.utils import make_grid\n",
    "import numpy as np\n",
    "with torch.no_grad():\n",
    "    counter_factuals = return_counter_with_steps(z=z,steps=20)\n",
    "    counter_factuals = counter_factuals.clip(0,1)\n",
    "    counter_factuals = counter_factuals[:20]\n",
    "    counter_factuals = make_grid(counter_factuals, 10, 5)\n",
    "    # counter_factuals = make_grid(tensor=list(counter_factuals))\n",
    "    # counter_factuals = test_images.numpy()\n",
    "    counter_factuals = np.transpose(counter_factuals, (1, 2, 0))\n",
    "    plt.imshow(counter_factuals)\n",
    "    plt.show()"
   ],
   "metadata": {
    "collapsed": false
   }
  },
  {
   "cell_type": "code",
   "execution_count": 210,
   "outputs": [
    {
     "name": "stdout",
     "output_type": "stream",
     "text": [
      "STEPS = tensor([[ 0.0000,  0.0000],\n",
      "        [ 1.0270,  0.1085],\n",
      "        [ 2.0540,  0.2170],\n",
      "        [ 3.0810,  0.3255],\n",
      "        [ 4.1080,  0.4340],\n",
      "        [ 5.1351,  0.5425],\n",
      "        [ 6.1621,  0.6510],\n",
      "        [ 7.1891,  0.7595],\n",
      "        [ 8.2161,  0.8680],\n",
      "        [ 9.2431,  0.9766],\n",
      "        [10.2701,  1.0851],\n",
      "        [11.2971,  1.1936],\n",
      "        [12.3241,  1.3021],\n",
      "        [13.3511,  1.4106],\n",
      "        [14.3782,  1.5191],\n",
      "        [15.4052,  1.6276],\n",
      "        [16.4322,  1.7361],\n",
      "        [17.4592,  1.8446],\n",
      "        [18.4862,  1.9531],\n",
      "        [19.5132,  2.0616],\n",
      "        [20.5402,  2.1701]])\n",
      "z_one_image = tensor([1.0270, 0.1085])\n",
      "z_ones = tensor([1., 1., 1., 1., 1., 1., 1., 1., 1., 1., 1., 1., 1., 1., 1., 1., 1., 1.,\n",
      "        1., 1., 1.])\n",
      "STEPS = tensor([[ 0.0000,  0.0000],\n",
      "        [ 1.0270,  0.1085],\n",
      "        [ 2.0540,  0.2170],\n",
      "        [ 3.0810,  0.3255],\n",
      "        [ 4.1080,  0.4340],\n",
      "        [ 5.1351,  0.5425],\n",
      "        [ 6.1621,  0.6510],\n",
      "        [ 7.1891,  0.7595],\n",
      "        [ 8.2161,  0.8680],\n",
      "        [ 9.2431,  0.9766],\n",
      "        [10.2701,  1.0851],\n",
      "        [11.2971,  1.1936],\n",
      "        [12.3241,  1.3021],\n",
      "        [13.3511,  1.4106],\n",
      "        [14.3782,  1.5191],\n",
      "        [15.4052,  1.6276],\n",
      "        [16.4322,  1.7361],\n",
      "        [17.4592,  1.8446],\n",
      "        [18.4862,  1.9531],\n",
      "        [19.5132,  2.0616],\n",
      "        [20.5402,  2.1701]])\n"
     ]
    },
    {
     "ename": "RuntimeError",
     "evalue": "The size of tensor a (21) must match the size of tensor b (2) at non-singleton dimension 0",
     "output_type": "error",
     "traceback": [
      "\u001B[0;31m---------------------------------------------------------------------------\u001B[0m",
      "\u001B[0;31mRuntimeError\u001B[0m                              Traceback (most recent call last)",
      "Input \u001B[0;32mIn [210]\u001B[0m, in \u001B[0;36m<cell line: 35>\u001B[0;34m()\u001B[0m\n\u001B[1;32m     31\u001B[0m     \u001B[38;5;28mprint\u001B[39m(z_counter_recons_img\u001B[38;5;241m.\u001B[39mview(\u001B[38;5;241m-\u001B[39m\u001B[38;5;241m1\u001B[39m, \u001B[38;5;241m1\u001B[39m, \u001B[38;5;241m28\u001B[39m, \u001B[38;5;241m28\u001B[39m)\u001B[38;5;241m.\u001B[39mshape)\n\u001B[1;32m     32\u001B[0m     \u001B[38;5;28;01mreturn\u001B[39;00m z_counter_recons_img\u001B[38;5;241m.\u001B[39mview(\u001B[38;5;241m-\u001B[39m\u001B[38;5;241m1\u001B[39m, \u001B[38;5;241m1\u001B[39m, \u001B[38;5;241m28\u001B[39m, \u001B[38;5;241m28\u001B[39m)\n\u001B[0;32m---> 35\u001B[0m counter_factuals \u001B[38;5;241m=\u001B[39m \u001B[43mreturn_counter_with_x_steps\u001B[49m\u001B[43m(\u001B[49m\u001B[43mz_one_image\u001B[49m\u001B[38;5;241;43m=\u001B[39;49m\u001B[43mz\u001B[49m\u001B[43m[\u001B[49m\u001B[38;5;241;43m0\u001B[39;49m\u001B[43m]\u001B[49m\u001B[43m,\u001B[49m\u001B[43m \u001B[49m\u001B[43msteps_x_alpha_i\u001B[49m\u001B[38;5;241;43m=\u001B[39;49m\u001B[38;5;241;43m20\u001B[39;49m\u001B[43m)\u001B[49m\n\u001B[1;32m     36\u001B[0m \u001B[38;5;28mprint\u001B[39m(counter_factuals\u001B[38;5;241m.\u001B[39mshape)\n",
      "Input \u001B[0;32mIn [210]\u001B[0m, in \u001B[0;36mreturn_counter_with_x_steps\u001B[0;34m(z_one_image, steps_x_alpha_i)\u001B[0m\n\u001B[1;32m     12\u001B[0m \u001B[38;5;28mprint\u001B[39m(\u001B[38;5;124mf\u001B[39m\u001B[38;5;124m'\u001B[39m\u001B[38;5;132;01m{\u001B[39;00mz_ones \u001B[38;5;132;01m= }\u001B[39;00m\u001B[38;5;124m'\u001B[39m)\n\u001B[1;32m     13\u001B[0m \u001B[38;5;28mprint\u001B[39m(\u001B[38;5;124mf\u001B[39m\u001B[38;5;124m'\u001B[39m\u001B[38;5;132;01m{\u001B[39;00mSTEPS \u001B[38;5;132;01m= }\u001B[39;00m\u001B[38;5;124m'\u001B[39m)\n\u001B[0;32m---> 14\u001B[0m z_one_image \u001B[38;5;241m=\u001B[39m \u001B[43mz_ones\u001B[49m\u001B[43m \u001B[49m\u001B[38;5;241;43m*\u001B[39;49m\u001B[43m \u001B[49m\u001B[43mtorch\u001B[49m\u001B[38;5;241;43m.\u001B[39;49m\u001B[43mt\u001B[49m\u001B[43m(\u001B[49m\u001B[43mz_one_image\u001B[49m\u001B[43m)\u001B[49m\n\u001B[1;32m     15\u001B[0m \u001B[38;5;66;03m# z_one_image = z_one_image.repeat(2,steps_x_alpha_i)\u001B[39;00m\n\u001B[1;32m     16\u001B[0m \u001B[38;5;28mprint\u001B[39m(\u001B[38;5;124m'\u001B[39m\u001B[38;5;124m------\u001B[39m\u001B[38;5;124m'\u001B[39m)\n",
      "\u001B[0;31mRuntimeError\u001B[0m: The size of tensor a (21) must match the size of tensor b (2) at non-singleton dimension 0"
     ]
    }
   ],
   "source": [
    "def return_counter_with_x_steps(z_one_image:torch.Tensor, steps_x_alpha_i:int=20):\n",
    "    # STEPS = steps\n",
    "    # STEPS = torch.linspace(1, steps_x_alpha_i, steps=steps_x_alpha_i)\n",
    "    z_ones = torch.ones(steps_x_alpha_i+1)\n",
    "    # torch.fill(z_ones,z_one_image.item())\n",
    "    STEPS = torch.linspace(0, steps_x_alpha_i, steps=steps_x_alpha_i+1)\n",
    "\n",
    "    STEPS = STEPS.unsqueeze(dim = 1)\n",
    "    STEPS = STEPS * z_one_image\n",
    "    print(f'{STEPS = }')\n",
    "    print(f'{z_one_image = }')\n",
    "    print(f'{z_ones = }')\n",
    "    print(f'{STEPS = }')\n",
    "    z_one_image = z_ones * torch.t(z_one_image)\n",
    "    # z_one_image = z_one_image.repeat(2,steps_x_alpha_i)\n",
    "    print('------')\n",
    "    print(f'{z_one_image = }')\n",
    "    # print(STEPS.unsqueeze(dim = 1))\n",
    "    iterweights = iter(pick_model.parameters())\n",
    "    w = next(iterweights).data[0]\n",
    "    w0 = next(iterweights).data[0]\n",
    "    alpha_i = - (z_one_image * w + w0) / torch.t(w) * w\n",
    "    # z_counter = z + torch.t(STEPS) * alpha_i * w\n",
    "    # z_counter = z + STEPS * torch.t(alpha_i) * w\n",
    "    z_counter = z + STEPS * alpha_i * w\n",
    "\n",
    "    with torch.no_grad():\n",
    "        z_counter_recons_img = model_copy_vae.decode(z_counter)\n",
    "        # plt.imshow(z_counter_recons_img.view(28,28))\n",
    "        # print(f'{z_counter = }')\n",
    "    print(z_counter_recons_img.view(-1, 1, 28, 28).shape)\n",
    "    return z_counter_recons_img.view(-1, 1, 28, 28)\n",
    "\n",
    "\n",
    "counter_factuals = return_counter_with_x_steps(z_one_image=z[0], steps_x_alpha_i=20)\n",
    "print(counter_factuals.shape)"
   ],
   "metadata": {
    "collapsed": false
   }
  },
  {
   "cell_type": "code",
   "execution_count": null,
   "outputs": [],
   "source": [],
   "metadata": {
    "collapsed": false
   }
  }
 ],
 "metadata": {
  "kernelspec": {
   "display_name": "Python 3",
   "language": "python",
   "name": "python3"
  },
  "language_info": {
   "codemirror_mode": {
    "name": "ipython",
    "version": 2
   },
   "file_extension": ".py",
   "mimetype": "text/x-python",
   "name": "python",
   "nbconvert_exporter": "python",
   "pygments_lexer": "ipython2",
   "version": "2.7.6"
  }
 },
 "nbformat": 4,
 "nbformat_minor": 0
}
