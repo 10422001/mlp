{
 "cells": [
  {
   "cell_type": "code",
   "execution_count": 2,
   "metadata": {
    "collapsed": true
   },
   "outputs": [],
   "source": [
    "import torch            ##TODO USE LATER!!!\n",
    "import torchvision      ##Can be used to write into tensorboard!\n",
    "from torch.utils.tensorboard import SummaryWriter\n",
    "from torchvision import datasets, transforms\n",
    "\n",
    "# Writer will output to ./runs/ directory by default\n",
    "writer = SummaryWriter()\n",
    "testset = datasets.MNIST(root='data/testset', transform=transforms.ToTensor(), download=True)\n",
    "testsetloader = torch.utils.data.DataLoader(testset, batch_size=16, shuffle=True)  #TODO shuffle for random\n",
    "\n",
    "images, labels = next(iter(testsetloader))\n",
    "grid = torchvision.utils.make_grid(images)\n",
    "writer.add_image('images', grid, 0)\n",
    "# writer.add_graph(model, images)\n",
    "writer.close()"
   ]
  },
  {
   "cell_type": "code",
   "execution_count": 3,
   "outputs": [
    {
     "name": "stdout",
     "output_type": "stream",
     "text": [
      "TensorFlow installation not found - running with reduced feature set.\r\n",
      "\r\n",
      "NOTE: Using experimental fast data loading logic. To disable, pass\r\n",
      "    \"--load_fast=false\" and report issues on GitHub. More details:\r\n",
      "    https://github.com/tensorflow/tensorboard/issues/4784\r\n",
      "\r\n",
      "Serving TensorBoard on localhost; to expose to the network, use a proxy or pass --bind_all\r\n",
      "TensorBoard 2.11.0 at http://localhost:6006/ (Press CTRL+C to quit)\r\n",
      "^C\r\n"
     ]
    }
   ],
   "source": [
    "!tensorboard --logdir /Users/dominikocsofszki/PycharmProjects/mlp/runs"
   ],
   "metadata": {
    "collapsed": false
   }
  },
  {
   "cell_type": "code",
   "execution_count": null,
   "outputs": [],
   "source": [],
   "metadata": {
    "collapsed": false
   }
  }
 ],
 "metadata": {
  "kernelspec": {
   "display_name": "Python 3",
   "language": "python",
   "name": "python3"
  },
  "language_info": {
   "codemirror_mode": {
    "name": "ipython",
    "version": 2
   },
   "file_extension": ".py",
   "mimetype": "text/x-python",
   "name": "python",
   "nbconvert_exporter": "python",
   "pygments_lexer": "ipython2",
   "version": "2.7.6"
  }
 },
 "nbformat": 4,
 "nbformat_minor": 0
}
