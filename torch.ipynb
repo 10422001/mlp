{
 "cells": [
  {
   "cell_type": "code",
   "execution_count": 1,
   "metadata": {
    "collapsed": true
   },
   "outputs": [],
   "source": [
    "import torch"
   ]
  },
  {
   "cell_type": "code",
   "execution_count": 10,
   "outputs": [],
   "source": [
    "device = 'cude' if torch.cuda.is_available() else \"cpu\"\n",
    "device = 'mps'\n",
    "tensor = torch.tensor([[1,2,3],[4,5,6]],dtype=torch.float32,device = device,requires_grad=True)"
   ],
   "metadata": {
    "collapsed": false
   }
  },
  {
   "cell_type": "code",
   "execution_count": 11,
   "outputs": [
    {
     "name": "stdout",
     "output_type": "stream",
     "text": [
      "tensor([[1., 2., 3.],\n",
      "        [4., 5., 6.]], device='mps:0', requires_grad=True)\n"
     ]
    }
   ],
   "source": [
    "print(tensor)"
   ],
   "metadata": {
    "collapsed": false
   }
  },
  {
   "cell_type": "code",
   "execution_count": 12,
   "outputs": [
    {
     "name": "stdout",
     "output_type": "stream",
     "text": [
      "torch.float32\n",
      "mps:0\n",
      "torch.Size([2, 3])\n",
      "True\n"
     ]
    }
   ],
   "source": [
    "print(tensor.dtype)\n",
    "print(tensor.device)\n",
    "print(tensor.shape)\n",
    "print(tensor.requires_grad)"
   ],
   "metadata": {
    "collapsed": false
   }
  },
  {
   "cell_type": "code",
   "execution_count": 13,
   "outputs": [],
   "source": [
    "x = torch.empty(size = (3,3))"
   ],
   "metadata": {
    "collapsed": false
   }
  },
  {
   "cell_type": "code",
   "execution_count": 14,
   "outputs": [
    {
     "name": "stdout",
     "output_type": "stream",
     "text": [
      "tensor([[0., 0., 0.],\n",
      "        [0., 0., 0.],\n",
      "        [0., 0., 0.]])\n"
     ]
    }
   ],
   "source": [
    "print(x)"
   ],
   "metadata": {
    "collapsed": false
   }
  },
  {
   "cell_type": "code",
   "execution_count": 29,
   "outputs": [
    {
     "name": "stdout",
     "output_type": "stream",
     "text": [
      "tensor([[0.4998, 0.9992, 0.5657],\n",
      "        [0.4048, 0.3162, 0.2646],\n",
      "        [0.4323, 0.9148, 0.3618]])\n",
      "tensor([[1., 1., 1., 1., 1.],\n",
      "        [1., 1., 1., 1., 1.],\n",
      "        [1., 1., 1., 1., 1.],\n",
      "        [1., 1., 1., 1., 1.],\n",
      "        [1., 1., 1., 1., 1.]])\n",
      "tensor([0, 2, 4])\n",
      "tensor([0.1000, 0.2000, 0.3000, 0.4000, 0.5000, 0.6000, 0.7000, 0.8000, 0.9000,\n",
      "        1.0000])\n",
      "tensor([-4.0000, -3.7949, -3.5897, -3.3846, -3.1795, -2.9744, -2.7692, -2.5641,\n",
      "        -2.3590, -2.1538, -1.9487, -1.7436, -1.5385, -1.3333, -1.1282, -0.9231,\n",
      "        -0.7179, -0.5128, -0.3077, -0.1026,  0.1026,  0.3077,  0.5128,  0.7179,\n",
      "         0.9231,  1.1282,  1.3333,  1.5385,  1.7436,  1.9487,  2.1538,  2.3590,\n",
      "         2.5641,  2.7692,  2.9744,  3.1795,  3.3846,  3.5897,  3.7949,  4.0000])\n",
      "tensor([-4.0000, -3.7000, -3.4000, -3.1000, -2.8000, -2.5000, -2.2000, -1.9000,\n",
      "        -1.6000, -1.3000, -1.0000, -0.7000, -0.4000, -0.1000,  0.2000,  0.5000,\n",
      "         0.8000,  1.1000,  1.4000,  1.7000,  2.0000,  2.3000,  2.6000,  2.9000,\n",
      "         3.2000,  3.5000,  3.8000])\n"
     ]
    }
   ],
   "source": [
    "x=torch.rand((3,3))\n",
    "print(x)\n",
    "x=torch.ones(5,5)\n",
    "print(x)\n",
    "x=torch.arange(start =0,end=5,step =2)\n",
    "print(x)\n",
    "x = torch.linspace(start=0.1,end=1.,steps=10)\n",
    "print(x)\n",
    "x = torch.linspace(start=-4.,end=4.,steps=40)\n",
    "print(x)\n",
    "x=torch.arange(start =-4,end=4,step =0.3)\n",
    "print(x)"
   ],
   "metadata": {
    "collapsed": false
   }
  },
  {
   "cell_type": "code",
   "execution_count": null,
   "outputs": [],
   "source": [],
   "metadata": {
    "collapsed": false
   }
  }
 ],
 "metadata": {
  "kernelspec": {
   "display_name": "Python 3",
   "language": "python",
   "name": "python3"
  },
  "language_info": {
   "codemirror_mode": {
    "name": "ipython",
    "version": 2
   },
   "file_extension": ".py",
   "mimetype": "text/x-python",
   "name": "python",
   "nbconvert_exporter": "python",
   "pygments_lexer": "ipython2",
   "version": "2.7.6"
  }
 },
 "nbformat": 4,
 "nbformat_minor": 0
}
