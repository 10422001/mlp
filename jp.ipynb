{
 "cells": [
  {
   "cell_type": "code",
   "execution_count": 6,
   "outputs": [],
   "source": [
    "import model as modelImport\n",
    "import torch\n",
    "\n",
    "# pick_device = 'cpu'\n",
    "# DEVICE = torch.device(pick_device)\n",
    "# model = modelImport.MyModel2().to(DEVICE)\n"
   ],
   "metadata": {
    "collapsed": false
   }
  },
  {
   "cell_type": "code",
   "execution_count": 8,
   "outputs": [
    {
     "name": "stdout",
     "output_type": "stream",
     "text": [
      "Parameter containing:\n",
      "tensor([[[[-0.2478,  0.2808,  0.0250],\n",
      "          [ 0.2699,  0.2489, -0.3281],\n",
      "          [ 0.2090,  0.0511, -0.0031]]],\n",
      "\n",
      "\n",
      "        [[[-0.1557, -0.1154, -0.1337],\n",
      "          [-0.3157, -0.2251, -0.1963],\n",
      "          [ 0.3313,  0.0294,  0.1302]]],\n",
      "\n",
      "\n",
      "        [[[-0.3309, -0.2853, -0.0039],\n",
      "          [-0.2903, -0.1076, -0.1406],\n",
      "          [-0.1644,  0.1732,  0.0014]]],\n",
      "\n",
      "\n",
      "        [[[-0.3000,  0.2743,  0.1923],\n",
      "          [ 0.2722, -0.3275, -0.1100],\n",
      "          [-0.1309,  0.1634,  0.1880]]]], requires_grad=True)\n",
      "Parameter containing:\n",
      "tensor([-0.3185, -0.1076,  0.0320, -0.1569], requires_grad=True)\n",
      "Parameter containing:\n",
      "tensor([[ 0.0118,  0.0113,  0.0115,  ..., -0.0150, -0.0056,  0.0023],\n",
      "        [ 0.0060, -0.0170, -0.0043,  ..., -0.0073,  0.0130,  0.0030],\n",
      "        [ 0.0139,  0.0077, -0.0085,  ..., -0.0028,  0.0084, -0.0103],\n",
      "        ...,\n",
      "        [-0.0152,  0.0016,  0.0020,  ..., -0.0086,  0.0018,  0.0048],\n",
      "        [-0.0171, -0.0050, -0.0137,  ..., -0.0141, -0.0001,  0.0113],\n",
      "        [ 0.0090,  0.0061,  0.0054,  ..., -0.0168,  0.0012, -0.0129]],\n",
      "       requires_grad=True)\n",
      "Parameter containing:\n",
      "tensor([-0.0164, -0.0090,  0.0025, -0.0040,  0.0046,  0.0175, -0.0026,  0.0016,\n",
      "        -0.0152,  0.0153,  0.0120, -0.0080, -0.0074,  0.0068, -0.0103,  0.0099,\n",
      "        -0.0022,  0.0107,  0.0109, -0.0151, -0.0059, -0.0077,  0.0005, -0.0032,\n",
      "         0.0050,  0.0062, -0.0114,  0.0156, -0.0175,  0.0065, -0.0117, -0.0060,\n",
      "        -0.0128,  0.0153,  0.0153, -0.0103,  0.0136,  0.0050, -0.0034,  0.0016,\n",
      "        -0.0056, -0.0040,  0.0039,  0.0088, -0.0152, -0.0142,  0.0102,  0.0150,\n",
      "        -0.0099, -0.0147, -0.0010,  0.0146,  0.0112, -0.0059,  0.0065, -0.0044,\n",
      "        -0.0087, -0.0075, -0.0105, -0.0015, -0.0024,  0.0069,  0.0008, -0.0042,\n",
      "        -0.0109,  0.0104, -0.0008, -0.0159, -0.0152,  0.0079, -0.0025,  0.0009,\n",
      "        -0.0004, -0.0136,  0.0034,  0.0033,  0.0033, -0.0109,  0.0042,  0.0096,\n",
      "         0.0153, -0.0003, -0.0080,  0.0015,  0.0022, -0.0176, -0.0139,  0.0056,\n",
      "         0.0080, -0.0071, -0.0163,  0.0109, -0.0101, -0.0121,  0.0142, -0.0121,\n",
      "         0.0124,  0.0145,  0.0071, -0.0063], requires_grad=True)\n",
      "Parameter containing:\n",
      "tensor([[-5.1731e-04, -5.2619e-02, -2.4038e-03,  3.3085e-03,  9.0276e-02,\n",
      "          9.3579e-03, -9.2609e-02, -4.0266e-02,  5.6574e-04, -6.9665e-02,\n",
      "          8.6867e-03, -7.2818e-03,  5.4618e-02,  7.9285e-02,  8.2701e-02,\n",
      "         -6.0266e-02, -9.9743e-02, -6.1880e-02,  1.2735e-02, -2.0705e-02,\n",
      "         -6.0283e-02,  8.9682e-02,  1.0994e-02,  1.4142e-04, -7.2602e-02,\n",
      "          3.5578e-03,  5.3318e-02,  3.7655e-02,  6.6226e-02,  1.0213e-02,\n",
      "          8.2617e-02,  4.8570e-02, -8.0440e-02,  8.7512e-02, -4.4735e-02,\n",
      "         -3.7187e-02, -2.7536e-02, -5.3050e-02,  1.6145e-02, -8.0468e-02,\n",
      "          3.4729e-02,  6.9201e-02,  8.7882e-02, -5.7241e-03,  9.4628e-03,\n",
      "         -2.1861e-02,  2.5444e-02, -9.2708e-02, -1.5910e-02,  4.6713e-02,\n",
      "          8.4937e-03,  4.3345e-03,  2.9687e-02, -6.4531e-02, -4.9251e-02,\n",
      "         -4.8538e-02, -8.5879e-02,  4.8923e-02, -4.0905e-02, -3.0870e-02,\n",
      "         -1.5965e-02,  5.7845e-02, -5.4140e-02, -4.0144e-02,  8.5328e-03,\n",
      "          3.1243e-03,  2.9503e-02, -9.4203e-02, -8.9637e-02, -9.1705e-02,\n",
      "          1.4449e-02, -1.2261e-02, -3.9332e-02,  6.7913e-02, -6.1067e-02,\n",
      "         -6.9327e-02, -7.0430e-02, -2.0124e-02,  7.4118e-02, -5.2514e-02,\n",
      "         -3.3763e-02, -8.1468e-02, -7.5712e-02, -8.2587e-02, -9.2312e-02,\n",
      "          7.3176e-02,  9.6158e-02,  3.7758e-02,  9.5562e-02, -9.9638e-02,\n",
      "          6.7614e-02,  5.7107e-02, -1.0087e-02, -6.1673e-02,  9.2191e-02,\n",
      "          2.7387e-02,  7.9554e-02, -1.1165e-02, -1.1693e-02, -9.8214e-02],\n",
      "        [-1.1032e-02,  8.7396e-02, -2.3600e-02, -4.4441e-02,  4.4130e-02,\n",
      "          4.1739e-02, -1.0374e-02, -6.3992e-04,  7.0749e-02, -6.6487e-02,\n",
      "         -7.9984e-02,  4.6696e-02,  9.3809e-02,  4.3975e-02,  5.0815e-02,\n",
      "         -6.5488e-02,  9.0408e-02,  4.7039e-02, -1.7190e-02,  1.9446e-02,\n",
      "         -2.5863e-02,  4.5752e-02, -9.5477e-02,  1.4057e-02,  3.5821e-02,\n",
      "          5.5814e-02,  6.9738e-02,  1.2876e-02, -6.3333e-02,  6.4720e-02,\n",
      "          2.3119e-02,  9.7518e-02,  3.4561e-02,  3.6987e-02, -1.8437e-02,\n",
      "          4.5047e-02,  2.7056e-02,  5.7631e-02, -5.9435e-03, -2.0182e-03,\n",
      "          4.1764e-02,  5.3894e-02,  9.5592e-02,  3.3762e-02, -8.9181e-02,\n",
      "          8.7945e-02, -9.1401e-02, -7.9527e-02, -8.4287e-02, -6.6412e-02,\n",
      "         -2.8458e-02, -3.0160e-02,  7.7312e-02, -7.7384e-02,  4.2519e-02,\n",
      "          1.9517e-02,  6.2577e-02,  6.6151e-02, -7.1077e-03, -3.5105e-02,\n",
      "          5.4135e-02,  5.9684e-04,  1.4330e-02, -7.6811e-02, -6.8408e-02,\n",
      "         -7.5197e-02, -5.6559e-02,  7.1772e-02, -3.6113e-02,  3.0784e-02,\n",
      "          3.1459e-02,  6.3193e-02, -7.9053e-03, -8.3881e-02, -5.9294e-02,\n",
      "         -5.1560e-02,  7.2161e-02,  5.8633e-02,  3.4767e-02,  4.9903e-02,\n",
      "          5.5545e-02,  1.9820e-02, -1.2715e-02, -6.1532e-02, -7.5160e-02,\n",
      "         -6.9525e-02, -4.0143e-03, -7.1448e-02,  8.4796e-02,  6.4493e-02,\n",
      "          6.7405e-02, -2.5408e-02,  8.5121e-02,  2.1190e-02,  8.8340e-02,\n",
      "          7.4569e-02, -8.4463e-02, -6.0905e-02, -5.0923e-03, -6.3923e-03],\n",
      "        [-6.7722e-02,  9.7425e-03, -9.0599e-02,  2.6329e-02,  9.7145e-02,\n",
      "         -5.5971e-03,  2.2306e-02, -2.9481e-02, -1.8228e-02,  5.8959e-02,\n",
      "          6.5376e-02,  5.5452e-03, -7.2342e-02, -4.1579e-02,  8.6208e-02,\n",
      "         -2.7725e-02, -9.1943e-02,  7.7827e-02,  4.8102e-02, -9.9798e-02,\n",
      "          2.0489e-02,  7.6419e-02,  7.3204e-02, -1.5070e-03,  9.7024e-02,\n",
      "         -3.8920e-02,  1.9638e-02,  3.4840e-02, -6.9629e-02, -4.5215e-03,\n",
      "          7.6473e-02, -7.8248e-02, -9.7383e-02, -8.9690e-02,  1.2930e-02,\n",
      "         -7.3397e-02,  9.4859e-02, -7.2954e-02,  3.6168e-02,  8.1030e-02,\n",
      "         -3.5884e-02,  7.4743e-02,  9.5776e-02, -7.0786e-02, -3.6067e-02,\n",
      "         -2.1297e-02, -4.9804e-02, -7.9938e-03, -5.1532e-02, -3.9161e-02,\n",
      "         -2.3306e-02,  7.8425e-02, -5.3604e-02,  6.8305e-02, -6.7400e-02,\n",
      "         -1.2869e-02, -7.9287e-02, -6.3852e-02,  9.9036e-02,  1.1913e-02,\n",
      "         -4.4364e-02, -2.4253e-02, -9.8377e-02,  7.2648e-02, -4.8146e-02,\n",
      "         -7.0884e-02, -9.5486e-02,  6.7641e-02, -9.1263e-02, -2.0679e-02,\n",
      "          3.9770e-02, -4.6299e-02,  6.1512e-02, -1.9182e-02,  9.4276e-02,\n",
      "          5.3187e-02, -8.1435e-03, -7.1246e-03,  8.3239e-02, -6.9930e-02,\n",
      "         -9.6632e-02,  3.0480e-02, -1.0829e-02,  3.2512e-02,  1.5347e-02,\n",
      "         -9.1390e-02,  1.6157e-02,  5.6223e-02,  7.2610e-02, -8.5000e-02,\n",
      "          6.5189e-02,  7.2840e-02, -6.5521e-04,  6.8428e-02, -5.3090e-02,\n",
      "         -2.0005e-02, -4.2931e-02,  1.7579e-02, -6.5959e-02, -5.8357e-02],\n",
      "        [-2.3756e-02, -1.6190e-05,  7.6621e-02,  4.9310e-02,  4.9824e-02,\n",
      "         -9.8623e-02,  2.7178e-02, -4.9358e-02,  3.6803e-02, -1.9920e-02,\n",
      "         -9.4336e-02, -1.2962e-02, -8.1484e-02, -6.3826e-02,  7.7432e-02,\n",
      "         -6.2905e-02,  5.5710e-03,  4.8114e-02,  4.3574e-02,  3.2279e-02,\n",
      "         -3.4448e-02,  5.2875e-02, -4.5075e-02,  2.1276e-02, -5.5026e-02,\n",
      "          4.4272e-02,  8.4127e-02, -1.3740e-02,  4.5101e-02,  6.0640e-02,\n",
      "         -9.9080e-02,  5.9857e-02,  4.3922e-02, -9.1252e-02, -5.9991e-02,\n",
      "          9.5267e-02, -7.6937e-02,  5.5863e-02, -5.2035e-02,  4.9559e-02,\n",
      "         -9.4295e-02, -5.6030e-03, -6.6063e-02,  7.6031e-02, -4.6798e-02,\n",
      "         -2.3008e-02, -6.6724e-02, -8.6861e-02,  1.3725e-02,  6.7548e-02,\n",
      "         -7.3899e-02,  5.0481e-02,  1.3037e-02, -8.7929e-02,  9.9743e-02,\n",
      "          1.7057e-02,  9.9783e-03, -4.2724e-02,  2.4364e-02,  8.8164e-02,\n",
      "          1.8716e-02,  9.6321e-02, -5.9802e-02,  4.9369e-02,  4.2020e-02,\n",
      "          6.3380e-02,  4.7218e-02, -8.9107e-02,  7.2327e-02, -7.7843e-02,\n",
      "          6.4086e-02,  5.7983e-02, -8.5463e-03,  8.5049e-02, -1.3154e-02,\n",
      "         -9.4964e-02, -9.9780e-03, -8.2963e-02, -5.4414e-02, -7.7253e-02,\n",
      "          7.0838e-02, -1.9603e-02, -5.0597e-02,  5.0940e-02, -4.3405e-02,\n",
      "          7.2780e-02,  5.0187e-02,  8.9597e-02,  5.1637e-02, -5.1379e-02,\n",
      "         -5.1254e-02, -6.4372e-02, -5.9431e-02,  8.0791e-02,  2.3079e-03,\n",
      "         -7.1886e-02, -7.6048e-02,  5.8074e-02,  7.3327e-03, -2.7562e-03],\n",
      "        [ 4.5230e-02, -5.7448e-02, -4.1666e-02,  3.1830e-02, -5.7779e-02,\n",
      "          2.3741e-03,  1.9186e-02,  6.3015e-02, -7.2563e-02,  7.5634e-03,\n",
      "         -7.4634e-02, -6.6074e-02,  6.6542e-02,  8.7714e-02,  8.8629e-02,\n",
      "          6.3906e-04, -8.8349e-02,  7.9396e-02, -2.9176e-02,  4.2900e-02,\n",
      "          1.1405e-02, -4.9723e-02,  1.0263e-02,  4.0781e-02, -3.4491e-02,\n",
      "         -5.8620e-02,  8.6488e-02, -9.5858e-02, -6.8960e-02, -9.0815e-02,\n",
      "         -4.4161e-02,  7.7382e-02,  3.1136e-04, -7.1941e-02, -2.3729e-02,\n",
      "          9.9384e-02,  7.5168e-02, -9.5951e-02, -7.3839e-02,  4.5997e-03,\n",
      "          1.8016e-02,  4.5527e-03,  9.5700e-03,  7.2716e-02, -2.0977e-02,\n",
      "         -7.3711e-02, -3.6971e-02, -9.7463e-02,  1.1330e-02,  7.5245e-02,\n",
      "          3.6968e-02,  1.5441e-02, -8.8511e-02, -6.4217e-02, -4.9655e-02,\n",
      "          5.8622e-02,  7.4926e-02,  7.0556e-02,  2.4953e-03,  7.1869e-02,\n",
      "         -7.1181e-02,  2.0509e-02,  5.0261e-02,  1.6798e-02, -6.6595e-02,\n",
      "         -8.5132e-02, -3.6480e-02, -2.1755e-02, -9.8175e-02, -9.7589e-02,\n",
      "          8.3780e-02, -4.3438e-02, -4.7579e-02,  8.0360e-03,  1.1716e-02,\n",
      "          2.9204e-03, -8.0183e-02, -7.0538e-02, -5.0372e-02, -8.0853e-02,\n",
      "          3.2473e-02, -1.3228e-02, -9.2833e-02,  4.8461e-02,  2.6593e-02,\n",
      "         -4.7361e-02,  8.7095e-02,  8.0646e-02, -8.0171e-02,  9.3360e-02,\n",
      "          2.4139e-02, -9.4352e-02, -2.0996e-02, -4.5047e-02, -4.5426e-02,\n",
      "         -7.3999e-02,  7.5920e-02, -9.2148e-03, -6.0166e-03, -5.3101e-02],\n",
      "        [-6.7542e-02, -4.6644e-02,  5.1437e-02, -6.5370e-02,  7.9624e-02,\n",
      "         -4.0478e-02,  5.3171e-03,  3.6066e-02,  6.7043e-02, -9.5765e-02,\n",
      "          3.0204e-02,  7.0508e-02, -2.1700e-02,  9.4188e-03,  8.8272e-02,\n",
      "         -3.3774e-02,  9.3604e-02, -6.8001e-02, -6.7097e-02, -5.0416e-02,\n",
      "         -1.9040e-02,  1.1381e-02, -4.5292e-02, -3.1000e-03, -5.4054e-02,\n",
      "         -4.7331e-02,  6.1178e-02, -4.8497e-02,  3.1436e-02,  9.3546e-02,\n",
      "         -8.5991e-02,  8.8807e-02, -3.6212e-02,  4.9050e-02, -7.7441e-02,\n",
      "          4.0189e-02,  6.5566e-02,  5.1447e-02, -2.2188e-02, -5.6500e-02,\n",
      "          1.8350e-02,  1.1374e-02, -7.4132e-03, -5.7215e-02,  8.1073e-02,\n",
      "         -9.2093e-02,  1.0086e-02,  4.0577e-02, -4.6470e-02, -1.3497e-02,\n",
      "          9.0636e-02,  8.9349e-02, -6.6350e-02,  8.7004e-02,  9.8100e-02,\n",
      "          9.5099e-02, -4.8329e-02, -8.9285e-02,  1.2529e-02,  1.5590e-02,\n",
      "         -3.1363e-02, -4.5050e-02, -3.2350e-02, -5.6334e-02, -4.3135e-02,\n",
      "         -7.7064e-03,  2.7572e-02, -4.1050e-02,  1.5219e-02, -2.0112e-02,\n",
      "         -8.8732e-02, -9.1012e-02, -4.2363e-02,  6.8592e-02, -2.5921e-02,\n",
      "          1.6002e-02, -2.7894e-02, -1.2677e-02,  8.9147e-02,  2.2224e-02,\n",
      "          6.7858e-02,  8.4263e-02, -4.4773e-02, -2.4383e-02,  4.7392e-02,\n",
      "          9.8715e-03, -3.4966e-02, -3.5202e-02,  9.1942e-02, -8.8465e-02,\n",
      "          5.4376e-02, -1.7389e-02,  1.3315e-02,  9.6564e-02,  7.7924e-02,\n",
      "          5.5900e-02, -6.7447e-02, -5.1867e-02, -1.0145e-02,  9.2866e-02],\n",
      "        [ 7.0923e-02,  1.2848e-02,  2.2819e-02, -6.6230e-02,  2.4061e-02,\n",
      "         -2.2038e-02, -7.7570e-02, -4.0044e-02, -8.5221e-02, -6.5893e-02,\n",
      "         -1.1001e-02, -6.0468e-02,  3.5905e-02, -9.3521e-02,  6.1252e-02,\n",
      "         -6.3621e-02,  9.4995e-02, -3.1420e-02, -1.7973e-02, -5.1703e-02,\n",
      "          4.1664e-02,  1.7977e-02, -7.8494e-02, -4.2775e-02,  1.9816e-02,\n",
      "          7.7227e-02, -2.7568e-02,  4.5901e-02, -2.1671e-02,  9.1232e-02,\n",
      "         -4.7701e-02, -7.6302e-02,  6.1462e-02,  3.3602e-02, -6.0458e-03,\n",
      "         -7.8453e-02, -3.8302e-03,  1.0463e-02, -1.6161e-02,  2.7969e-02,\n",
      "         -6.6130e-03, -4.4540e-02, -6.5966e-02,  8.5430e-02,  4.3053e-02,\n",
      "          7.3088e-02,  2.1701e-02,  9.3266e-03,  5.8600e-02,  7.8500e-02,\n",
      "         -3.7071e-02, -7.1485e-02,  3.4279e-02,  1.8629e-02, -7.6521e-02,\n",
      "         -4.0204e-02,  6.2394e-02,  3.9521e-02,  4.2780e-02,  4.4242e-03,\n",
      "          4.0217e-03,  5.3489e-02, -3.4128e-02,  2.8758e-02, -6.8112e-02,\n",
      "          8.7088e-02,  6.4675e-02,  3.3862e-02, -9.0538e-02, -4.1954e-02,\n",
      "          7.5594e-03, -2.8184e-02,  9.2558e-02,  4.6730e-02, -7.1276e-02,\n",
      "         -3.3981e-02,  3.0458e-02, -7.1364e-02,  1.6064e-02,  3.8891e-02,\n",
      "          2.6911e-02,  9.2548e-02,  2.4071e-03,  4.9352e-02, -2.3405e-02,\n",
      "         -5.5017e-02, -3.2232e-02, -1.1284e-02, -2.1817e-02, -9.9023e-02,\n",
      "          1.1281e-02,  7.6334e-02, -3.5703e-02,  2.3311e-02, -1.0332e-02,\n",
      "          8.0467e-02, -7.3955e-02, -8.1251e-03, -7.9501e-03, -1.2462e-02],\n",
      "        [-8.9596e-02, -1.6030e-02, -1.3125e-02, -5.1591e-02, -2.3357e-02,\n",
      "         -9.4509e-02, -5.3708e-02, -8.8680e-02,  3.9198e-02,  8.7052e-02,\n",
      "         -5.0653e-02,  4.8276e-02, -2.4066e-02,  2.6796e-02,  5.1586e-02,\n",
      "         -4.3661e-02,  3.0488e-02, -9.1794e-02, -5.4178e-02, -8.6673e-02,\n",
      "          5.2210e-02,  6.3818e-02,  3.2972e-02, -6.7963e-02,  4.1936e-02,\n",
      "         -3.8049e-02, -7.9993e-03,  9.1542e-02, -9.8232e-03, -9.2970e-02,\n",
      "          5.8233e-02,  3.1298e-02,  9.5152e-02, -4.1505e-03,  4.6309e-02,\n",
      "          8.4492e-02, -1.2028e-02,  7.1476e-02,  9.5509e-02, -2.3331e-02,\n",
      "         -6.5530e-02, -7.4648e-03,  9.9658e-02, -8.7591e-02,  2.0331e-02,\n",
      "          5.4118e-02, -9.3559e-02,  4.7606e-02, -3.4929e-02, -1.6654e-02,\n",
      "          1.2459e-02,  7.0293e-02,  8.9576e-02, -4.6172e-02, -6.4424e-03,\n",
      "         -8.3851e-02, -2.1450e-02, -9.5097e-03,  7.4301e-02,  3.0486e-02,\n",
      "         -8.7826e-02,  5.2564e-02, -6.3264e-02, -1.3196e-02, -3.1666e-02,\n",
      "         -5.9212e-02, -1.3253e-02,  2.4015e-02,  9.4216e-02,  2.0299e-02,\n",
      "         -5.6115e-02, -5.4160e-02,  2.2217e-02,  1.4605e-02, -6.1941e-02,\n",
      "          6.0975e-03,  4.5427e-02,  2.4433e-02,  6.1203e-02,  3.5457e-02,\n",
      "         -1.4100e-02, -4.4030e-02,  6.5182e-02, -3.2311e-02,  3.4492e-02,\n",
      "          5.2296e-02,  8.5098e-02, -6.9470e-02,  5.1817e-02, -2.6490e-02,\n",
      "         -4.3409e-02, -7.1654e-02,  5.6476e-02,  8.5749e-02, -5.5390e-02,\n",
      "         -7.7992e-02, -9.4899e-02,  3.2491e-02,  6.9380e-02, -1.7862e-02],\n",
      "        [-3.5191e-02, -6.7140e-02,  2.5726e-02,  3.6601e-02, -1.5866e-02,\n",
      "         -7.2218e-02, -4.0060e-03,  8.1011e-02,  7.6002e-03,  4.0512e-02,\n",
      "          1.3355e-02, -3.5257e-02,  6.5050e-02, -4.5621e-02,  8.2687e-02,\n",
      "         -2.1032e-02,  1.8819e-02,  6.3943e-02, -7.1314e-02,  1.2262e-03,\n",
      "          1.3144e-02, -2.5723e-02, -8.8870e-02, -3.6952e-02, -4.1566e-02,\n",
      "          6.3300e-02, -2.0286e-02,  4.3478e-02,  8.3493e-02,  4.2357e-02,\n",
      "         -8.5423e-02, -6.6974e-02, -7.2943e-03,  1.1598e-02, -2.7687e-03,\n",
      "          5.3454e-02,  4.2991e-02, -5.7628e-02, -7.8323e-02, -6.5567e-02,\n",
      "          5.8906e-02,  1.2154e-02, -5.9412e-02, -9.7968e-02,  7.1734e-02,\n",
      "         -1.1759e-02,  9.6515e-02, -1.3328e-03,  5.3475e-02,  2.0337e-02,\n",
      "         -4.9094e-02,  9.8183e-02,  8.8123e-02,  4.9227e-02,  3.0718e-02,\n",
      "         -5.4766e-02, -6.5470e-02,  8.5297e-02,  4.7150e-03,  8.2194e-02,\n",
      "          7.7778e-02, -5.1665e-02,  1.7824e-02, -1.2348e-02,  5.1507e-02,\n",
      "          2.4088e-02,  9.8527e-02, -9.0705e-02, -8.7187e-02,  6.0263e-02,\n",
      "         -5.6440e-02, -5.1552e-02, -4.8901e-02, -6.7388e-02,  4.6312e-02,\n",
      "          6.4453e-02,  9.2309e-02, -6.3509e-02,  2.5949e-02, -7.9555e-02,\n",
      "          1.0468e-02,  8.2088e-02, -3.1157e-04,  8.1652e-02,  4.7397e-02,\n",
      "          1.9572e-02,  8.1219e-02,  6.3993e-03, -8.2877e-02,  6.4388e-02,\n",
      "         -9.6130e-02,  6.9337e-02, -3.7201e-02, -5.7246e-02, -8.6658e-02,\n",
      "          3.1571e-02, -9.6527e-02,  7.7375e-02, -7.9014e-02, -2.5714e-02],\n",
      "        [ 2.6781e-02,  7.6747e-03,  4.4697e-02, -6.7349e-03, -4.6848e-02,\n",
      "         -2.3921e-02,  2.7773e-02, -7.2712e-02,  7.9670e-02, -4.3409e-02,\n",
      "         -5.5006e-02, -3.8572e-02, -1.6859e-02,  1.6211e-02, -2.5322e-04,\n",
      "         -5.4680e-02, -3.8772e-02,  9.0492e-02,  8.9455e-02,  2.5917e-02,\n",
      "         -6.6034e-03,  7.9941e-03,  6.0508e-03, -1.4238e-02,  8.3762e-02,\n",
      "          7.1381e-02, -6.7937e-02,  2.4399e-02, -1.3179e-02,  9.5995e-02,\n",
      "         -2.9835e-02, -5.4829e-02, -1.8377e-02,  8.6978e-02, -7.5894e-03,\n",
      "         -2.2264e-02, -9.8641e-03, -1.2285e-02,  3.2204e-02,  5.0373e-02,\n",
      "          2.1136e-02, -8.0996e-02,  1.9003e-02,  6.6835e-02,  2.3049e-02,\n",
      "         -6.1191e-02,  3.4165e-02,  8.3512e-02, -3.9286e-02, -3.0007e-02,\n",
      "          8.1517e-02, -6.8414e-02, -4.5832e-02, -1.4014e-02,  9.3838e-02,\n",
      "          5.4849e-02, -7.3836e-02, -8.3617e-02, -2.7412e-02, -2.6024e-03,\n",
      "         -3.7819e-02,  2.8019e-02,  9.6444e-02,  5.5676e-02,  2.5665e-03,\n",
      "         -6.0423e-02,  5.9883e-02,  5.0200e-02,  2.8493e-02, -1.8360e-02,\n",
      "         -3.5482e-02, -8.8182e-02, -8.7461e-02, -1.0397e-02, -5.0124e-02,\n",
      "         -3.4999e-02,  5.4709e-02,  2.0034e-02, -5.3966e-03,  3.5921e-02,\n",
      "         -9.9775e-02,  4.3670e-02,  6.0856e-02, -2.3906e-02, -9.3240e-02,\n",
      "          4.1596e-02,  7.8973e-02,  2.1284e-02,  2.3920e-02, -1.7699e-02,\n",
      "          3.1870e-03,  5.8585e-02,  5.6705e-02,  3.9042e-02, -6.8756e-02,\n",
      "          4.3000e-02, -3.2753e-02,  2.1688e-02,  4.4911e-02, -9.7087e-02]],\n",
      "       requires_grad=True)\n",
      "Parameter containing:\n",
      "tensor([-0.0589,  0.0822,  0.0194, -0.0161,  0.0324, -0.0300, -0.0967,  0.0685,\n",
      "         0.0491,  0.0860], requires_grad=True)\n"
     ]
    }
   ],
   "source": [
    "# for x in model.parameters():\n",
    "#     print(x)"
   ],
   "metadata": {
    "collapsed": false
   }
  },
  {
   "cell_type": "code",
   "execution_count": 9,
   "outputs": [
    {
     "name": "stdout",
     "output_type": "stream",
     "text": [
      "MyModel2(\n",
      "  (conv1): Conv2d(1, 4, kernel_size=(3, 3), stride=(1, 1), padding=(1, 1))\n",
      "  (relu): ReLU()\n",
      "  (fc1): Linear(in_features=3136, out_features=100, bias=True)\n",
      "  (fc2): Linear(in_features=100, out_features=10, bias=True)\n",
      ")\n",
      "Conv2d(1, 4, kernel_size=(3, 3), stride=(1, 1), padding=(1, 1))\n",
      "ReLU()\n",
      "Linear(in_features=3136, out_features=100, bias=True)\n",
      "Linear(in_features=100, out_features=10, bias=True)\n"
     ]
    }
   ],
   "source": [
    "# for x in model.modules() :\n",
    "#     print(x)"
   ],
   "metadata": {
    "collapsed": false
   }
  },
  {
   "cell_type": "code",
   "execution_count": 14,
   "outputs": [
    {
     "name": "stdout",
     "output_type": "stream",
     "text": [
      "[MyModel2(\n",
      "  (conv1): Conv2d(1, 4, kernel_size=(3, 3), stride=(1, 1), padding=(1, 1))\n",
      "  (relu): ReLU()\n",
      "  (fc1): Linear(in_features=3136, out_features=100, bias=True)\n",
      "  (fc2): Linear(in_features=100, out_features=10, bias=True)\n",
      "), Conv2d(1, 4, kernel_size=(3, 3), stride=(1, 1), padding=(1, 1)), ReLU(), Linear(in_features=3136, out_features=100, bias=True), Linear(in_features=100, out_features=10, bias=True)]\n"
     ]
    }
   ],
   "source": [
    "# print(model.modules())\n",
    "# model_collection = [ x in model.modules()]\n",
    "# print(model_collection)\n",
    "entries = [entry for entry in model.modules()]  ##need to ignore other files!?!?<<<<<<<<\n",
    "print(entries)"
   ],
   "metadata": {
    "collapsed": false
   }
  },
  {
   "cell_type": "code",
   "execution_count": 149,
   "outputs": [
    {
     "data": {
      "text/plain": "VAE(\n  (relu): ReLU()\n  (flatten): Flatten(start_dim=1, end_dim=-1)\n  (img_to_hidden): Linear(in_features=784, out_features=100, bias=True)\n  (hidden_to_latent): Linear(in_features=100, out_features=20, bias=True)\n  (latent_to_image): Linear(in_features=20, out_features=784, bias=True)\n)"
     },
     "execution_count": 149,
     "metadata": {},
     "output_type": "execute_result"
    }
   ],
   "source": [
    "import torch\n",
    "from VAE import VAE\n",
    "\n",
    "PATH_VAE = '/Users/dominikocsofszki/PycharmProjects/mlp/data/weights/weights_training'\n",
    "\n",
    "model_vae = VAE()\n",
    "model_vae.load_state_dict(torch.load(PATH_VAE))\n",
    "model_vae.eval()\n"
   ],
   "metadata": {
    "collapsed": false
   }
  },
  {
   "cell_type": "code",
   "execution_count": 148,
   "outputs": [],
   "source": [
    "from torchvision.transforms import transforms\n",
    "from torchvision import datasets\n",
    "import torch.utils.data\n",
    "import matplotlib.pyplot as plt\n",
    "\n",
    "\n",
    "def get_test_images_random(count_of_images):\n",
    "    testset = datasets.MNIST(root='data/testset', transform=transforms.ToTensor(), download=True)\n",
    "    testsetloader = torch.utils.data.DataLoader(testset, batch_size=count_of_images, shuffle=True)  #TODO shuffle for\n",
    "    return next(iter(testsetloader))\n"
   ],
   "metadata": {
    "collapsed": false
   }
  },
  {
   "cell_type": "code",
   "execution_count": 202,
   "outputs": [
    {
     "name": "stdout",
     "output_type": "stream",
     "text": [
      "num_of_tests = 10\n"
     ]
    },
    {
     "data": {
      "text/plain": "<Figure size 432x288 with 10 Axes>",
      "image/png": "[encoded data removed]"
     },
     "metadata": {
      "needs_background": "light"
     },
     "output_type": "display_data"
    }
   ],
   "source": [
    "from torch.utils.data import Dataset\n",
    "import numpy as np\n",
    "import matplotlib.pyplot as plt\n",
    "\n",
    "# First create some toy data:\n",
    "# x = np.linspace(0, 2 * np.pi, 400)\n",
    "# y = np.sin(x ** 2)\n",
    "#\n",
    "# f, axs = plt.subplots(1, 4, sharey='all')\n",
    "# axs[0].plot(x, y)\n",
    "# axs[0].set_title('Sharing Y axis')\n",
    "# axs[1].scatter(x, y)\n",
    "# testing_images = get_test_images_random(3)\n",
    "\n",
    "\n",
    "def show_images_from_testing(count_of_images):\n",
    "    testset = datasets.MNIST(root='data/testset', transform=transforms.ToTensor(), download=True)\n",
    "    testsetloader = torch.utils.data.DataLoader(testset, batch_size=count_of_images, shuffle=True)  #TODO shuffle for\n",
    "    testing_images, labels =  next(iter(testsetloader))\n",
    "\n",
    "    num_of_tests = testing_images.__len__()\n",
    "    fig, axs = plt.subplots(1, num_of_tests)\n",
    "    print(f'{num_of_tests = }')\n",
    "    for indx in range(num_of_tests):\n",
    "        axs[indx].imshow(testing_images[indx,0,:,:])\n",
    "        axs[indx].set_title(int(labels[indx]))\n",
    "\n",
    "\n",
    "show_images_from_testing(10)\n"
   ],
   "metadata": {
    "collapsed": false
   }
  },
  {
   "cell_type": "code",
   "execution_count": null,
   "outputs": [],
   "source": [
    "import torch\n",
    "import numpy as np\n",
    "import matplotlib.pyplot as plt\n",
    "\n",
    "import torchvision.transforms.functional as F\n",
    "\n",
    "plt.rcParams[\"savefig.bbox\"] = 'tight'\n",
    "\n",
    "\n",
    "def show(imgs):\n",
    "    if not isinstance(imgs, list):\n",
    "        imgs = [imgs]\n",
    "    fig, axs = plt.subplots(ncols=len(imgs), squeeze=False)\n",
    "    for i, img in enumerate(imgs):\n",
    "        img = img.detach()\n",
    "        img = F.to_pil_image(img)\n",
    "        axs[0, i].imshow(np.asarray(img))\n",
    "        axs[0, i].set(xticklabels=[], yticklabels=[], xticks=[], yticks=[])"
   ],
   "metadata": {
    "collapsed": false
   }
  },
  {
   "cell_type": "code",
   "execution_count": 59,
   "outputs": [
    {
     "name": "stdout",
     "output_type": "stream",
     "text": [
      "steps = 0\n",
      "steps = 1\n",
      "steps = 2\n",
      "steps = 3\n"
     ]
    },
    {
     "ename": "ValueError",
     "evalue": "pic should be 2/3 dimensional. Got 4 dimensions.",
     "output_type": "error",
     "traceback": [
      "\u001B[0;31m---------------------------------------------------------------------------\u001B[0m",
      "\u001B[0;31mValueError\u001B[0m                                Traceback (most recent call last)",
      "Input \u001B[0;32mIn [59]\u001B[0m, in \u001B[0;36m<cell line: 3>\u001B[0;34m()\u001B[0m\n\u001B[1;32m      1\u001B[0m testing_images \u001B[38;5;241m=\u001B[39m get_test_image_random(\u001B[38;5;241m3\u001B[39m)\n\u001B[1;32m      2\u001B[0m only_images \u001B[38;5;241m=\u001B[39m testing_images[\u001B[38;5;241m0\u001B[39m]\n\u001B[0;32m----> 3\u001B[0m \u001B[43mshow\u001B[49m\u001B[43m(\u001B[49m\u001B[43monly_images\u001B[49m\u001B[43m)\u001B[49m\n",
      "Input \u001B[0;32mIn [57]\u001B[0m, in \u001B[0;36mshow\u001B[0;34m(imgs)\u001B[0m\n\u001B[1;32m     15\u001B[0m \u001B[38;5;28;01mfor\u001B[39;00m i, img \u001B[38;5;129;01min\u001B[39;00m \u001B[38;5;28menumerate\u001B[39m(imgs):\n\u001B[1;32m     16\u001B[0m     img \u001B[38;5;241m=\u001B[39m img\u001B[38;5;241m.\u001B[39mdetach()\n\u001B[0;32m---> 17\u001B[0m     img \u001B[38;5;241m=\u001B[39m \u001B[43mF\u001B[49m\u001B[38;5;241;43m.\u001B[39;49m\u001B[43mto_pil_image\u001B[49m\u001B[43m(\u001B[49m\u001B[43mimg\u001B[49m\u001B[43m)\u001B[49m\n\u001B[1;32m     18\u001B[0m     axs[\u001B[38;5;241m0\u001B[39m, i]\u001B[38;5;241m.\u001B[39mimshow(np\u001B[38;5;241m.\u001B[39masarray(img))\n\u001B[1;32m     19\u001B[0m     axs[\u001B[38;5;241m0\u001B[39m, i]\u001B[38;5;241m.\u001B[39mset(xticklabels\u001B[38;5;241m=\u001B[39m[], yticklabels\u001B[38;5;241m=\u001B[39m[], xticks\u001B[38;5;241m=\u001B[39m[], yticks\u001B[38;5;241m=\u001B[39m[])\n",
      "File \u001B[0;32m/opt/homebrew/Caskroom/miniforge/base/envs/mlp/lib/python3.10/site-packages/torchvision/transforms/functional.py:263\u001B[0m, in \u001B[0;36mto_pil_image\u001B[0;34m(pic, mode)\u001B[0m\n\u001B[1;32m    261\u001B[0m \u001B[38;5;28;01melif\u001B[39;00m \u001B[38;5;28misinstance\u001B[39m(pic, torch\u001B[38;5;241m.\u001B[39mTensor):\n\u001B[1;32m    262\u001B[0m     \u001B[38;5;28;01mif\u001B[39;00m pic\u001B[38;5;241m.\u001B[39mndimension() \u001B[38;5;129;01mnot\u001B[39;00m \u001B[38;5;129;01min\u001B[39;00m {\u001B[38;5;241m2\u001B[39m, \u001B[38;5;241m3\u001B[39m}:\n\u001B[0;32m--> 263\u001B[0m         \u001B[38;5;28;01mraise\u001B[39;00m \u001B[38;5;167;01mValueError\u001B[39;00m(\u001B[38;5;124mf\u001B[39m\u001B[38;5;124m\"\u001B[39m\u001B[38;5;124mpic should be 2/3 dimensional. Got \u001B[39m\u001B[38;5;132;01m{\u001B[39;00mpic\u001B[38;5;241m.\u001B[39mndimension()\u001B[38;5;132;01m}\u001B[39;00m\u001B[38;5;124m dimensions.\u001B[39m\u001B[38;5;124m\"\u001B[39m)\n\u001B[1;32m    265\u001B[0m     \u001B[38;5;28;01melif\u001B[39;00m pic\u001B[38;5;241m.\u001B[39mndimension() \u001B[38;5;241m==\u001B[39m \u001B[38;5;241m2\u001B[39m:\n\u001B[1;32m    266\u001B[0m         \u001B[38;5;66;03m# if 2D image, add channel dimension (CHW)\u001B[39;00m\n\u001B[1;32m    267\u001B[0m         pic \u001B[38;5;241m=\u001B[39m pic\u001B[38;5;241m.\u001B[39munsqueeze(\u001B[38;5;241m0\u001B[39m)\n",
      "\u001B[0;31mValueError\u001B[0m: pic should be 2/3 dimensional. Got 4 dimensions."
     ]
    },
    {
     "data": {
      "text/plain": "<Figure size 432x288 with 2 Axes>",
      "image/png": "[encoded data removed]"
     },
     "metadata": {
      "needs_background": "light"
     },
     "output_type": "display_data"
    }
   ],
   "source": [
    "testing_images = get_test_image_random(3)\n",
    "only_images = testing_images[0]\n",
    "show(only_images)"
   ],
   "metadata": {
    "collapsed": false
   }
  },
  {
   "cell_type": "code",
   "execution_count": 100,
   "outputs": [
    {
     "ename": "ModuleNotFoundError",
     "evalue": "No module named 'tensorboard'",
     "output_type": "error",
     "traceback": [
      "\u001B[0;31m---------------------------------------------------------------------------\u001B[0m",
      "\u001B[0;31mModuleNotFoundError\u001B[0m                       Traceback (most recent call last)",
      "Input \u001B[0;32mIn [100]\u001B[0m, in \u001B[0;36m<cell line: 1>\u001B[0;34m()\u001B[0m\n\u001B[0;32m----> 1\u001B[0m \u001B[38;5;28;01mfrom\u001B[39;00m \u001B[38;5;21;01mtorch\u001B[39;00m\u001B[38;5;21;01m.\u001B[39;00m\u001B[38;5;21;01mutils\u001B[39;00m\u001B[38;5;21;01m.\u001B[39;00m\u001B[38;5;21;01mtensorboard\u001B[39;00m \u001B[38;5;28;01mimport\u001B[39;00m SummaryWriter\n",
      "File \u001B[0;32m/opt/homebrew/Caskroom/miniforge/base/envs/mlp/lib/python3.10/site-packages/torch/utils/tensorboard/__init__.py:1\u001B[0m, in \u001B[0;36m<module>\u001B[0;34m\u001B[0m\n\u001B[0;32m----> 1\u001B[0m \u001B[38;5;28;01mimport\u001B[39;00m \u001B[38;5;21;01mtensorboard\u001B[39;00m\n\u001B[1;32m      2\u001B[0m \u001B[38;5;28;01mfrom\u001B[39;00m \u001B[38;5;21;01mdistutils\u001B[39;00m\u001B[38;5;21;01m.\u001B[39;00m\u001B[38;5;21;01mversion\u001B[39;00m \u001B[38;5;28;01mimport\u001B[39;00m LooseVersion\n\u001B[1;32m      4\u001B[0m \u001B[38;5;28;01mif\u001B[39;00m \u001B[38;5;129;01mnot\u001B[39;00m \u001B[38;5;28mhasattr\u001B[39m(tensorboard, \u001B[38;5;124m\"\u001B[39m\u001B[38;5;124m__version__\u001B[39m\u001B[38;5;124m\"\u001B[39m) \u001B[38;5;129;01mor\u001B[39;00m LooseVersion(\n\u001B[1;32m      5\u001B[0m     tensorboard\u001B[38;5;241m.\u001B[39m__version__\n\u001B[1;32m      6\u001B[0m ) \u001B[38;5;241m<\u001B[39m LooseVersion(\u001B[38;5;124m\"\u001B[39m\u001B[38;5;124m1.15\u001B[39m\u001B[38;5;124m\"\u001B[39m):\n",
      "\u001B[0;31mModuleNotFoundError\u001B[0m: No module named 'tensorboard'"
     ]
    }
   ],
   "source": [
    "from torch.utils.tensorboard import SummaryWriter\n"
   ],
   "metadata": {
    "collapsed": false
   }
  },
  {
   "cell_type": "code",
   "execution_count": 101,
   "outputs": [
    {
     "ename": "ModuleNotFoundError",
     "evalue": "No module named 'tensorboard'",
     "output_type": "error",
     "traceback": [
      "\u001B[0;31m---------------------------------------------------------------------------\u001B[0m",
      "\u001B[0;31mModuleNotFoundError\u001B[0m                       Traceback (most recent call last)",
      "Input \u001B[0;32mIn [101]\u001B[0m, in \u001B[0;36m<cell line: 2>\u001B[0;34m()\u001B[0m\n\u001B[1;32m      1\u001B[0m \u001B[38;5;28;01mimport\u001B[39;00m \u001B[38;5;21;01mtorchvision\u001B[39;00m\n\u001B[0;32m----> 2\u001B[0m \u001B[38;5;28;01mfrom\u001B[39;00m \u001B[38;5;21;01mtorch\u001B[39;00m\u001B[38;5;21;01m.\u001B[39;00m\u001B[38;5;21;01mutils\u001B[39;00m\u001B[38;5;21;01m.\u001B[39;00m\u001B[38;5;21;01mtensorboard\u001B[39;00m \u001B[38;5;28;01mimport\u001B[39;00m SummaryWriter\n\u001B[1;32m      4\u001B[0m testset \u001B[38;5;241m=\u001B[39m datasets\u001B[38;5;241m.\u001B[39mMNIST(root\u001B[38;5;241m=\u001B[39m\u001B[38;5;124m'\u001B[39m\u001B[38;5;124mdata/testset\u001B[39m\u001B[38;5;124m'\u001B[39m, transform\u001B[38;5;241m=\u001B[39mtransforms\u001B[38;5;241m.\u001B[39mToTensor(), download\u001B[38;5;241m=\u001B[39m\u001B[38;5;28;01mTrue\u001B[39;00m)\n\u001B[1;32m      5\u001B[0m testsetloader \u001B[38;5;241m=\u001B[39m torch\u001B[38;5;241m.\u001B[39mutils\u001B[38;5;241m.\u001B[39mdata\u001B[38;5;241m.\u001B[39mDataLoader(testset, batch_size\u001B[38;5;241m=\u001B[39m\u001B[38;5;241m1\u001B[39m, shuffle\u001B[38;5;241m=\u001B[39m\u001B[38;5;28;01mTrue\u001B[39;00m)  \u001B[38;5;66;03m#TODO shuffle for random\u001B[39;00m\n",
      "File \u001B[0;32m/opt/homebrew/Caskroom/miniforge/base/envs/mlp/lib/python3.10/site-packages/torch/utils/tensorboard/__init__.py:1\u001B[0m, in \u001B[0;36m<module>\u001B[0;34m\u001B[0m\n\u001B[0;32m----> 1\u001B[0m \u001B[38;5;28;01mimport\u001B[39;00m \u001B[38;5;21;01mtensorboard\u001B[39;00m\n\u001B[1;32m      2\u001B[0m \u001B[38;5;28;01mfrom\u001B[39;00m \u001B[38;5;21;01mdistutils\u001B[39;00m\u001B[38;5;21;01m.\u001B[39;00m\u001B[38;5;21;01mversion\u001B[39;00m \u001B[38;5;28;01mimport\u001B[39;00m LooseVersion\n\u001B[1;32m      4\u001B[0m \u001B[38;5;28;01mif\u001B[39;00m \u001B[38;5;129;01mnot\u001B[39;00m \u001B[38;5;28mhasattr\u001B[39m(tensorboard, \u001B[38;5;124m\"\u001B[39m\u001B[38;5;124m__version__\u001B[39m\u001B[38;5;124m\"\u001B[39m) \u001B[38;5;129;01mor\u001B[39;00m LooseVersion(\n\u001B[1;32m      5\u001B[0m     tensorboard\u001B[38;5;241m.\u001B[39m__version__\n\u001B[1;32m      6\u001B[0m ) \u001B[38;5;241m<\u001B[39m LooseVersion(\u001B[38;5;124m\"\u001B[39m\u001B[38;5;124m1.15\u001B[39m\u001B[38;5;124m\"\u001B[39m):\n",
      "\u001B[0;31mModuleNotFoundError\u001B[0m: No module named 'tensorboard'"
     ]
    }
   ],
   "source": [
    "import torchvision\n",
    "from torch.utils.tensorboard import SummaryWriter\n",
    "\n",
    "testset = datasets.MNIST(root='data/testset', transform=transforms.ToTensor(), download=True)\n",
    "testsetloader = torch.utils.data.DataLoader(testset, batch_size=1, shuffle=True)  #TODO shuffle for random\n",
    "# get some random training images\n",
    "dataiter = iter(testsetloader)\n",
    "images, labels = next(dataiter)\n",
    "\n",
    "# create grid of images\n",
    "img_grid = torchvision.utils.make_grid(images)\n",
    "\n",
    "# show images\n",
    "matplotlib_imshow(img_grid, one_channel=True)\n",
    "\n",
    "# write to tensorboard\n",
    "writer.add_image('four_fashion_mnist_images', img_grid)"
   ],
   "metadata": {
    "collapsed": false
   }
  },
  {
   "cell_type": "code",
   "execution_count": 187,
   "outputs": [
    {
     "name": "stdout",
     "output_type": "stream",
     "text": [
      "torch.Size([16, 1, 28, 28])\n"
     ]
    },
    {
     "data": {
      "text/plain": "<Figure size 432x288 with 1 Axes>",
      "image/png": "[encoded data removed]"
     },
     "metadata": {
      "needs_background": "light"
     },
     "output_type": "display_data"
    }
   ],
   "source": [
    "import torch\n",
    "import torchvision\n",
    "from torch.utils.tensorboard import SummaryWriter\n",
    "from torchvision import datasets, transforms\n",
    "\n",
    "# Writer will output to ./runs/ directory by default\n",
    "writer = SummaryWriter()\n",
    "testset = datasets.MNIST(root='data/testset', transform=transforms.ToTensor(), download=True)\n",
    "testsetloader = torch.utils.data.DataLoader(testset, batch_size=16, shuffle=True)  #TODO shuffle for random\n",
    "# transform = transforms.Compose([transforms.ToTensor(), transforms.Normalize((0.5,), (0.5,))])\n",
    "# trainset = datasets.MNIST('mnist_train', train=True, download=True, transform=transform)\n",
    "# trainloader = torch.utils.data.DataLoader(trainset, batch_size=64, shuffle=True)\n",
    "# model = torchvision.models.resnet50(False)\n",
    "# # Have ResNet model take in grayscale rather than RGB\n",
    "# model.conv1 = torch.nn.Conv2d(1, 64, kernel_size=7, stride=2, padding=3, bias=False)\n",
    "images, labels = next(iter(testsetloader))\n",
    "print(images.shape)\n",
    "plt.imshow(images[2,0,:,:])\n",
    "plt.imshow(images[3,0,:,:])\n",
    "grid = torchvision.utils.make_grid(images)\n",
    "writer.add_image('images', grid, 0)\n",
    "# writer.add_graph(model, images)\n",
    "writer.close()"
   ],
   "metadata": {
    "collapsed": false
   }
  },
  {
   "cell_type": "code",
   "execution_count": 116,
   "outputs": [
    {
     "name": "stdout",
     "output_type": "stream",
     "text": [
      "^C\r\n",
      "TensorFlow installation not found - running with reduced feature set.\r\n",
      "\r\n",
      "NOTE: Using experimental fast data loading logic. To disable, pass\r\n",
      "    \"--load_fast=false\" and report issues on GitHub. More details:\r\n",
      "    https://github.com/tensorflow/tensorboard/issues/4784\r\n",
      "\r\n",
      "Serving TensorBoard on localhost; to expose to the network, use a proxy or pass --bind_all\r\n",
      "TensorBoard 2.11.0 at http://localhost:6006/ (Press CTRL+C to quit)\r\n",
      "^C\r\n"
     ]
    }
   ],
   "source": [
    "!tensorboard --logdir /Users/dominikocsofszki/PycharmProjects/mlp/runs"
   ],
   "metadata": {
    "collapsed": false
   }
  },
  {
   "cell_type": "code",
   "execution_count": null,
   "outputs": [],
   "source": [],
   "metadata": {
    "collapsed": false
   }
  }
 ],
 "metadata": {
  "kernelspec": {
   "display_name": "Python 3",
   "language": "python",
   "name": "python3"
  },
  "language_info": {
   "codemirror_mode": {
    "name": "ipython",
    "version": 2
   },
   "file_extension": ".py",
   "mimetype": "text/x-python",
   "name": "python",
   "nbconvert_exporter": "python",
   "pygments_lexer": "ipython2",
   "version": "2.7.6"
  }
 },
 "nbformat": 4,
 "nbformat_minor": 0
}
