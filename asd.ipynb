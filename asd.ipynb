{
 "cells": [
  {
   "cell_type": "code",
   "execution_count": 24,
   "metadata": {
    "collapsed": true
   },
   "outputs": [],
   "source": [
    "# import torch\n",
    "# import model\n",
    "# import helper\n",
    "# import MyDataSet"
   ]
  },
  {
   "cell_type": "code",
   "execution_count": 25,
   "outputs": [],
   "source": [
    "# def return_counter_with_x_steps(z_one_image:torch.Tensor, steps_x_alpha_i:int=20):\n",
    "#     # STEPS = steps\n",
    "#     # STEPS = torch.linspace(1, steps_x_alpha_i, steps=steps_x_alpha_i)\n",
    "#     z_ones = torch.ones(steps_x_alpha_i+1)\n",
    "#     # torch.fill(z_ones,z_one_image.item())\n",
    "#     STEPS = torch.linspace(0, steps_x_alpha_i, steps=steps_x_alpha_i+1)\n",
    "#\n",
    "#     STEPS = STEPS.unsqueeze(dim = 1)\n",
    "#     STEPS = STEPS * z_one_image\n",
    "#     print(f'{STEPS = }')\n",
    "#     print(f'{z_one_image = }')\n",
    "#     print(f'{z_ones = }')\n",
    "#     print(f'{STEPS = }')\n",
    "#     z_one_image = z_ones * torch.t(z_one_image)\n",
    "#     # z_one_image = z_one_image.repeat(2,steps_x_alpha_i)\n",
    "#     print('------')\n",
    "#     print(f'{z_one_image = }')\n",
    "#     # print(STEPS.unsqueeze(dim = 1))\n",
    "#     iterweights = iter(pick_model.parameters())\n",
    "#     w = next(iterweights).data[0]\n",
    "#     w0 = next(iterweights).data[0]\n",
    "#     alpha_i = - (z_one_image * w + w0) / torch.t(w) * w\n",
    "#     # z_counter = z + torch.t(STEPS) * alpha_i * w\n",
    "#     # z_counter = z + STEPS * torch.t(alpha_i) * w\n",
    "#     z_counter = z + STEPS * alpha_i * w\n",
    "#\n",
    "#     with torch.no_grad():\n",
    "#         z_counter_recons_img = model_copy_vae.decode(z_counter)\n",
    "#         # plt.imshow(z_counter_recons_img.view(28,28))\n",
    "#         # print(f'{z_counter = }')\n",
    "#     print(z_counter_recons_img.view(-1, 1, 28, 28).shape)\n",
    "#     return z_counter_recons_img.view(-1, 1, 28, 28)\n",
    "#\n",
    "#\n",
    "#\n"
   ],
   "metadata": {
    "collapsed": false
   }
  },
  {
   "cell_type": "code",
   "execution_count": 26,
   "outputs": [
    {
     "name": "stdout",
     "output_type": "stream",
     "text": [
      "MyDataSets.MyDataSets_Subset_4_9.__init__\n"
     ]
    }
   ],
   "source": [
    "# model_copy = model.VaeFinal_only_one_hidden_copy()\n",
    "# model_copy = helper.import_model_name_weights_copy(model_x=model_copy, activate_eval=True)\n",
    "# # dataset_test_4 = MyDataSet.MyDataSets_Subset_4(batch_size_train=-1)\n",
    "# with torch.no_grad():\n",
    "#     dataset_49 = MyDataSet.MyDataSets_Subset_4_9(batch_size_train=-1)\n",
    "#     img_49_batch, label_49_batch = next(iter(dataset_49.train_loader_subset_changed_labels))\n",
    "#     rec49, mu49, sigma49 = model_copy(img_49_batch.clone())\n",
    "#     z = mu49"
   ],
   "metadata": {
    "collapsed": false
   }
  },
  {
   "cell_type": "code",
   "execution_count": 23,
   "outputs": [],
   "source": [
    "# counter_factuals = return_counter_with_x_steps(z_one_image=z[0], steps_x_alpha_i=20)\n",
    "# print(counter_factuals.shape)"
   ],
   "metadata": {
    "collapsed": false
   }
  },
  {
   "cell_type": "markdown",
   "source": [],
   "metadata": {
    "collapsed": false
   }
  },
  {
   "cell_type": "code",
   "execution_count": 53,
   "outputs": [
    {
     "name": "stdout",
     "output_type": "stream",
     "text": [
      "MyDataSets.MyDataSets_Subset_4_9.__init__\n"
     ]
    },
    {
     "data": {
      "text/plain": "<matplotlib.image.AxesImage at 0x14f7d0e80>"
     },
     "execution_count": 53,
     "metadata": {},
     "output_type": "execute_result"
    },
    {
     "data": {
      "text/plain": "<Figure size 432x288 with 1 Axes>",
      "image/png": "[encoded data removed]"
     },
     "metadata": {
      "needs_background": "light"
     },
     "output_type": "display_data"
    }
   ],
   "source": [
    "import torch\n",
    "import model\n",
    "import helper\n",
    "import MyDataSet\n",
    "import matplotlib.pyplot as plt\n",
    "import model_probit\n",
    "lattent_2class = model_probit.latent_space()\n",
    "lattent_2class = helper.import_model_name(model_x=lattent_2class, activate_eval=True)\n",
    "model_vae = model.VaeFinal_only_one_hidden_copy()\n",
    "model_vae = helper.import_model_name_weights_copy(model_x=model_vae, activate_eval=True)\n",
    "with torch.no_grad():\n",
    "    dataset_49 = MyDataSet.MyDataSets_Subset_4_9(batch_size_train=-1)\n",
    "    img_49_batch, label_49_batch = next(iter(dataset_49.train_loader_subset_changed_labels))\n",
    "    rec49, mu49, sigma49 = model_vae(img_49_batch.clone())\n",
    "    z = mu49\n",
    "def return_counter_with_steps(z,steps=20):\n",
    "    STEPS = steps\n",
    "    iterweights = iter(lattent_2class.parameters())\n",
    "    w = next(iterweights).data[0]\n",
    "    w0 = next(iterweights).data[0]\n",
    "    alpha_i = - (torch.t(z) * w + w0) / torch.t(w) * w\n",
    "    z_counter = z + STEPS * alpha_i*w\n",
    "\n",
    "    with torch.no_grad():\n",
    "        z_counter_recons_img = model_vae.decode(z_counter)\n",
    "        # plt.imshow(z_counter_recons_img.view(28,28))\n",
    "        # print(f'{z_counter = }')\n",
    "\n",
    "    return z_counter_recons_img.view(28,28)\n",
    "plt.imshow(return_counter_with_steps(z=z[20],steps=20))\n",
    "# plt.imshow(return_counter_with_steps(z=z[0],steps=100))"
   ],
   "metadata": {
    "collapsed": false
   }
  },
  {
   "cell_type": "code",
   "execution_count": 7,
   "outputs": [
    {
     "data": {
      "text/plain": "<matplotlib.image.AxesImage at 0x139ac75b0>"
     },
     "execution_count": 7,
     "metadata": {},
     "output_type": "execute_result"
    },
    {
     "data": {
      "text/plain": "<Figure size 432x288 with 1 Axes>",
      "image/png": "[encoded data removed]"
     },
     "metadata": {
      "needs_background": "light"
     },
     "output_type": "display_data"
    }
   ],
   "source": [
    "plt.imshow(img_49_batch[20].view(28,28))\n"
   ],
   "metadata": {
    "collapsed": false
   }
  },
  {
   "cell_type": "code",
   "execution_count": 13,
   "outputs": [],
   "source": [
    "device = 'cpu'"
   ],
   "metadata": {
    "collapsed": false
   }
  },
  {
   "cell_type": "code",
   "execution_count": 14,
   "outputs": [],
   "source": [
    "def MMD(x, y, kernel):\n",
    "    \"\"\"Emprical maximum mean discrepancy. The lower the result, the more evidence that distributions are the same.\n",
    "\n",
    "    Args:\n",
    "        x: first sample, distribution P\n",
    "        y: second sample, distribution Q\n",
    "        kernel: kernel type such as \"multiscale\" or \"rbf\"\n",
    "    \"\"\"\n",
    "    xx, yy, zz = torch.mm(x, x.t()), torch.mm(y, y.t()), torch.mm(x, y.t())\n",
    "    rx = (xx.diag().unsqueeze(0).expand_as(xx))\n",
    "    ry = (yy.diag().unsqueeze(0).expand_as(yy))\n",
    "\n",
    "    dxx = rx.t() + rx - 2. * xx # Used for A in (1)\n",
    "    dyy = ry.t() + ry - 2. * yy # Used for B in (1)\n",
    "    dxy = rx.t() + ry - 2. * zz # Used for C in (1)\n",
    "\n",
    "    XX, YY, XY = (torch.zeros(xx.shape).to(device),\n",
    "                  torch.zeros(xx.shape).to(device),\n",
    "                  torch.zeros(xx.shape).to(device))\n",
    "\n",
    "    if kernel == \"multiscale\":\n",
    "\n",
    "        bandwidth_range = [0.2, 0.5, 0.9, 1.3]\n",
    "        for a in bandwidth_range:\n",
    "            XX += a**2 * (a**2 + dxx)**-1\n",
    "            YY += a**2 * (a**2 + dyy)**-1\n",
    "            XY += a**2 * (a**2 + dxy)**-1\n",
    "\n",
    "    if kernel == \"rbf\":\n",
    "\n",
    "        bandwidth_range = [10, 15, 20, 50]\n",
    "        for a in bandwidth_range:\n",
    "            XX += torch.exp(-0.5*dxx/a)\n",
    "            YY += torch.exp(-0.5*dyy/a)\n",
    "            XY += torch.exp(-0.5*dxy/a)\n",
    "\n",
    "\n",
    "\n",
    "    return torch.mean(XX + YY - 2. * XY)"
   ],
   "metadata": {
    "collapsed": false
   }
  },
  {
   "cell_type": "code",
   "execution_count": 54,
   "outputs": [
    {
     "name": "stdout",
     "output_type": "stream",
     "text": [
      "X.shape = torch.Size([11791, 1, 28, 28])\n",
      "x_counter.shape = torch.Size([1, 28, 28])\n",
      "-------\n",
      "X.shape = torch.Size([11791, 784])\n",
      "x_counter.shape = torch.Size([1, 784])\n",
      "tensor(3.9557)\n"
     ]
    }
   ],
   "source": [
    "# kernel ='multiscale'\n",
    "# x= img_49_batch.view(-1,28*28)\n",
    "#\n",
    "# y,_,_= model_vae(x[0].view(-1,28*28))\n",
    "# print(f'{y.shape = }')\n",
    "# print(f'{x.shape = }')\n",
    "# mmd = MMD(x=x,y=y,kernel=kernel)\n",
    "# print(mmd)\n",
    "\n",
    "def return_mmd(X, x_counter) :\n",
    "    print(f'{X.shape = }')\n",
    "    print(f'{x_counter.shape = }')\n",
    "    kernel ='multiscale'\n",
    "    X= X.view(-1,28*28)\n",
    "    x_counter= x_counter.view(-1,28*28)\n",
    "    # y,_,_= model_vae(X[0].view(-1,28*28))\n",
    "    print('-------')\n",
    "    print(f'{X.shape = }')\n",
    "    print(f'{x_counter.shape = }')\n",
    "    mmd = MMD(x=X,y=x_counter,kernel=kernel)\n",
    "    return mmd\n",
    "mmd = return_mmd(X=img_49_batch,x_counter=img_49_batch[20])\n",
    "print(mmd)\n",
    "counter_fact = return_counter_with_steps(z=z[20],steps=20)"
   ],
   "metadata": {
    "collapsed": false
   }
  },
  {
   "cell_type": "code",
   "execution_count": 47,
   "outputs": [
    {
     "name": "stdout",
     "output_type": "stream",
     "text": [
      "y.shape = torch.Size([1, 784])\n",
      "x.shape = torch.Size([11791, 784])\n",
      "tensor(3.9485, grad_fn=<MeanBackward0>)\n"
     ]
    }
   ],
   "source": [
    "kernel ='multiscale'\n",
    "x= img_49_batch.view(-1,28*28)\n",
    "\n",
    "y,_,_= model_vae(x[0].view(-1,28*28))\n",
    "print(f'{y.shape = }')\n",
    "print(f'{x.shape = }')\n",
    "mmd = MMD(x=x,y=y,kernel=kernel)\n",
    "print(mmd)"
   ],
   "metadata": {
    "collapsed": false
   }
  },
  {
   "cell_type": "code",
   "execution_count": null,
   "outputs": [],
   "source": [],
   "metadata": {
    "collapsed": false
   }
  },
  {
   "cell_type": "code",
   "execution_count": 58,
   "outputs": [],
   "source": [
    "def MMD(x, y, kernel):\n",
    "    \"\"\"Emprical maximum mean discrepancy. The lower the result, the more evidence that distributions are the same.\n",
    "\n",
    "    Args:\n",
    "        x: first sample, distribution P\n",
    "        y: second sample, distribution Q\n",
    "        kernel: kernel type such as \"multiscale\" or \"rbf\"\n",
    "    \"\"\"\n",
    "    xx, yy, zz = torch.mm(x, x.t()), torch.mm(y, y.t()), torch.mm(x, y.t())\n",
    "    rx = (xx.diag().unsqueeze(0).expand_as(xx))\n",
    "    ry = (yy.diag().unsqueeze(0).expand_as(yy))\n",
    "\n",
    "    dxx = rx.t() + rx - 2. * xx # Used for A in (1)\n",
    "    dyy = ry.t() + ry - 2. * yy # Used for B in (1)\n",
    "    dxy = rx.t() + ry - 2. * zz # Used for C in (1)\n",
    "\n",
    "    XX, YY, XY = (torch.zeros(xx.shape).to(device),\n",
    "              torch.zeros(xx.shape).to(device),\n",
    "              torch.zeros(xx.shape).to(device))\n",
    "\n",
    "    if kernel == \"multiscale\":\n",
    "\n",
    "        bandwidth_range = [0.2, 0.5, 0.9, 1.3]\n",
    "        for a in bandwidth_range:\n",
    "            XX += a**2 * (a**2 + dxx)**-1\n",
    "            YY += a**2 * (a**2 + dyy)**-1\n",
    "            XY += a**2 * (a**2 + dxy)**-1\n",
    "\n",
    "    if kernel == \"rbf\":\n",
    "\n",
    "        bandwidth_range = [10, 15, 20, 50]\n",
    "        for a in bandwidth_range:\n",
    "            XX += torch.exp(-0.5*dxx/a)\n",
    "            YY += torch.exp(-0.5*dyy/a)\n",
    "            XY += torch.exp(-0.5*dxy/a)\n",
    "\n",
    "\n",
    "    return torch.mean(XY)\n",
    "    # return torch.mean(XX + YY - 2. * XY)"
   ],
   "metadata": {
    "collapsed": false
   }
  },
  {
   "cell_type": "code",
   "execution_count": 79,
   "outputs": [
    {
     "name": "stdout",
     "output_type": "stream",
     "text": [
      "X.shape = torch.Size([11791, 1, 28, 28])\n",
      "x_counter.shape = torch.Size([1, 28, 28])\n",
      "-------\n",
      "X.shape = torch.Size([11791, 784])\n",
      "x_counter.shape = torch.Size([1, 784])\n",
      "tensor(0.0465)\n",
      "X.shape = torch.Size([11791, 1, 28, 28])\n",
      "x_counter.shape = torch.Size([1, 784])\n",
      "-------\n",
      "X.shape = torch.Size([11791, 784])\n",
      "x_counter.shape = torch.Size([1, 784])\n",
      "X.shape = torch.Size([11791, 1, 28, 28])\n",
      "x_counter.shape = torch.Size([28, 28])\n",
      "-------\n",
      "X.shape = torch.Size([11791, 784])\n",
      "x_counter.shape = torch.Size([1, 784])\n"
     ]
    },
    {
     "data": {
      "text/plain": "<matplotlib.image.AxesImage at 0x14f86b0d0>"
     },
     "execution_count": 79,
     "metadata": {},
     "output_type": "execute_result"
    },
    {
     "data": {
      "text/plain": "<Figure size 432x288 with 1 Axes>",
      "image/png": "[encoded data removed]"
     },
     "metadata": {
      "needs_background": "light"
     },
     "output_type": "display_data"
    }
   ],
   "source": [
    "# kernel ='multiscale'\n",
    "# x= img_49_batch.view(-1,28*28)\n",
    "#\n",
    "# y,_,_= model_vae(x[0].view(-1,28*28))\n",
    "# print(f'{y.shape = }')\n",
    "# print(f'{x.shape = }')\n",
    "# mmd = MMD(x=x,y=y,kernel=kernel)\n",
    "# print(mmd)\n",
    "\n",
    "def return_mmd(X, x_counter) :\n",
    "    print(f'{X.shape = }')\n",
    "    print(f'{x_counter.shape = }')\n",
    "    kernel ='multiscale'\n",
    "    X= X.view(-1,28*28)\n",
    "    x_counter= x_counter.view(-1,28*28)\n",
    "    # y,_,_= model_vae(X[0].view(-1,28*28))\n",
    "    print('-------')\n",
    "    print(f'{X.shape = }')\n",
    "    print(f'{x_counter.shape = }')\n",
    "    mmd = MMD(x=X,y=x_counter,kernel=kernel)\n",
    "    return mmd\n",
    "index = 0\n",
    "pick_img = img_49_batch[index]\n",
    "mmd_total = return_mmd(X=img_49_batch,x_counter=pick_img)\n",
    "print(mmd_total)\n",
    "reconstruct_img,_,_ = model_vae(pick_img)\n",
    "mmd_reconstruct_img = return_mmd(X=img_49_batch,x_counter=reconstruct_img)\n",
    "\n",
    "counter_factual = return_counter_with_steps(z=z[index],steps=200)\n",
    "mmd_counterfactual = return_mmd(X=img_49_batch,x_counter=counter_factual)\n",
    "plt.imshow(counter_factual)\n",
    "\n",
    "\n"
   ],
   "metadata": {
    "collapsed": false
   }
  },
  {
   "cell_type": "code",
   "execution_count": 80,
   "outputs": [
    {
     "name": "stdout",
     "output_type": "stream",
     "text": [
      "mmd_total = tensor(0.0465)\n",
      "mmd_reconstruct_img = tensor(0.0587, grad_fn=<MeanBackward0>)\n",
      "mmd_counterfactual = tensor(0.0043)\n"
     ]
    }
   ],
   "source": [
    "print(f'{mmd_total = }')\n",
    "print(f'{mmd_reconstruct_img = }')\n",
    "print(f'{mmd_counterfactual = }')"
   ],
   "metadata": {
    "collapsed": false
   }
  },
  {
   "cell_type": "code",
   "execution_count": null,
   "outputs": [],
   "source": [],
   "metadata": {
    "collapsed": false
   }
  }
 ],
 "metadata": {
  "kernelspec": {
   "display_name": "Python 3",
   "language": "python",
   "name": "python3"
  },
  "language_info": {
   "codemirror_mode": {
    "name": "ipython",
    "version": 2
   },
   "file_extension": ".py",
   "mimetype": "text/x-python",
   "name": "python",
   "nbconvert_exporter": "python",
   "pygments_lexer": "ipython2",
   "version": "2.7.6"
  }
 },
 "nbformat": 4,
 "nbformat_minor": 0
}
